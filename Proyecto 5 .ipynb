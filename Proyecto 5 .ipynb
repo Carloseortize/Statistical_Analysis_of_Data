{
 "cells": [
  {
   "cell_type": "markdown",
   "metadata": {},
   "source": [
    "Hola &#x1F600;\n",
    "\n",
    "Soy **Hesus Garcia**  como \"Jesús\" pero con H. Sé que puede ser confuso al principio, pero una vez que lo recuerdes, ¡nunca lo olvidarás! &#x1F31D;\t. Como revisor de código de Triple-Ten, estoy emocionado de examinar tus proyectos y ayudarte a mejorar tus habilidades en programación. si has cometido algún error, no te preocupes, pues ¡estoy aquí para ayudarte a corregirlo y hacer que tu código brille! &#x1F31F;. Si encuentro algún detalle en tu código, te lo señalaré para que lo corrijas, ya que mi objetivo es ayudarte a prepararte para un ambiente de trabajo real, donde el líder de tu equipo actuaría de la misma manera. Si no puedes solucionar el problema, te proporcionaré más información en la próxima oportunidad. Cuando encuentres un comentario,  **por favor, no los muevas, no los modifiques ni los borres**. \n",
    "\n",
    "Revisaré cuidadosamente todas las implementaciones que has realizado para cumplir con los requisitos y te proporcionaré mis comentarios de la siguiente manera:\n",
    "\n",
    "\n",
    "<div class=\"alert alert-block alert-success\">\n",
    "<b>Comentario del revisor</b> <a class=“tocSkip”></a>\n",
    "Si todo está perfecto.\n",
    "</div>\n",
    "\n",
    "<div class=\"alert alert-block alert-warning\">\n",
    "<b>Comentario del revisor</b> <a class=“tocSkip”></a>\n",
    "Si tu código está bien pero se puede mejorar o hay algún detalle que le hace falta.\n",
    "</div>\n",
    "\n",
    "<div class=\"alert alert-block alert-danger\">\n",
    "<b>Comentario del revisor</b> <a class=“tocSkip”></a>\n",
    "Si de pronto hace falta algo o existe algún problema con tu código o conclusiones.\n",
    "</div>\n",
    "\n",
    "Puedes responderme de esta forma:\n",
    "<div class=\"alert alert-block alert-info\">\n",
    "<b>Respuesta del estudiante</b> <a class=“tocSkip”></a>\n",
    "</div>\n",
    "\n",
    "</br>\n",
    "\n",
    "**¡Empecemos!**  &#x1F680;"
   ]
  },
  {
   "cell_type": "markdown",
   "metadata": {},
   "source": [
    "**MEGALINE**"
   ]
  },
  {
   "cell_type": "markdown",
   "metadata": {},
   "source": [
    "<h1>Tabla de contenido<span class=\"tocSkip\"></span></h1>\n",
    "<div class=\"toc\"><ul class=\"toc-item\"><li><span><a href=\"#¿Cuál-es-la-mejor-tarifa?\" data-toc-modified-id=\"¿Cuál-es-la-mejor-tarifa?-1\"><span class=\"toc-item-num\">1&nbsp;&nbsp;</span>¿Cuál es la mejor tarifa?</a></span><ul class=\"toc-item\"><li><span><a href=\"#Introducción\" data-toc-modified-id=\"Introducción-1.1\"><span class=\"toc-item-num\">1.1&nbsp;&nbsp;</span>Introducción</a></span><ul class=\"toc-item\"><li><span><a href=\"#Objetivos\" data-toc-modified-id=\"Objetivos-1.1.1\"><span class=\"toc-item-num\">1.1.1&nbsp;&nbsp;</span>Objetivos</a></span></li></ul></li></ul></li><li><span><a href=\"#Inicialización\" data-toc-modified-id=\"Inicialización-2\"><span class=\"toc-item-num\">2&nbsp;&nbsp;</span>Inicialización</a></span><ul class=\"toc-item\"><li><span><a href=\"#Cargar-datos\" data-toc-modified-id=\"Cargar-datos-2.1\"><span class=\"toc-item-num\">2.1&nbsp;&nbsp;</span>Cargar datos</a></span></li></ul></li><li><span><a href=\"#Preparar-los-datos\" data-toc-modified-id=\"Preparar-los-datos-3\"><span class=\"toc-item-num\">3&nbsp;&nbsp;</span>Preparar los datos</a></span><ul class=\"toc-item\"><li><span><a href=\"#Tarifas\" data-toc-modified-id=\"Tarifas-3.1\"><span class=\"toc-item-num\">3.1&nbsp;&nbsp;</span>Tarifas</a></span><ul class=\"toc-item\"><li><span><a href=\"#Corregir-datos\" data-toc-modified-id=\"Corregir-datos-3.1.1\"><span class=\"toc-item-num\">3.1.1&nbsp;&nbsp;</span>Corregir datos</a></span></li><li><span><a href=\"#Enriquecer-los-datos\" data-toc-modified-id=\"Enriquecer-los-datos-3.1.2\"><span class=\"toc-item-num\">3.1.2&nbsp;&nbsp;</span>Enriquecer los datos</a></span></li></ul></li><li><span><a href=\"#Usuarios/as\" data-toc-modified-id=\"Usuarios/as-3.2\"><span class=\"toc-item-num\">3.2&nbsp;&nbsp;</span>Usuarios/as</a></span><ul class=\"toc-item\"><li><span><a href=\"#Corregir-los-datos\" data-toc-modified-id=\"Corregir-los-datos-3.2.1\"><span class=\"toc-item-num\">3.2.1&nbsp;&nbsp;</span>Corregir los datos</a></span></li><li><span><a href=\"#Enriquecer-los-datos\" data-toc-modified-id=\"Enriquecer-los-datos-3.2.2\"><span class=\"toc-item-num\">3.2.2&nbsp;&nbsp;</span>Enriquecer los datos</a></span></li></ul></li><li><span><a href=\"#Llamadas\" data-toc-modified-id=\"Llamadas-3.3\"><span class=\"toc-item-num\">3.3&nbsp;&nbsp;</span>Llamadas</a></span><ul class=\"toc-item\"><li><span><a href=\"#Corregir-los-datos\" data-toc-modified-id=\"Corregir-los-datos-3.3.1\"><span class=\"toc-item-num\">3.3.1&nbsp;&nbsp;</span>Corregir los datos</a></span></li><li><span><a href=\"#Enriquecer-los-datos\" data-toc-modified-id=\"Enriquecer-los-datos-3.3.2\"><span class=\"toc-item-num\">3.3.2&nbsp;&nbsp;</span>Enriquecer los datos</a></span></li></ul></li><li><span><a href=\"#Mensajes\" data-toc-modified-id=\"Mensajes-3.4\"><span class=\"toc-item-num\">3.4&nbsp;&nbsp;</span>Mensajes</a></span><ul class=\"toc-item\"><li><span><a href=\"#Corregir-los-datos\" data-toc-modified-id=\"Corregir-los-datos-3.4.1\"><span class=\"toc-item-num\">3.4.1&nbsp;&nbsp;</span>Corregir los datos</a></span></li><li><span><a href=\"#Enriquecer-los-datos\" data-toc-modified-id=\"Enriquecer-los-datos-3.4.2\"><span class=\"toc-item-num\">3.4.2&nbsp;&nbsp;</span>Enriquecer los datos</a></span></li></ul></li><li><span><a href=\"#Internet\" data-toc-modified-id=\"Internet-3.5\"><span class=\"toc-item-num\">3.5&nbsp;&nbsp;</span>Internet</a></span><ul class=\"toc-item\"><li><span><a href=\"#Corregir-los-datos\" data-toc-modified-id=\"Corregir-los-datos-3.5.1\"><span class=\"toc-item-num\">3.5.1&nbsp;&nbsp;</span>Corregir los datos</a></span></li><li><span><a href=\"#Enriquecer-los-datos\" data-toc-modified-id=\"Enriquecer-los-datos-3.5.2\"><span class=\"toc-item-num\">3.5.2&nbsp;&nbsp;</span>Enriquecer los datos</a></span></li></ul></li></ul></li><li><span><a href=\"#Estudiar-las-condiciones-de-las-tarifas\" data-toc-modified-id=\"Estudiar-las-condiciones-de-las-tarifas-4\"><span class=\"toc-item-num\">4&nbsp;&nbsp;</span>Estudiar las condiciones de las tarifas</a></span></li><li><span><a href=\"#Agregar-datos-por-usuario\" data-toc-modified-id=\"Agregar-datos-por-usuario-5\"><span class=\"toc-item-num\">5&nbsp;&nbsp;</span>Agregar datos por usuario</a></span><ul class=\"toc-item\"><li><span><a href=\"#Consolidado\" data-toc-modified-id=\"Consolidado-5.1\"><span class=\"toc-item-num\">5.1&nbsp;&nbsp;</span>Consolidado</a></span></li></ul></li><li><span><a href=\"#Estudia-el-comportamiento-de-usuario\" data-toc-modified-id=\"Estudia-el-comportamiento-de-usuario-6\"><span class=\"toc-item-num\">6&nbsp;&nbsp;</span>Estudia el comportamiento de usuario</a></span><ul class=\"toc-item\"><li><span><a href=\"#Llamadas\" data-toc-modified-id=\"Llamadas-6.1\"><span class=\"toc-item-num\">6.1&nbsp;&nbsp;</span>Llamadas</a></span></li><li><span><a href=\"#Mensajes\" data-toc-modified-id=\"Mensajes-6.2\"><span class=\"toc-item-num\">6.2&nbsp;&nbsp;</span>Mensajes</a></span></li><li><span><a href=\"#Internet\" data-toc-modified-id=\"Internet-6.3\"><span class=\"toc-item-num\">6.3&nbsp;&nbsp;</span>Internet</a></span></li><li><span><a href=\"#Ingreso\" data-toc-modified-id=\"Ingreso-6.4\"><span class=\"toc-item-num\">6.4&nbsp;&nbsp;</span>Ingreso</a></span></li></ul></li><li><span><a href=\"#Prueba-las-hipótesis-estadísticas\" data-toc-modified-id=\"Prueba-las-hipótesis-estadísticas-7\"><span class=\"toc-item-num\">7&nbsp;&nbsp;</span>Prueba las hipótesis estadísticas</a></span><ul class=\"toc-item\"><li><span><a href=\"#Hipotesis-1\" data-toc-modified-id=\"Hipotesis-1-7.1\"><span class=\"toc-item-num\">7.1&nbsp;&nbsp;</span>Hipotesis 1</a></span></li><li><span><a href=\"#Hipotesis-2\" data-toc-modified-id=\"Hipotesis-2-7.2\"><span class=\"toc-item-num\">7.2&nbsp;&nbsp;</span>Hipotesis 2</a></span></li><li><span><a href=\"#Hipotesis-3\" data-toc-modified-id=\"Hipotesis-3-7.3\"><span class=\"toc-item-num\">7.3&nbsp;&nbsp;</span>Hipotesis 3</a></span></li><li><span><a href=\"#Hipotesis-4\" data-toc-modified-id=\"Hipotesis-4-7.4\"><span class=\"toc-item-num\">7.4&nbsp;&nbsp;</span>Hipotesis 4</a></span></li></ul></li><li><span><a href=\"#Conclusión-general\" data-toc-modified-id=\"Conclusión-general-8\"><span class=\"toc-item-num\">8&nbsp;&nbsp;</span>Conclusión general</a></span></li></ul></div>"
   ]
  },
  {
   "cell_type": "markdown",
   "metadata": {},
   "source": [
    "<div class=\"alert alert-block alert-warning\">\n",
    "<b>Comentario del revisor</b> <a class=“tocSkip”></a>\n",
    "Considera la posibilidad de incluir una tabla de contenidos al inicio de tu proyecto. Esto no solo mejorará la estructura y presentación de tu análisis, sino que también facilitará la navegación y comprensión de los distintos temas tratados, especialmente para proyectos extensos con múltiples secciones y subsecciones. Una tabla de contenidos bien organizada puede mejorar significativamente la experiencia del lector y destacar la profesionalidad de tu trabajo.\n",
    "</div>\n"
   ]
  },
  {
   "cell_type": "markdown",
   "metadata": {
    "id": "3rYiDeEH0q0f"
   },
   "source": [
    "# ¿Cuál es la mejor tarifa?\n",
    "\n",
    "Trabajas como analista para el operador de telecomunicaciones Megaline. La empresa ofrece a sus clientes dos tarifas de prepago, Surf y Ultimate. El departamento comercial quiere saber cuál de las tarifas genera más ingresos para poder ajustar el presupuesto de publicidad.\n",
    "\n",
    "Vas a realizar un análisis preliminar de las tarifas basado en una selección de clientes relativamente pequeña. Tendrás los datos de 500 clientes de Megaline: quiénes son los clientes, de dónde son, qué tarifa usan, así como la cantidad de llamadas que hicieron y los mensajes de texto que enviaron en 2018. Tu trabajo es analizar el comportamiento de los clientes y determinar qué tarifa de prepago genera más ingresos."
   ]
  },
  {
   "cell_type": "markdown",
   "metadata": {
    "id": "VNddPNRQ0q0w"
   },
   "source": [
    "## Introducción\n",
    "\n",
    "Como analista de datos para el operador de telecomunicaciones Megaline, nuestro objetivo principal es identificar cuál de sus tarifas genera mayores ingresos. Con esta información, podremos orientar de manera más efectiva las campañas de marketing y maximizar el retorno de inversión en futuras estrategias publicitarias.\n",
    "\n",
    "Para lograr este objetivo, realizaremos un análisis del consumo de los diferentes servicios ofrecidos por la empresa, tomando en cuenta un grupo seleccionado de clientes. Este análisis permitirá identificar patrones de uso, tendencias de consumo, y preferencias de los usuarios, lo que será clave para optimizar las campañas de marketing y mejorar la oferta de servicios.\n"
   ]
  },
  {
   "cell_type": "markdown",
   "metadata": {},
   "source": [
    "### Objetivos \n",
    "\n",
    "- El objetivo general del proyecto es llevar a cabo una limpieza de datos. Esto incluirá asegurar que todos los datos estén en las mismas unidades de medida, que cada DataFrame contenga la información necesaria y que cada columna tenga el tipo de dato correcto para garantizar un cómputo preciso durante el análisis. Esta etapa es fundamental para obtener resultados confiables y facilitar la posterior visualización y toma de decisiones.\n",
    "\n",
    "- Además, uniremos los DataFrames en un único DataFrame consolidado, lo que permitirá tener toda la información en un solo lugar y facilitará el análisis. Esta integración simplificará el proceso de identificación de patrones y tendencias clave en el consumo de los servicios.\n",
    "\n",
    "- Posteriormente, describiremos el comportamiento de los datos seleccionados mediante el cálculo de valores estadísticos como máximos, medias y distribuciones de consumo. Esto nos permitirá obtener una visión más clara sobre cómo los clientes utilizan los servicios y detectar posibles outliers o tendencias destacadas en el uso de las diferentes tarifas.\n",
    "\n",
    "- Por último, realizaremos pruebas de hipótesis para validar las conclusiones obtenidas a partir del análisis descriptivo. Estas pruebas permitirán determinar si las diferencias observadas entre las tarifas y los comportamientos de consumo son estadísticamente significativas, lo que aportará una mayor solidez a las recomendaciones finales del proyecto."
   ]
  },
  {
   "cell_type": "markdown",
   "metadata": {
    "id": "MQi4IPy70q0y"
   },
   "source": [
    "# Inicialización"
   ]
  },
  {
   "cell_type": "code",
   "execution_count": 1,
   "metadata": {
    "id": "MtYIuBxu0q0z"
   },
   "outputs": [],
   "source": [
    "import pandas as pd\n",
    "import numpy as np\n",
    "from scipy import stats as st \n",
    "from matplotlib import pyplot as plt\n",
    "\n",
    "# Cargar todas las librerías\n",
    "\n"
   ]
  },
  {
   "cell_type": "markdown",
   "metadata": {
    "id": "4ysWWC5i0q00"
   },
   "source": [
    "## Cargar datos"
   ]
  },
  {
   "cell_type": "code",
   "execution_count": 2,
   "metadata": {
    "id": "CCqPW7rS0q01"
   },
   "outputs": [],
   "source": [
    "calls = pd.read_csv(\"/datasets/megaline_calls.csv\")\n",
    "internet = pd.read_csv(\"/datasets/megaline_internet.csv\")\n",
    "messages = pd.read_csv(\"/datasets/megaline_messages.csv\")\n",
    "plans = pd.read_csv(\"/datasets/megaline_plans.csv\")\n",
    "users = pd.read_csv(\"/datasets/megaline_users.csv\")\n",
    "\n",
    "# Carga los archivos de datos en diferentes DataFrames"
   ]
  },
  {
   "cell_type": "markdown",
   "metadata": {
    "id": "69qqoJ3r0q01"
   },
   "source": [
    "# Preparar los datos"
   ]
  },
  {
   "cell_type": "markdown",
   "metadata": {
    "id": "vUuZw80S0q01"
   },
   "source": [
    "En la fase de preparación de datos, realizaremos una limpieza, corregiremos los tipos de datos si es necesario y evaluaremos la presencia de espacios ausentes. Esto nos permitirá asegurar la calidad y consistencia de los datos antes de proceder con el análisis."
   ]
  },
  {
   "cell_type": "markdown",
   "metadata": {
    "id": "ohBhimvH0q01"
   },
   "source": [
    "## Tarifas"
   ]
  },
  {
   "cell_type": "code",
   "execution_count": 3,
   "metadata": {
    "id": "GptqP3Q40q02"
   },
   "outputs": [
    {
     "name": "stdout",
     "output_type": "stream",
     "text": [
      "<class 'pandas.core.frame.DataFrame'>\n",
      "RangeIndex: 2 entries, 0 to 1\n",
      "Data columns (total 8 columns):\n",
      " #   Column                 Non-Null Count  Dtype  \n",
      "---  ------                 --------------  -----  \n",
      " 0   messages_included      2 non-null      int64  \n",
      " 1   mb_per_month_included  2 non-null      int64  \n",
      " 2   minutes_included       2 non-null      int64  \n",
      " 3   usd_monthly_pay        2 non-null      int64  \n",
      " 4   usd_per_gb             2 non-null      int64  \n",
      " 5   usd_per_message        2 non-null      float64\n",
      " 6   usd_per_minute         2 non-null      float64\n",
      " 7   plan_name              2 non-null      object \n",
      "dtypes: float64(2), int64(5), object(1)\n",
      "memory usage: 256.0+ bytes\n"
     ]
    }
   ],
   "source": [
    "# Imprime la información general/resumida sobre el DataFrame de las tarifas\n",
    "plans.info()\n"
   ]
  },
  {
   "cell_type": "code",
   "execution_count": 4,
   "metadata": {
    "scrolled": true
   },
   "outputs": [
    {
     "data": {
      "text/html": [
       "<div>\n",
       "<style scoped>\n",
       "    .dataframe tbody tr th:only-of-type {\n",
       "        vertical-align: middle;\n",
       "    }\n",
       "\n",
       "    .dataframe tbody tr th {\n",
       "        vertical-align: top;\n",
       "    }\n",
       "\n",
       "    .dataframe thead th {\n",
       "        text-align: right;\n",
       "    }\n",
       "</style>\n",
       "<table border=\"1\" class=\"dataframe\">\n",
       "  <thead>\n",
       "    <tr style=\"text-align: right;\">\n",
       "      <th></th>\n",
       "      <th>messages_included</th>\n",
       "      <th>mb_per_month_included</th>\n",
       "      <th>minutes_included</th>\n",
       "      <th>usd_monthly_pay</th>\n",
       "      <th>usd_per_gb</th>\n",
       "      <th>usd_per_message</th>\n",
       "      <th>usd_per_minute</th>\n",
       "      <th>plan_name</th>\n",
       "    </tr>\n",
       "  </thead>\n",
       "  <tbody>\n",
       "    <tr>\n",
       "      <th>0</th>\n",
       "      <td>50</td>\n",
       "      <td>15360</td>\n",
       "      <td>500</td>\n",
       "      <td>20</td>\n",
       "      <td>10</td>\n",
       "      <td>0.03</td>\n",
       "      <td>0.03</td>\n",
       "      <td>surf</td>\n",
       "    </tr>\n",
       "    <tr>\n",
       "      <th>1</th>\n",
       "      <td>1000</td>\n",
       "      <td>30720</td>\n",
       "      <td>3000</td>\n",
       "      <td>70</td>\n",
       "      <td>7</td>\n",
       "      <td>0.01</td>\n",
       "      <td>0.01</td>\n",
       "      <td>ultimate</td>\n",
       "    </tr>\n",
       "  </tbody>\n",
       "</table>\n",
       "</div>"
      ],
      "text/plain": [
       "   messages_included  mb_per_month_included  minutes_included  \\\n",
       "0                 50                  15360               500   \n",
       "1               1000                  30720              3000   \n",
       "\n",
       "   usd_monthly_pay  usd_per_gb  usd_per_message  usd_per_minute plan_name  \n",
       "0               20          10             0.03            0.03      surf  \n",
       "1               70           7             0.01            0.01  ultimate  "
      ]
     },
     "execution_count": 4,
     "metadata": {},
     "output_type": "execute_result"
    }
   ],
   "source": [
    "# Imprime una muestra de los datos para las tarifas\n",
    "plans\n"
   ]
  },
  {
   "cell_type": "markdown",
   "metadata": {
    "id": "mEc_3_hs0q02"
   },
   "source": [
    "**El DataFrame de tarifas contiene todos los datos completos y correctamente tipificados para cada columna. Cuenta con 8 columnas y 2 filas, sin espacios faltantes, lo que asegura que el análisis se pueda realizar sin necesidad de un preprocesamiento adicional en este conjunto de datos.**"
   ]
  },
  {
   "cell_type": "markdown",
   "metadata": {
    "id": "R3C05i1l0q03"
   },
   "source": [
    "### Corregir datos"
   ]
  },
  {
   "cell_type": "markdown",
   "metadata": {
    "id": "bIi8StZI0q03"
   },
   "source": [
    "Todo está en orden, no se necesitan realizar correcciones en los datos del DataFrame. El DataFrame de tarifas tiene todos los datos completos, con el tipo de dato correcto para cada columna, y no presenta espacios faltantes. Esto nos permite proceder directamente con el análisis sin necesidad de realizar un preprocesamiento adicional."
   ]
  },
  {
   "cell_type": "markdown",
   "metadata": {
    "id": "LJir7bml0q03"
   },
   "source": [
    "### Enriquecer los datos"
   ]
  },
  {
   "cell_type": "code",
   "execution_count": 5,
   "metadata": {},
   "outputs": [
    {
     "data": {
      "text/html": [
       "<div>\n",
       "<style scoped>\n",
       "    .dataframe tbody tr th:only-of-type {\n",
       "        vertical-align: middle;\n",
       "    }\n",
       "\n",
       "    .dataframe tbody tr th {\n",
       "        vertical-align: top;\n",
       "    }\n",
       "\n",
       "    .dataframe thead th {\n",
       "        text-align: right;\n",
       "    }\n",
       "</style>\n",
       "<table border=\"1\" class=\"dataframe\">\n",
       "  <thead>\n",
       "    <tr style=\"text-align: right;\">\n",
       "      <th></th>\n",
       "      <th>messages_included</th>\n",
       "      <th>mb_per_month_included</th>\n",
       "      <th>minutes_included</th>\n",
       "      <th>usd_monthly_pay</th>\n",
       "      <th>usd_per_gb</th>\n",
       "      <th>usd_per_message</th>\n",
       "      <th>usd_per_minute</th>\n",
       "      <th>plan_name</th>\n",
       "      <th>gb_per_month_included</th>\n",
       "    </tr>\n",
       "  </thead>\n",
       "  <tbody>\n",
       "    <tr>\n",
       "      <th>0</th>\n",
       "      <td>50</td>\n",
       "      <td>15360</td>\n",
       "      <td>500</td>\n",
       "      <td>20</td>\n",
       "      <td>10</td>\n",
       "      <td>0.03</td>\n",
       "      <td>0.03</td>\n",
       "      <td>surf</td>\n",
       "      <td>15.0</td>\n",
       "    </tr>\n",
       "    <tr>\n",
       "      <th>1</th>\n",
       "      <td>1000</td>\n",
       "      <td>30720</td>\n",
       "      <td>3000</td>\n",
       "      <td>70</td>\n",
       "      <td>7</td>\n",
       "      <td>0.01</td>\n",
       "      <td>0.01</td>\n",
       "      <td>ultimate</td>\n",
       "      <td>30.0</td>\n",
       "    </tr>\n",
       "  </tbody>\n",
       "</table>\n",
       "</div>"
      ],
      "text/plain": [
       "   messages_included  mb_per_month_included  minutes_included  \\\n",
       "0                 50                  15360               500   \n",
       "1               1000                  30720              3000   \n",
       "\n",
       "   usd_monthly_pay  usd_per_gb  usd_per_message  usd_per_minute plan_name  \\\n",
       "0               20          10             0.03            0.03      surf   \n",
       "1               70           7             0.01            0.01  ultimate   \n",
       "\n",
       "   gb_per_month_included  \n",
       "0                   15.0  \n",
       "1                   30.0  "
      ]
     },
     "execution_count": 5,
     "metadata": {},
     "output_type": "execute_result"
    }
   ],
   "source": [
    "plans[\"gb_per_month_included\"]=plans[\"mb_per_month_included\"]/1024\n",
    "plans.head()"
   ]
  },
  {
   "cell_type": "markdown",
   "metadata": {
    "id": "eqADpCfg0q04"
   },
   "source": [
    "Se agrego una columna de consumo en gb `gb_per_month_included`, de resto los datos están completos y no necesitan ser complementados."
   ]
  },
  {
   "cell_type": "markdown",
   "metadata": {
    "id": "1n2X6WXf0q04"
   },
   "source": [
    "## Usuarios/as"
   ]
  },
  {
   "cell_type": "code",
   "execution_count": 6,
   "metadata": {
    "id": "2NgjWFqx0q05"
   },
   "outputs": [
    {
     "name": "stdout",
     "output_type": "stream",
     "text": [
      "<class 'pandas.core.frame.DataFrame'>\n",
      "RangeIndex: 500 entries, 0 to 499\n",
      "Data columns (total 8 columns):\n",
      " #   Column      Non-Null Count  Dtype \n",
      "---  ------      --------------  ----- \n",
      " 0   user_id     500 non-null    int64 \n",
      " 1   first_name  500 non-null    object\n",
      " 2   last_name   500 non-null    object\n",
      " 3   age         500 non-null    int64 \n",
      " 4   city        500 non-null    object\n",
      " 5   reg_date    500 non-null    object\n",
      " 6   plan        500 non-null    object\n",
      " 7   churn_date  34 non-null     object\n",
      "dtypes: int64(2), object(6)\n",
      "memory usage: 31.4+ KB\n"
     ]
    }
   ],
   "source": [
    "users.info()# Imprime la información general/resumida sobre el DataFrame de usuarios\n"
   ]
  },
  {
   "cell_type": "code",
   "execution_count": 7,
   "metadata": {
    "id": "1IN1L9uh0q05"
   },
   "outputs": [
    {
     "data": {
      "text/html": [
       "<div>\n",
       "<style scoped>\n",
       "    .dataframe tbody tr th:only-of-type {\n",
       "        vertical-align: middle;\n",
       "    }\n",
       "\n",
       "    .dataframe tbody tr th {\n",
       "        vertical-align: top;\n",
       "    }\n",
       "\n",
       "    .dataframe thead th {\n",
       "        text-align: right;\n",
       "    }\n",
       "</style>\n",
       "<table border=\"1\" class=\"dataframe\">\n",
       "  <thead>\n",
       "    <tr style=\"text-align: right;\">\n",
       "      <th></th>\n",
       "      <th>user_id</th>\n",
       "      <th>first_name</th>\n",
       "      <th>last_name</th>\n",
       "      <th>age</th>\n",
       "      <th>city</th>\n",
       "      <th>reg_date</th>\n",
       "      <th>plan</th>\n",
       "      <th>churn_date</th>\n",
       "    </tr>\n",
       "  </thead>\n",
       "  <tbody>\n",
       "    <tr>\n",
       "      <th>0</th>\n",
       "      <td>1000</td>\n",
       "      <td>Anamaria</td>\n",
       "      <td>Bauer</td>\n",
       "      <td>45</td>\n",
       "      <td>Atlanta-Sandy Springs-Roswell, GA MSA</td>\n",
       "      <td>2018-12-24</td>\n",
       "      <td>ultimate</td>\n",
       "      <td>NaN</td>\n",
       "    </tr>\n",
       "    <tr>\n",
       "      <th>1</th>\n",
       "      <td>1001</td>\n",
       "      <td>Mickey</td>\n",
       "      <td>Wilkerson</td>\n",
       "      <td>28</td>\n",
       "      <td>Seattle-Tacoma-Bellevue, WA MSA</td>\n",
       "      <td>2018-08-13</td>\n",
       "      <td>surf</td>\n",
       "      <td>NaN</td>\n",
       "    </tr>\n",
       "    <tr>\n",
       "      <th>2</th>\n",
       "      <td>1002</td>\n",
       "      <td>Carlee</td>\n",
       "      <td>Hoffman</td>\n",
       "      <td>36</td>\n",
       "      <td>Las Vegas-Henderson-Paradise, NV MSA</td>\n",
       "      <td>2018-10-21</td>\n",
       "      <td>surf</td>\n",
       "      <td>NaN</td>\n",
       "    </tr>\n",
       "    <tr>\n",
       "      <th>3</th>\n",
       "      <td>1003</td>\n",
       "      <td>Reynaldo</td>\n",
       "      <td>Jenkins</td>\n",
       "      <td>52</td>\n",
       "      <td>Tulsa, OK MSA</td>\n",
       "      <td>2018-01-28</td>\n",
       "      <td>surf</td>\n",
       "      <td>NaN</td>\n",
       "    </tr>\n",
       "    <tr>\n",
       "      <th>4</th>\n",
       "      <td>1004</td>\n",
       "      <td>Leonila</td>\n",
       "      <td>Thompson</td>\n",
       "      <td>40</td>\n",
       "      <td>Seattle-Tacoma-Bellevue, WA MSA</td>\n",
       "      <td>2018-05-23</td>\n",
       "      <td>surf</td>\n",
       "      <td>NaN</td>\n",
       "    </tr>\n",
       "    <tr>\n",
       "      <th>...</th>\n",
       "      <td>...</td>\n",
       "      <td>...</td>\n",
       "      <td>...</td>\n",
       "      <td>...</td>\n",
       "      <td>...</td>\n",
       "      <td>...</td>\n",
       "      <td>...</td>\n",
       "      <td>...</td>\n",
       "    </tr>\n",
       "    <tr>\n",
       "      <th>495</th>\n",
       "      <td>1495</td>\n",
       "      <td>Fidel</td>\n",
       "      <td>Sharpe</td>\n",
       "      <td>67</td>\n",
       "      <td>New York-Newark-Jersey City, NY-NJ-PA MSA</td>\n",
       "      <td>2018-09-04</td>\n",
       "      <td>surf</td>\n",
       "      <td>NaN</td>\n",
       "    </tr>\n",
       "    <tr>\n",
       "      <th>496</th>\n",
       "      <td>1496</td>\n",
       "      <td>Ariel</td>\n",
       "      <td>Shepherd</td>\n",
       "      <td>49</td>\n",
       "      <td>New Orleans-Metairie, LA MSA</td>\n",
       "      <td>2018-02-20</td>\n",
       "      <td>surf</td>\n",
       "      <td>NaN</td>\n",
       "    </tr>\n",
       "    <tr>\n",
       "      <th>497</th>\n",
       "      <td>1497</td>\n",
       "      <td>Donte</td>\n",
       "      <td>Barrera</td>\n",
       "      <td>49</td>\n",
       "      <td>Los Angeles-Long Beach-Anaheim, CA MSA</td>\n",
       "      <td>2018-12-10</td>\n",
       "      <td>ultimate</td>\n",
       "      <td>NaN</td>\n",
       "    </tr>\n",
       "    <tr>\n",
       "      <th>498</th>\n",
       "      <td>1498</td>\n",
       "      <td>Scot</td>\n",
       "      <td>Williamson</td>\n",
       "      <td>51</td>\n",
       "      <td>New York-Newark-Jersey City, NY-NJ-PA MSA</td>\n",
       "      <td>2018-02-04</td>\n",
       "      <td>surf</td>\n",
       "      <td>NaN</td>\n",
       "    </tr>\n",
       "    <tr>\n",
       "      <th>499</th>\n",
       "      <td>1499</td>\n",
       "      <td>Shena</td>\n",
       "      <td>Dickson</td>\n",
       "      <td>37</td>\n",
       "      <td>Orlando-Kissimmee-Sanford, FL MSA</td>\n",
       "      <td>2018-05-06</td>\n",
       "      <td>surf</td>\n",
       "      <td>NaN</td>\n",
       "    </tr>\n",
       "  </tbody>\n",
       "</table>\n",
       "<p>500 rows × 8 columns</p>\n",
       "</div>"
      ],
      "text/plain": [
       "     user_id first_name   last_name  age  \\\n",
       "0       1000   Anamaria       Bauer   45   \n",
       "1       1001     Mickey   Wilkerson   28   \n",
       "2       1002     Carlee     Hoffman   36   \n",
       "3       1003   Reynaldo     Jenkins   52   \n",
       "4       1004    Leonila    Thompson   40   \n",
       "..       ...        ...         ...  ...   \n",
       "495     1495      Fidel      Sharpe   67   \n",
       "496     1496      Ariel    Shepherd   49   \n",
       "497     1497      Donte     Barrera   49   \n",
       "498     1498       Scot  Williamson   51   \n",
       "499     1499      Shena     Dickson   37   \n",
       "\n",
       "                                          city    reg_date      plan  \\\n",
       "0        Atlanta-Sandy Springs-Roswell, GA MSA  2018-12-24  ultimate   \n",
       "1              Seattle-Tacoma-Bellevue, WA MSA  2018-08-13      surf   \n",
       "2         Las Vegas-Henderson-Paradise, NV MSA  2018-10-21      surf   \n",
       "3                                Tulsa, OK MSA  2018-01-28      surf   \n",
       "4              Seattle-Tacoma-Bellevue, WA MSA  2018-05-23      surf   \n",
       "..                                         ...         ...       ...   \n",
       "495  New York-Newark-Jersey City, NY-NJ-PA MSA  2018-09-04      surf   \n",
       "496               New Orleans-Metairie, LA MSA  2018-02-20      surf   \n",
       "497     Los Angeles-Long Beach-Anaheim, CA MSA  2018-12-10  ultimate   \n",
       "498  New York-Newark-Jersey City, NY-NJ-PA MSA  2018-02-04      surf   \n",
       "499          Orlando-Kissimmee-Sanford, FL MSA  2018-05-06      surf   \n",
       "\n",
       "    churn_date  \n",
       "0          NaN  \n",
       "1          NaN  \n",
       "2          NaN  \n",
       "3          NaN  \n",
       "4          NaN  \n",
       "..         ...  \n",
       "495        NaN  \n",
       "496        NaN  \n",
       "497        NaN  \n",
       "498        NaN  \n",
       "499        NaN  \n",
       "\n",
       "[500 rows x 8 columns]"
      ]
     },
     "execution_count": 7,
     "metadata": {},
     "output_type": "execute_result"
    }
   ],
   "source": [
    "users # Imprime una muestra de datos para usuarios\n",
    "\n"
   ]
  },
  {
   "cell_type": "markdown",
   "metadata": {
    "id": "dCZoUq4f0q06"
   },
   "source": [
    "**Los datos del DataFrame de Usuarios se ve bien para hacer los analisis, la unica correccion que se debe hacer es el cambio del tipo de dato en la columna `reg_dat` a tipo fecha, tambine tiene los datos flatantes en `churn_date`.**\n"
   ]
  },
  {
   "cell_type": "markdown",
   "metadata": {
    "id": "BX5FQh_I0q06"
   },
   "source": [
    "### Corregir los datos"
   ]
  },
  {
   "cell_type": "code",
   "execution_count": 8,
   "metadata": {
    "id": "yUqX-K0C0q07"
   },
   "outputs": [
    {
     "name": "stdout",
     "output_type": "stream",
     "text": [
      "<class 'pandas.core.frame.DataFrame'>\n",
      "RangeIndex: 500 entries, 0 to 499\n",
      "Data columns (total 8 columns):\n",
      " #   Column      Non-Null Count  Dtype         \n",
      "---  ------      --------------  -----         \n",
      " 0   user_id     500 non-null    int64         \n",
      " 1   first_name  500 non-null    object        \n",
      " 2   last_name   500 non-null    object        \n",
      " 3   age         500 non-null    int64         \n",
      " 4   city        500 non-null    object        \n",
      " 5   reg_date    500 non-null    datetime64[ns]\n",
      " 6   plan        500 non-null    object        \n",
      " 7   churn_date  34 non-null     object        \n",
      "dtypes: datetime64[ns](1), int64(2), object(5)\n",
      "memory usage: 31.4+ KB\n"
     ]
    }
   ],
   "source": [
    "users['reg_date'] = pd.to_datetime(users['reg_date'])\n",
    "\n",
    "users.info()"
   ]
  },
  {
   "cell_type": "markdown",
   "metadata": {},
   "source": [
    "Se realizó la corrección del tipo de dato de la columna reg_date a formato de fecha. En cuanto a los datos faltantes de la columna `churn_date`, se decidió dejarlos sin modificaciones, ya que su ausencia no afectará el análisis posterior."
   ]
  },
  {
   "cell_type": "markdown",
   "metadata": {
    "id": "ycwuARJp0q07"
   },
   "source": [
    "### Enriquecer los datos"
   ]
  },
  {
   "cell_type": "code",
   "execution_count": 9,
   "metadata": {
    "id": "iq0AaBS90q08"
   },
   "outputs": [
    {
     "data": {
      "text/html": [
       "<div>\n",
       "<style scoped>\n",
       "    .dataframe tbody tr th:only-of-type {\n",
       "        vertical-align: middle;\n",
       "    }\n",
       "\n",
       "    .dataframe tbody tr th {\n",
       "        vertical-align: top;\n",
       "    }\n",
       "\n",
       "    .dataframe thead th {\n",
       "        text-align: right;\n",
       "    }\n",
       "</style>\n",
       "<table border=\"1\" class=\"dataframe\">\n",
       "  <thead>\n",
       "    <tr style=\"text-align: right;\">\n",
       "      <th></th>\n",
       "      <th>user_id</th>\n",
       "      <th>first_name</th>\n",
       "      <th>last_name</th>\n",
       "      <th>age</th>\n",
       "      <th>city</th>\n",
       "      <th>reg_date</th>\n",
       "      <th>plan</th>\n",
       "      <th>churn_date</th>\n",
       "      <th>month</th>\n",
       "    </tr>\n",
       "  </thead>\n",
       "  <tbody>\n",
       "    <tr>\n",
       "      <th>0</th>\n",
       "      <td>1000</td>\n",
       "      <td>Anamaria</td>\n",
       "      <td>Bauer</td>\n",
       "      <td>45</td>\n",
       "      <td>Atlanta-Sandy Springs-Roswell, GA MSA</td>\n",
       "      <td>2018-12-24</td>\n",
       "      <td>ultimate</td>\n",
       "      <td>NaN</td>\n",
       "      <td>12</td>\n",
       "    </tr>\n",
       "    <tr>\n",
       "      <th>1</th>\n",
       "      <td>1001</td>\n",
       "      <td>Mickey</td>\n",
       "      <td>Wilkerson</td>\n",
       "      <td>28</td>\n",
       "      <td>Seattle-Tacoma-Bellevue, WA MSA</td>\n",
       "      <td>2018-08-13</td>\n",
       "      <td>surf</td>\n",
       "      <td>NaN</td>\n",
       "      <td>8</td>\n",
       "    </tr>\n",
       "    <tr>\n",
       "      <th>2</th>\n",
       "      <td>1002</td>\n",
       "      <td>Carlee</td>\n",
       "      <td>Hoffman</td>\n",
       "      <td>36</td>\n",
       "      <td>Las Vegas-Henderson-Paradise, NV MSA</td>\n",
       "      <td>2018-10-21</td>\n",
       "      <td>surf</td>\n",
       "      <td>NaN</td>\n",
       "      <td>10</td>\n",
       "    </tr>\n",
       "    <tr>\n",
       "      <th>3</th>\n",
       "      <td>1003</td>\n",
       "      <td>Reynaldo</td>\n",
       "      <td>Jenkins</td>\n",
       "      <td>52</td>\n",
       "      <td>Tulsa, OK MSA</td>\n",
       "      <td>2018-01-28</td>\n",
       "      <td>surf</td>\n",
       "      <td>NaN</td>\n",
       "      <td>1</td>\n",
       "    </tr>\n",
       "    <tr>\n",
       "      <th>4</th>\n",
       "      <td>1004</td>\n",
       "      <td>Leonila</td>\n",
       "      <td>Thompson</td>\n",
       "      <td>40</td>\n",
       "      <td>Seattle-Tacoma-Bellevue, WA MSA</td>\n",
       "      <td>2018-05-23</td>\n",
       "      <td>surf</td>\n",
       "      <td>NaN</td>\n",
       "      <td>5</td>\n",
       "    </tr>\n",
       "  </tbody>\n",
       "</table>\n",
       "</div>"
      ],
      "text/plain": [
       "   user_id first_name  last_name  age                                   city  \\\n",
       "0     1000   Anamaria      Bauer   45  Atlanta-Sandy Springs-Roswell, GA MSA   \n",
       "1     1001     Mickey  Wilkerson   28        Seattle-Tacoma-Bellevue, WA MSA   \n",
       "2     1002     Carlee    Hoffman   36   Las Vegas-Henderson-Paradise, NV MSA   \n",
       "3     1003   Reynaldo    Jenkins   52                          Tulsa, OK MSA   \n",
       "4     1004    Leonila   Thompson   40        Seattle-Tacoma-Bellevue, WA MSA   \n",
       "\n",
       "    reg_date      plan churn_date  month  \n",
       "0 2018-12-24  ultimate        NaN     12  \n",
       "1 2018-08-13      surf        NaN      8  \n",
       "2 2018-10-21      surf        NaN     10  \n",
       "3 2018-01-28      surf        NaN      1  \n",
       "4 2018-05-23      surf        NaN      5  "
      ]
     },
     "execution_count": 9,
     "metadata": {},
     "output_type": "execute_result"
    }
   ],
   "source": [
    "users[\"month\"]= users[\"reg_date\"].dt.month\n",
    "users.head()"
   ]
  },
  {
   "cell_type": "markdown",
   "metadata": {},
   "source": [
    "Como parte del enriquecimiento de los datos, se agregó una nueva columna que contiene el mes de las operaciones, extraído de la columna `reg_date`. Esto permitirá un análisis más detallado basado en las tendencias mensuales de las operaciones.\n"
   ]
  },
  {
   "cell_type": "markdown",
   "metadata": {
    "id": "o7MeKCid0q08"
   },
   "source": [
    "## Llamadas"
   ]
  },
  {
   "cell_type": "code",
   "execution_count": 10,
   "metadata": {
    "id": "6dDlnoDm0q08"
   },
   "outputs": [
    {
     "name": "stdout",
     "output_type": "stream",
     "text": [
      "<class 'pandas.core.frame.DataFrame'>\n",
      "RangeIndex: 137735 entries, 0 to 137734\n",
      "Data columns (total 4 columns):\n",
      " #   Column     Non-Null Count   Dtype  \n",
      "---  ------     --------------   -----  \n",
      " 0   id         137735 non-null  object \n",
      " 1   user_id    137735 non-null  int64  \n",
      " 2   call_date  137735 non-null  object \n",
      " 3   duration   137735 non-null  float64\n",
      "dtypes: float64(1), int64(1), object(2)\n",
      "memory usage: 4.2+ MB\n"
     ]
    }
   ],
   "source": [
    "calls.info() # Imprime la información general/resumida sobre el DataFrame de las llamadas\n"
   ]
  },
  {
   "cell_type": "code",
   "execution_count": 11,
   "metadata": {
    "id": "kuh1vlNB0q09"
   },
   "outputs": [
    {
     "data": {
      "text/html": [
       "<div>\n",
       "<style scoped>\n",
       "    .dataframe tbody tr th:only-of-type {\n",
       "        vertical-align: middle;\n",
       "    }\n",
       "\n",
       "    .dataframe tbody tr th {\n",
       "        vertical-align: top;\n",
       "    }\n",
       "\n",
       "    .dataframe thead th {\n",
       "        text-align: right;\n",
       "    }\n",
       "</style>\n",
       "<table border=\"1\" class=\"dataframe\">\n",
       "  <thead>\n",
       "    <tr style=\"text-align: right;\">\n",
       "      <th></th>\n",
       "      <th>id</th>\n",
       "      <th>user_id</th>\n",
       "      <th>call_date</th>\n",
       "      <th>duration</th>\n",
       "    </tr>\n",
       "  </thead>\n",
       "  <tbody>\n",
       "    <tr>\n",
       "      <th>0</th>\n",
       "      <td>1000_93</td>\n",
       "      <td>1000</td>\n",
       "      <td>2018-12-27</td>\n",
       "      <td>8.52</td>\n",
       "    </tr>\n",
       "    <tr>\n",
       "      <th>1</th>\n",
       "      <td>1000_145</td>\n",
       "      <td>1000</td>\n",
       "      <td>2018-12-27</td>\n",
       "      <td>13.66</td>\n",
       "    </tr>\n",
       "    <tr>\n",
       "      <th>2</th>\n",
       "      <td>1000_247</td>\n",
       "      <td>1000</td>\n",
       "      <td>2018-12-27</td>\n",
       "      <td>14.48</td>\n",
       "    </tr>\n",
       "    <tr>\n",
       "      <th>3</th>\n",
       "      <td>1000_309</td>\n",
       "      <td>1000</td>\n",
       "      <td>2018-12-28</td>\n",
       "      <td>5.76</td>\n",
       "    </tr>\n",
       "    <tr>\n",
       "      <th>4</th>\n",
       "      <td>1000_380</td>\n",
       "      <td>1000</td>\n",
       "      <td>2018-12-30</td>\n",
       "      <td>4.22</td>\n",
       "    </tr>\n",
       "    <tr>\n",
       "      <th>...</th>\n",
       "      <td>...</td>\n",
       "      <td>...</td>\n",
       "      <td>...</td>\n",
       "      <td>...</td>\n",
       "    </tr>\n",
       "    <tr>\n",
       "      <th>137730</th>\n",
       "      <td>1499_199</td>\n",
       "      <td>1499</td>\n",
       "      <td>2018-11-21</td>\n",
       "      <td>8.72</td>\n",
       "    </tr>\n",
       "    <tr>\n",
       "      <th>137731</th>\n",
       "      <td>1499_200</td>\n",
       "      <td>1499</td>\n",
       "      <td>2018-10-20</td>\n",
       "      <td>10.89</td>\n",
       "    </tr>\n",
       "    <tr>\n",
       "      <th>137732</th>\n",
       "      <td>1499_201</td>\n",
       "      <td>1499</td>\n",
       "      <td>2018-09-21</td>\n",
       "      <td>8.12</td>\n",
       "    </tr>\n",
       "    <tr>\n",
       "      <th>137733</th>\n",
       "      <td>1499_202</td>\n",
       "      <td>1499</td>\n",
       "      <td>2018-10-10</td>\n",
       "      <td>0.37</td>\n",
       "    </tr>\n",
       "    <tr>\n",
       "      <th>137734</th>\n",
       "      <td>1499_203</td>\n",
       "      <td>1499</td>\n",
       "      <td>2018-12-29</td>\n",
       "      <td>13.86</td>\n",
       "    </tr>\n",
       "  </tbody>\n",
       "</table>\n",
       "<p>137735 rows × 4 columns</p>\n",
       "</div>"
      ],
      "text/plain": [
       "              id  user_id   call_date  duration\n",
       "0        1000_93     1000  2018-12-27      8.52\n",
       "1       1000_145     1000  2018-12-27     13.66\n",
       "2       1000_247     1000  2018-12-27     14.48\n",
       "3       1000_309     1000  2018-12-28      5.76\n",
       "4       1000_380     1000  2018-12-30      4.22\n",
       "...          ...      ...         ...       ...\n",
       "137730  1499_199     1499  2018-11-21      8.72\n",
       "137731  1499_200     1499  2018-10-20     10.89\n",
       "137732  1499_201     1499  2018-09-21      8.12\n",
       "137733  1499_202     1499  2018-10-10      0.37\n",
       "137734  1499_203     1499  2018-12-29     13.86\n",
       "\n",
       "[137735 rows x 4 columns]"
      ]
     },
     "execution_count": 11,
     "metadata": {},
     "output_type": "execute_result"
    }
   ],
   "source": [
    "calls # Imprime una muestra de datos para las llamadas\n"
   ]
  },
  {
   "cell_type": "markdown",
   "metadata": {
    "id": "DOAxYJSx0q09"
   },
   "source": [
    "**Los datos del DataFrame de Llamadas están en buenas condiciones para realizar los análisis. La única corrección necesaria es cambiar el tipo de dato de la columna `call_date` a formato de fecha. Además, en la columna `duration`, se debe realizar un redondeo a entero mayor para las duraciones de las llamadas.**"
   ]
  },
  {
   "cell_type": "markdown",
   "metadata": {
    "id": "S7hzxmbX0q0-"
   },
   "source": [
    "### Corregir los datos"
   ]
  },
  {
   "cell_type": "code",
   "execution_count": 12,
   "metadata": {
    "id": "S2r8xA4f0q0-"
   },
   "outputs": [
    {
     "name": "stdout",
     "output_type": "stream",
     "text": [
      "<class 'pandas.core.frame.DataFrame'>\n",
      "RangeIndex: 137735 entries, 0 to 137734\n",
      "Data columns (total 4 columns):\n",
      " #   Column     Non-Null Count   Dtype         \n",
      "---  ------     --------------   -----         \n",
      " 0   id         137735 non-null  object        \n",
      " 1   user_id    137735 non-null  int64         \n",
      " 2   call_date  137735 non-null  datetime64[ns]\n",
      " 3   duration   137735 non-null  float64       \n",
      "dtypes: datetime64[ns](1), float64(1), int64(1), object(1)\n",
      "memory usage: 4.2+ MB\n"
     ]
    }
   ],
   "source": [
    "calls[\"call_date\"]= pd.to_datetime(calls[\"call_date\"])\n",
    "calls[\"duration\"] = np.ceil(calls[\"duration\"])\n",
    "calls.info()"
   ]
  },
  {
   "cell_type": "markdown",
   "metadata": {},
   "source": [
    "Se realizó la corrección del tipo de dato de la columna `call_date` a formato de fecha y se redondeo al entero superior la columna `duration`"
   ]
  },
  {
   "cell_type": "markdown",
   "metadata": {
    "id": "KrMgTrlG0q0_"
   },
   "source": [
    "### Enriquecer los datos"
   ]
  },
  {
   "cell_type": "code",
   "execution_count": 13,
   "metadata": {
    "id": "iZ1avpA_0q0_"
   },
   "outputs": [],
   "source": [
    "calls[\"month\"]= calls[\"call_date\"].dt.month"
   ]
  },
  {
   "cell_type": "code",
   "execution_count": 14,
   "metadata": {},
   "outputs": [
    {
     "data": {
      "text/html": [
       "<div>\n",
       "<style scoped>\n",
       "    .dataframe tbody tr th:only-of-type {\n",
       "        vertical-align: middle;\n",
       "    }\n",
       "\n",
       "    .dataframe tbody tr th {\n",
       "        vertical-align: top;\n",
       "    }\n",
       "\n",
       "    .dataframe thead th {\n",
       "        text-align: right;\n",
       "    }\n",
       "</style>\n",
       "<table border=\"1\" class=\"dataframe\">\n",
       "  <thead>\n",
       "    <tr style=\"text-align: right;\">\n",
       "      <th></th>\n",
       "      <th>id</th>\n",
       "      <th>user_id</th>\n",
       "      <th>call_date</th>\n",
       "      <th>duration</th>\n",
       "      <th>month</th>\n",
       "    </tr>\n",
       "  </thead>\n",
       "  <tbody>\n",
       "    <tr>\n",
       "      <th>0</th>\n",
       "      <td>1000_93</td>\n",
       "      <td>1000</td>\n",
       "      <td>2018-12-27</td>\n",
       "      <td>9.0</td>\n",
       "      <td>12</td>\n",
       "    </tr>\n",
       "    <tr>\n",
       "      <th>1</th>\n",
       "      <td>1000_145</td>\n",
       "      <td>1000</td>\n",
       "      <td>2018-12-27</td>\n",
       "      <td>14.0</td>\n",
       "      <td>12</td>\n",
       "    </tr>\n",
       "    <tr>\n",
       "      <th>2</th>\n",
       "      <td>1000_247</td>\n",
       "      <td>1000</td>\n",
       "      <td>2018-12-27</td>\n",
       "      <td>15.0</td>\n",
       "      <td>12</td>\n",
       "    </tr>\n",
       "    <tr>\n",
       "      <th>3</th>\n",
       "      <td>1000_309</td>\n",
       "      <td>1000</td>\n",
       "      <td>2018-12-28</td>\n",
       "      <td>6.0</td>\n",
       "      <td>12</td>\n",
       "    </tr>\n",
       "    <tr>\n",
       "      <th>4</th>\n",
       "      <td>1000_380</td>\n",
       "      <td>1000</td>\n",
       "      <td>2018-12-30</td>\n",
       "      <td>5.0</td>\n",
       "      <td>12</td>\n",
       "    </tr>\n",
       "  </tbody>\n",
       "</table>\n",
       "</div>"
      ],
      "text/plain": [
       "         id  user_id  call_date  duration  month\n",
       "0   1000_93     1000 2018-12-27       9.0     12\n",
       "1  1000_145     1000 2018-12-27      14.0     12\n",
       "2  1000_247     1000 2018-12-27      15.0     12\n",
       "3  1000_309     1000 2018-12-28       6.0     12\n",
       "4  1000_380     1000 2018-12-30       5.0     12"
      ]
     },
     "execution_count": 14,
     "metadata": {},
     "output_type": "execute_result"
    }
   ],
   "source": [
    "calls.head()"
   ]
  },
  {
   "cell_type": "markdown",
   "metadata": {},
   "source": [
    "Como parte del enriquecimiento de los datos, se agregó una nueva columna que contiene el mes de las operaciones, extraído de la columna `call_date`. Esto permitirá un análisis más detallado basado en las tendencias mensuales de las operaciones."
   ]
  },
  {
   "cell_type": "markdown",
   "metadata": {
    "id": "mOUZSi180q0_"
   },
   "source": [
    "## Mensajes"
   ]
  },
  {
   "cell_type": "code",
   "execution_count": 15,
   "metadata": {
    "id": "R-bYJpdV0q1A"
   },
   "outputs": [
    {
     "name": "stdout",
     "output_type": "stream",
     "text": [
      "<class 'pandas.core.frame.DataFrame'>\n",
      "RangeIndex: 76051 entries, 0 to 76050\n",
      "Data columns (total 3 columns):\n",
      " #   Column        Non-Null Count  Dtype \n",
      "---  ------        --------------  ----- \n",
      " 0   id            76051 non-null  object\n",
      " 1   user_id       76051 non-null  int64 \n",
      " 2   message_date  76051 non-null  object\n",
      "dtypes: int64(1), object(2)\n",
      "memory usage: 1.7+ MB\n"
     ]
    }
   ],
   "source": [
    "messages.info()# Imprime la información general/resumida sobre el DataFrame de los mensajes\n"
   ]
  },
  {
   "cell_type": "code",
   "execution_count": 16,
   "metadata": {
    "id": "mCEl2iGE0q1A"
   },
   "outputs": [
    {
     "data": {
      "text/html": [
       "<div>\n",
       "<style scoped>\n",
       "    .dataframe tbody tr th:only-of-type {\n",
       "        vertical-align: middle;\n",
       "    }\n",
       "\n",
       "    .dataframe tbody tr th {\n",
       "        vertical-align: top;\n",
       "    }\n",
       "\n",
       "    .dataframe thead th {\n",
       "        text-align: right;\n",
       "    }\n",
       "</style>\n",
       "<table border=\"1\" class=\"dataframe\">\n",
       "  <thead>\n",
       "    <tr style=\"text-align: right;\">\n",
       "      <th></th>\n",
       "      <th>id</th>\n",
       "      <th>user_id</th>\n",
       "      <th>message_date</th>\n",
       "    </tr>\n",
       "  </thead>\n",
       "  <tbody>\n",
       "    <tr>\n",
       "      <th>0</th>\n",
       "      <td>1000_125</td>\n",
       "      <td>1000</td>\n",
       "      <td>2018-12-27</td>\n",
       "    </tr>\n",
       "    <tr>\n",
       "      <th>1</th>\n",
       "      <td>1000_160</td>\n",
       "      <td>1000</td>\n",
       "      <td>2018-12-31</td>\n",
       "    </tr>\n",
       "    <tr>\n",
       "      <th>2</th>\n",
       "      <td>1000_223</td>\n",
       "      <td>1000</td>\n",
       "      <td>2018-12-31</td>\n",
       "    </tr>\n",
       "    <tr>\n",
       "      <th>3</th>\n",
       "      <td>1000_251</td>\n",
       "      <td>1000</td>\n",
       "      <td>2018-12-27</td>\n",
       "    </tr>\n",
       "    <tr>\n",
       "      <th>4</th>\n",
       "      <td>1000_255</td>\n",
       "      <td>1000</td>\n",
       "      <td>2018-12-26</td>\n",
       "    </tr>\n",
       "    <tr>\n",
       "      <th>...</th>\n",
       "      <td>...</td>\n",
       "      <td>...</td>\n",
       "      <td>...</td>\n",
       "    </tr>\n",
       "    <tr>\n",
       "      <th>76046</th>\n",
       "      <td>1497_526</td>\n",
       "      <td>1497</td>\n",
       "      <td>2018-12-24</td>\n",
       "    </tr>\n",
       "    <tr>\n",
       "      <th>76047</th>\n",
       "      <td>1497_536</td>\n",
       "      <td>1497</td>\n",
       "      <td>2018-12-24</td>\n",
       "    </tr>\n",
       "    <tr>\n",
       "      <th>76048</th>\n",
       "      <td>1497_547</td>\n",
       "      <td>1497</td>\n",
       "      <td>2018-12-31</td>\n",
       "    </tr>\n",
       "    <tr>\n",
       "      <th>76049</th>\n",
       "      <td>1497_558</td>\n",
       "      <td>1497</td>\n",
       "      <td>2018-12-24</td>\n",
       "    </tr>\n",
       "    <tr>\n",
       "      <th>76050</th>\n",
       "      <td>1497_613</td>\n",
       "      <td>1497</td>\n",
       "      <td>2018-12-23</td>\n",
       "    </tr>\n",
       "  </tbody>\n",
       "</table>\n",
       "<p>76051 rows × 3 columns</p>\n",
       "</div>"
      ],
      "text/plain": [
       "             id  user_id message_date\n",
       "0      1000_125     1000   2018-12-27\n",
       "1      1000_160     1000   2018-12-31\n",
       "2      1000_223     1000   2018-12-31\n",
       "3      1000_251     1000   2018-12-27\n",
       "4      1000_255     1000   2018-12-26\n",
       "...         ...      ...          ...\n",
       "76046  1497_526     1497   2018-12-24\n",
       "76047  1497_536     1497   2018-12-24\n",
       "76048  1497_547     1497   2018-12-31\n",
       "76049  1497_558     1497   2018-12-24\n",
       "76050  1497_613     1497   2018-12-23\n",
       "\n",
       "[76051 rows x 3 columns]"
      ]
     },
     "execution_count": 16,
     "metadata": {},
     "output_type": "execute_result"
    }
   ],
   "source": [
    "messages # Imprime una muestra de datos para los mensajes\n"
   ]
  },
  {
   "cell_type": "markdown",
   "metadata": {
    "id": "04xDj7KH0q1A"
   },
   "source": [
    "**Los datos del DataFrame de Llamadas están en buenas condiciones para realizar los análisis. La única corrección necesaria es cambiar el tipo de dato de la columna `message_date` a formato de fecha.**"
   ]
  },
  {
   "cell_type": "markdown",
   "metadata": {
    "id": "Sprfak900q1B"
   },
   "source": [
    "### Corregir los datos"
   ]
  },
  {
   "cell_type": "code",
   "execution_count": 17,
   "metadata": {
    "id": "vsllvkoa0q1B"
   },
   "outputs": [
    {
     "name": "stdout",
     "output_type": "stream",
     "text": [
      "<class 'pandas.core.frame.DataFrame'>\n",
      "RangeIndex: 76051 entries, 0 to 76050\n",
      "Data columns (total 3 columns):\n",
      " #   Column        Non-Null Count  Dtype         \n",
      "---  ------        --------------  -----         \n",
      " 0   id            76051 non-null  object        \n",
      " 1   user_id       76051 non-null  int64         \n",
      " 2   message_date  76051 non-null  datetime64[ns]\n",
      "dtypes: datetime64[ns](1), int64(1), object(1)\n",
      "memory usage: 1.7+ MB\n"
     ]
    }
   ],
   "source": [
    "messages[\"message_date\"]= pd.to_datetime(messages[\"message_date\"])\n",
    "messages.info()"
   ]
  },
  {
   "cell_type": "markdown",
   "metadata": {
    "id": "eGw7d9j10q1B"
   },
   "source": [
    "Se realizó la corrección del tipo de dato de la columna `message_date` a formato de fecha."
   ]
  },
  {
   "cell_type": "markdown",
   "metadata": {
    "id": "HvLid7iD0q1B"
   },
   "source": [
    "### Enriquecer los datos"
   ]
  },
  {
   "cell_type": "code",
   "execution_count": 18,
   "metadata": {
    "id": "zYEXZac10q1C"
   },
   "outputs": [
    {
     "data": {
      "text/html": [
       "<div>\n",
       "<style scoped>\n",
       "    .dataframe tbody tr th:only-of-type {\n",
       "        vertical-align: middle;\n",
       "    }\n",
       "\n",
       "    .dataframe tbody tr th {\n",
       "        vertical-align: top;\n",
       "    }\n",
       "\n",
       "    .dataframe thead th {\n",
       "        text-align: right;\n",
       "    }\n",
       "</style>\n",
       "<table border=\"1\" class=\"dataframe\">\n",
       "  <thead>\n",
       "    <tr style=\"text-align: right;\">\n",
       "      <th></th>\n",
       "      <th>id</th>\n",
       "      <th>user_id</th>\n",
       "      <th>message_date</th>\n",
       "      <th>month</th>\n",
       "    </tr>\n",
       "  </thead>\n",
       "  <tbody>\n",
       "    <tr>\n",
       "      <th>0</th>\n",
       "      <td>1000_125</td>\n",
       "      <td>1000</td>\n",
       "      <td>2018-12-27</td>\n",
       "      <td>12</td>\n",
       "    </tr>\n",
       "    <tr>\n",
       "      <th>1</th>\n",
       "      <td>1000_160</td>\n",
       "      <td>1000</td>\n",
       "      <td>2018-12-31</td>\n",
       "      <td>12</td>\n",
       "    </tr>\n",
       "    <tr>\n",
       "      <th>2</th>\n",
       "      <td>1000_223</td>\n",
       "      <td>1000</td>\n",
       "      <td>2018-12-31</td>\n",
       "      <td>12</td>\n",
       "    </tr>\n",
       "    <tr>\n",
       "      <th>3</th>\n",
       "      <td>1000_251</td>\n",
       "      <td>1000</td>\n",
       "      <td>2018-12-27</td>\n",
       "      <td>12</td>\n",
       "    </tr>\n",
       "    <tr>\n",
       "      <th>4</th>\n",
       "      <td>1000_255</td>\n",
       "      <td>1000</td>\n",
       "      <td>2018-12-26</td>\n",
       "      <td>12</td>\n",
       "    </tr>\n",
       "  </tbody>\n",
       "</table>\n",
       "</div>"
      ],
      "text/plain": [
       "         id  user_id message_date  month\n",
       "0  1000_125     1000   2018-12-27     12\n",
       "1  1000_160     1000   2018-12-31     12\n",
       "2  1000_223     1000   2018-12-31     12\n",
       "3  1000_251     1000   2018-12-27     12\n",
       "4  1000_255     1000   2018-12-26     12"
      ]
     },
     "execution_count": 18,
     "metadata": {},
     "output_type": "execute_result"
    }
   ],
   "source": [
    "messages[\"month\"]= messages[\"message_date\"].dt.month\n",
    "messages.head()"
   ]
  },
  {
   "cell_type": "markdown",
   "metadata": {
    "id": "8nhPFKIe0q1C"
   },
   "source": [
    "Como parte del enriquecimiento de los datos, se agregó una nueva columna que contiene el mes de las operaciones, extraído de la columna `message_date`. Esto permitirá un análisis más detallado basado en las tendencias mensuales de las operaciones."
   ]
  },
  {
   "cell_type": "markdown",
   "metadata": {
    "id": "bStkaxn40q1C"
   },
   "source": [
    "## Internet"
   ]
  },
  {
   "cell_type": "code",
   "execution_count": 19,
   "metadata": {
    "id": "e-Uz5qyn0q1C"
   },
   "outputs": [
    {
     "name": "stdout",
     "output_type": "stream",
     "text": [
      "<class 'pandas.core.frame.DataFrame'>\n",
      "RangeIndex: 104825 entries, 0 to 104824\n",
      "Data columns (total 4 columns):\n",
      " #   Column        Non-Null Count   Dtype  \n",
      "---  ------        --------------   -----  \n",
      " 0   id            104825 non-null  object \n",
      " 1   user_id       104825 non-null  int64  \n",
      " 2   session_date  104825 non-null  object \n",
      " 3   mb_used       104825 non-null  float64\n",
      "dtypes: float64(1), int64(1), object(2)\n",
      "memory usage: 3.2+ MB\n"
     ]
    }
   ],
   "source": [
    "internet.info()# Imprime la información general/resumida sobre el DataFrame de internet\n",
    "\n"
   ]
  },
  {
   "cell_type": "code",
   "execution_count": 20,
   "metadata": {
    "id": "9r3x_XLw0q1C"
   },
   "outputs": [
    {
     "data": {
      "text/html": [
       "<div>\n",
       "<style scoped>\n",
       "    .dataframe tbody tr th:only-of-type {\n",
       "        vertical-align: middle;\n",
       "    }\n",
       "\n",
       "    .dataframe tbody tr th {\n",
       "        vertical-align: top;\n",
       "    }\n",
       "\n",
       "    .dataframe thead th {\n",
       "        text-align: right;\n",
       "    }\n",
       "</style>\n",
       "<table border=\"1\" class=\"dataframe\">\n",
       "  <thead>\n",
       "    <tr style=\"text-align: right;\">\n",
       "      <th></th>\n",
       "      <th>id</th>\n",
       "      <th>user_id</th>\n",
       "      <th>session_date</th>\n",
       "      <th>mb_used</th>\n",
       "    </tr>\n",
       "  </thead>\n",
       "  <tbody>\n",
       "    <tr>\n",
       "      <th>0</th>\n",
       "      <td>1000_13</td>\n",
       "      <td>1000</td>\n",
       "      <td>2018-12-29</td>\n",
       "      <td>89.86</td>\n",
       "    </tr>\n",
       "    <tr>\n",
       "      <th>1</th>\n",
       "      <td>1000_204</td>\n",
       "      <td>1000</td>\n",
       "      <td>2018-12-31</td>\n",
       "      <td>0.00</td>\n",
       "    </tr>\n",
       "    <tr>\n",
       "      <th>2</th>\n",
       "      <td>1000_379</td>\n",
       "      <td>1000</td>\n",
       "      <td>2018-12-28</td>\n",
       "      <td>660.40</td>\n",
       "    </tr>\n",
       "    <tr>\n",
       "      <th>3</th>\n",
       "      <td>1000_413</td>\n",
       "      <td>1000</td>\n",
       "      <td>2018-12-26</td>\n",
       "      <td>270.99</td>\n",
       "    </tr>\n",
       "    <tr>\n",
       "      <th>4</th>\n",
       "      <td>1000_442</td>\n",
       "      <td>1000</td>\n",
       "      <td>2018-12-27</td>\n",
       "      <td>880.22</td>\n",
       "    </tr>\n",
       "    <tr>\n",
       "      <th>...</th>\n",
       "      <td>...</td>\n",
       "      <td>...</td>\n",
       "      <td>...</td>\n",
       "      <td>...</td>\n",
       "    </tr>\n",
       "    <tr>\n",
       "      <th>104820</th>\n",
       "      <td>1499_215</td>\n",
       "      <td>1499</td>\n",
       "      <td>2018-10-20</td>\n",
       "      <td>218.06</td>\n",
       "    </tr>\n",
       "    <tr>\n",
       "      <th>104821</th>\n",
       "      <td>1499_216</td>\n",
       "      <td>1499</td>\n",
       "      <td>2018-12-30</td>\n",
       "      <td>304.72</td>\n",
       "    </tr>\n",
       "    <tr>\n",
       "      <th>104822</th>\n",
       "      <td>1499_217</td>\n",
       "      <td>1499</td>\n",
       "      <td>2018-09-22</td>\n",
       "      <td>292.75</td>\n",
       "    </tr>\n",
       "    <tr>\n",
       "      <th>104823</th>\n",
       "      <td>1499_218</td>\n",
       "      <td>1499</td>\n",
       "      <td>2018-12-07</td>\n",
       "      <td>0.00</td>\n",
       "    </tr>\n",
       "    <tr>\n",
       "      <th>104824</th>\n",
       "      <td>1499_219</td>\n",
       "      <td>1499</td>\n",
       "      <td>2018-12-24</td>\n",
       "      <td>758.31</td>\n",
       "    </tr>\n",
       "  </tbody>\n",
       "</table>\n",
       "<p>104825 rows × 4 columns</p>\n",
       "</div>"
      ],
      "text/plain": [
       "              id  user_id session_date  mb_used\n",
       "0        1000_13     1000   2018-12-29    89.86\n",
       "1       1000_204     1000   2018-12-31     0.00\n",
       "2       1000_379     1000   2018-12-28   660.40\n",
       "3       1000_413     1000   2018-12-26   270.99\n",
       "4       1000_442     1000   2018-12-27   880.22\n",
       "...          ...      ...          ...      ...\n",
       "104820  1499_215     1499   2018-10-20   218.06\n",
       "104821  1499_216     1499   2018-12-30   304.72\n",
       "104822  1499_217     1499   2018-09-22   292.75\n",
       "104823  1499_218     1499   2018-12-07     0.00\n",
       "104824  1499_219     1499   2018-12-24   758.31\n",
       "\n",
       "[104825 rows x 4 columns]"
      ]
     },
     "execution_count": 20,
     "metadata": {},
     "output_type": "execute_result"
    }
   ],
   "source": [
    "internet # Imprime una muestra de datos para el tráfico de internet\n",
    "\n"
   ]
  },
  {
   "cell_type": "markdown",
   "metadata": {
    "id": "EzOG5ik30q1D"
   },
   "source": [
    "**Los datos del DataFrame de Llamadas están en buenas condiciones para realizar los análisis. La única corrección necesaria es cambiar el tipo de dato de la columna `session_date` a formato de fecha. Además, en la columna `mb_used`, se debe realizar un redondeo a gb para el consumo  de las internet.**"
   ]
  },
  {
   "cell_type": "markdown",
   "metadata": {
    "id": "yA0tkPFg0q1D"
   },
   "source": [
    "### Corregir los datos"
   ]
  },
  {
   "cell_type": "code",
   "execution_count": 21,
   "metadata": {
    "id": "zVeanzdd0q1E"
   },
   "outputs": [
    {
     "name": "stdout",
     "output_type": "stream",
     "text": [
      "<class 'pandas.core.frame.DataFrame'>\n",
      "RangeIndex: 104825 entries, 0 to 104824\n",
      "Data columns (total 5 columns):\n",
      " #   Column        Non-Null Count   Dtype         \n",
      "---  ------        --------------   -----         \n",
      " 0   id            104825 non-null  object        \n",
      " 1   user_id       104825 non-null  int64         \n",
      " 2   session_date  104825 non-null  datetime64[ns]\n",
      " 3   mb_used       104825 non-null  float64       \n",
      " 4   gb_used       104825 non-null  float64       \n",
      "dtypes: datetime64[ns](1), float64(2), int64(1), object(1)\n",
      "memory usage: 4.0+ MB\n"
     ]
    }
   ],
   "source": [
    "internet[\"session_date\"]= pd.to_datetime(internet[\"session_date\"])\n",
    "internet [\"gb_used\"]= internet [\"mb_used\"]/1024\n",
    "internet.info()"
   ]
  },
  {
   "cell_type": "markdown",
   "metadata": {
    "id": "zlZMuIEK0q1D"
   },
   "source": [
    "Se realizó la corrección del tipo de dato de la columna `session_date` a formato de fecha."
   ]
  },
  {
   "cell_type": "markdown",
   "metadata": {
    "id": "e8_mLF4a0q1E"
   },
   "source": [
    "### Enriquecer los datos"
   ]
  },
  {
   "cell_type": "code",
   "execution_count": 22,
   "metadata": {
    "id": "ESiYPIEK0q1E"
   },
   "outputs": [
    {
     "data": {
      "text/html": [
       "<div>\n",
       "<style scoped>\n",
       "    .dataframe tbody tr th:only-of-type {\n",
       "        vertical-align: middle;\n",
       "    }\n",
       "\n",
       "    .dataframe tbody tr th {\n",
       "        vertical-align: top;\n",
       "    }\n",
       "\n",
       "    .dataframe thead th {\n",
       "        text-align: right;\n",
       "    }\n",
       "</style>\n",
       "<table border=\"1\" class=\"dataframe\">\n",
       "  <thead>\n",
       "    <tr style=\"text-align: right;\">\n",
       "      <th></th>\n",
       "      <th>id</th>\n",
       "      <th>user_id</th>\n",
       "      <th>session_date</th>\n",
       "      <th>mb_used</th>\n",
       "      <th>gb_used</th>\n",
       "      <th>month</th>\n",
       "    </tr>\n",
       "  </thead>\n",
       "  <tbody>\n",
       "    <tr>\n",
       "      <th>0</th>\n",
       "      <td>1000_13</td>\n",
       "      <td>1000</td>\n",
       "      <td>2018-12-29</td>\n",
       "      <td>89.86</td>\n",
       "      <td>0.087754</td>\n",
       "      <td>12</td>\n",
       "    </tr>\n",
       "    <tr>\n",
       "      <th>1</th>\n",
       "      <td>1000_204</td>\n",
       "      <td>1000</td>\n",
       "      <td>2018-12-31</td>\n",
       "      <td>0.00</td>\n",
       "      <td>0.000000</td>\n",
       "      <td>12</td>\n",
       "    </tr>\n",
       "    <tr>\n",
       "      <th>2</th>\n",
       "      <td>1000_379</td>\n",
       "      <td>1000</td>\n",
       "      <td>2018-12-28</td>\n",
       "      <td>660.40</td>\n",
       "      <td>0.644922</td>\n",
       "      <td>12</td>\n",
       "    </tr>\n",
       "    <tr>\n",
       "      <th>3</th>\n",
       "      <td>1000_413</td>\n",
       "      <td>1000</td>\n",
       "      <td>2018-12-26</td>\n",
       "      <td>270.99</td>\n",
       "      <td>0.264639</td>\n",
       "      <td>12</td>\n",
       "    </tr>\n",
       "    <tr>\n",
       "      <th>4</th>\n",
       "      <td>1000_442</td>\n",
       "      <td>1000</td>\n",
       "      <td>2018-12-27</td>\n",
       "      <td>880.22</td>\n",
       "      <td>0.859590</td>\n",
       "      <td>12</td>\n",
       "    </tr>\n",
       "  </tbody>\n",
       "</table>\n",
       "</div>"
      ],
      "text/plain": [
       "         id  user_id session_date  mb_used   gb_used  month\n",
       "0   1000_13     1000   2018-12-29    89.86  0.087754     12\n",
       "1  1000_204     1000   2018-12-31     0.00  0.000000     12\n",
       "2  1000_379     1000   2018-12-28   660.40  0.644922     12\n",
       "3  1000_413     1000   2018-12-26   270.99  0.264639     12\n",
       "4  1000_442     1000   2018-12-27   880.22  0.859590     12"
      ]
     },
     "execution_count": 22,
     "metadata": {},
     "output_type": "execute_result"
    }
   ],
   "source": [
    "internet[\"month\"]= internet[\"session_date\"].dt.month\n",
    "internet.head()"
   ]
  },
  {
   "cell_type": "markdown",
   "metadata": {
    "id": "xhNdn2tE0q1E"
   },
   "source": [
    "Como parte del enriquecimiento de los datos, se agregó una nueva columna que contiene el mes de las operaciones, extraído de la columna `session_date`. Tambien se agrego una columna con el consumo en gb `gb_used`.Esto permitirá un análisis más detallado basado en las tendencias mensuales de las operaciones."
   ]
  },
  {
   "cell_type": "markdown",
   "metadata": {},
   "source": [
    "<div class=\"alert alert-block alert-success\"> <b>Comentario del revisor</b> <a class=\"tocSkip\"></a>\n",
    "Me encanta la manera detallada en que has limpiado y transformado los datos. Has identificado correctamente los valores ausentes y duplicados, además de convertir las columnas a un formato más manejable como booleanos y snake_case. Sin embargo, podrías haber explorado un poco más si algunos valores ausentes tienen patrones comunes para no perder información valiosa. ¡Gran trabajo en esta sección! 👏\n",
    "\n",
    "</div>"
   ]
  },
  {
   "cell_type": "markdown",
   "metadata": {},
   "source": [
    "<div class=\"alert alert-block alert-warning\"> <b>Comentario del revisor</b> <a class=“tocSkip”></a> Sería útil automatizar algunos procesos, como la conversión de fechas o agregados, usando funciones vectorizadas para evitar redundancias y mejorar la eficiencia en tu código. </div>"
   ]
  },
  {
   "cell_type": "markdown",
   "metadata": {
    "id": "3UA2cqIW0q1E"
   },
   "source": [
    "# Estudiar las condiciones de las tarifas"
   ]
  },
  {
   "cell_type": "code",
   "execution_count": 23,
   "metadata": {
    "id": "i409op8p0q1F"
   },
   "outputs": [
    {
     "data": {
      "text/html": [
       "<div>\n",
       "<style scoped>\n",
       "    .dataframe tbody tr th:only-of-type {\n",
       "        vertical-align: middle;\n",
       "    }\n",
       "\n",
       "    .dataframe tbody tr th {\n",
       "        vertical-align: top;\n",
       "    }\n",
       "\n",
       "    .dataframe thead th {\n",
       "        text-align: right;\n",
       "    }\n",
       "</style>\n",
       "<table border=\"1\" class=\"dataframe\">\n",
       "  <thead>\n",
       "    <tr style=\"text-align: right;\">\n",
       "      <th></th>\n",
       "      <th>messages_included</th>\n",
       "      <th>mb_per_month_included</th>\n",
       "      <th>minutes_included</th>\n",
       "      <th>usd_monthly_pay</th>\n",
       "      <th>usd_per_gb</th>\n",
       "      <th>usd_per_message</th>\n",
       "      <th>usd_per_minute</th>\n",
       "      <th>plan_name</th>\n",
       "      <th>gb_per_month_included</th>\n",
       "    </tr>\n",
       "  </thead>\n",
       "  <tbody>\n",
       "    <tr>\n",
       "      <th>0</th>\n",
       "      <td>50</td>\n",
       "      <td>15360</td>\n",
       "      <td>500</td>\n",
       "      <td>20</td>\n",
       "      <td>10</td>\n",
       "      <td>0.03</td>\n",
       "      <td>0.03</td>\n",
       "      <td>surf</td>\n",
       "      <td>15.0</td>\n",
       "    </tr>\n",
       "    <tr>\n",
       "      <th>1</th>\n",
       "      <td>1000</td>\n",
       "      <td>30720</td>\n",
       "      <td>3000</td>\n",
       "      <td>70</td>\n",
       "      <td>7</td>\n",
       "      <td>0.01</td>\n",
       "      <td>0.01</td>\n",
       "      <td>ultimate</td>\n",
       "      <td>30.0</td>\n",
       "    </tr>\n",
       "  </tbody>\n",
       "</table>\n",
       "</div>"
      ],
      "text/plain": [
       "   messages_included  mb_per_month_included  minutes_included  \\\n",
       "0                 50                  15360               500   \n",
       "1               1000                  30720              3000   \n",
       "\n",
       "   usd_monthly_pay  usd_per_gb  usd_per_message  usd_per_minute plan_name  \\\n",
       "0               20          10             0.03            0.03      surf   \n",
       "1               70           7             0.01            0.01  ultimate   \n",
       "\n",
       "   gb_per_month_included  \n",
       "0                   15.0  \n",
       "1                   30.0  "
      ]
     },
     "execution_count": 23,
     "metadata": {},
     "output_type": "execute_result"
    }
   ],
   "source": [
    "plans# Imprime las condiciones de la tarifa y asegúrate de que te quedan claras\n"
   ]
  },
  {
   "cell_type": "markdown",
   "metadata": {
    "id": "T86Sqltq0q1F"
   },
   "source": [
    "La tabla de planes de telecomunicaciones muestra que el plan Ultimate ofrece significativamente más beneficios en términos de mensajes, datos y minutos en comparación con el plan Surf. A pesar de tener un costo mensual más alto de $70, el plan Ultimate proporciona una mejor relación calidad-precio, con costos más bajos por GB, mensaje y minuto. Esto sugiere que el plan Ultimate es más adecuado para usuarios con un uso intensivo, mientras que el plan Surf podría ser suficiente para aquellos con necesidades más moderadas."
   ]
  },
  {
   "cell_type": "markdown",
   "metadata": {},
   "source": [
    "<div class=\"alert alert-block alert-warning\"> <b>Comentario del revisor</b> <a class=“tocSkip”></a> Considera calcular un índice de coste-beneficio para cada tarifa. Esto podría proporcionar una mejor visión del valor de cada plan en función del consumo promedio, lo que ayudaría a la empresa a optimizar sus ofertas. </div>"
   ]
  },
  {
   "cell_type": "markdown",
   "metadata": {
    "id": "hMR1tP5d0q1F"
   },
   "source": [
    "# Agregar datos por usuario"
   ]
  },
  {
   "cell_type": "code",
   "execution_count": 24,
   "metadata": {
    "id": "A332cedB0q1G"
   },
   "outputs": [
    {
     "data": {
      "text/html": [
       "<div>\n",
       "<style scoped>\n",
       "    .dataframe tbody tr th:only-of-type {\n",
       "        vertical-align: middle;\n",
       "    }\n",
       "\n",
       "    .dataframe tbody tr th {\n",
       "        vertical-align: top;\n",
       "    }\n",
       "\n",
       "    .dataframe thead th {\n",
       "        text-align: right;\n",
       "    }\n",
       "</style>\n",
       "<table border=\"1\" class=\"dataframe\">\n",
       "  <thead>\n",
       "    <tr style=\"text-align: right;\">\n",
       "      <th></th>\n",
       "      <th>user_id</th>\n",
       "      <th>month</th>\n",
       "      <th>id</th>\n",
       "    </tr>\n",
       "  </thead>\n",
       "  <tbody>\n",
       "    <tr>\n",
       "      <th>0</th>\n",
       "      <td>1000</td>\n",
       "      <td>12</td>\n",
       "      <td>16</td>\n",
       "    </tr>\n",
       "    <tr>\n",
       "      <th>1</th>\n",
       "      <td>1001</td>\n",
       "      <td>8</td>\n",
       "      <td>27</td>\n",
       "    </tr>\n",
       "    <tr>\n",
       "      <th>2</th>\n",
       "      <td>1001</td>\n",
       "      <td>9</td>\n",
       "      <td>49</td>\n",
       "    </tr>\n",
       "    <tr>\n",
       "      <th>3</th>\n",
       "      <td>1001</td>\n",
       "      <td>10</td>\n",
       "      <td>65</td>\n",
       "    </tr>\n",
       "    <tr>\n",
       "      <th>4</th>\n",
       "      <td>1001</td>\n",
       "      <td>11</td>\n",
       "      <td>64</td>\n",
       "    </tr>\n",
       "  </tbody>\n",
       "</table>\n",
       "</div>"
      ],
      "text/plain": [
       "   user_id  month  id\n",
       "0     1000     12  16\n",
       "1     1001      8  27\n",
       "2     1001      9  49\n",
       "3     1001     10  65\n",
       "4     1001     11  64"
      ]
     },
     "execution_count": 24,
     "metadata": {},
     "output_type": "execute_result"
    }
   ],
   "source": [
    "# Calcula el número de llamadas hechas por cada usuario al mes. Guarda el resultado.\n",
    "\n",
    "calls_month= calls.groupby([\"user_id\",\"month\"])[\"id\"].count().reset_index()\n",
    "calls_month.head()\n"
   ]
  },
  {
   "cell_type": "code",
   "execution_count": 25,
   "metadata": {
    "id": "aw2cmuql0q1G"
   },
   "outputs": [
    {
     "data": {
      "text/html": [
       "<div>\n",
       "<style scoped>\n",
       "    .dataframe tbody tr th:only-of-type {\n",
       "        vertical-align: middle;\n",
       "    }\n",
       "\n",
       "    .dataframe tbody tr th {\n",
       "        vertical-align: top;\n",
       "    }\n",
       "\n",
       "    .dataframe thead th {\n",
       "        text-align: right;\n",
       "    }\n",
       "</style>\n",
       "<table border=\"1\" class=\"dataframe\">\n",
       "  <thead>\n",
       "    <tr style=\"text-align: right;\">\n",
       "      <th></th>\n",
       "      <th>user_id</th>\n",
       "      <th>month</th>\n",
       "      <th>duration</th>\n",
       "    </tr>\n",
       "  </thead>\n",
       "  <tbody>\n",
       "    <tr>\n",
       "      <th>0</th>\n",
       "      <td>1000</td>\n",
       "      <td>12</td>\n",
       "      <td>124.0</td>\n",
       "    </tr>\n",
       "    <tr>\n",
       "      <th>1</th>\n",
       "      <td>1001</td>\n",
       "      <td>8</td>\n",
       "      <td>182.0</td>\n",
       "    </tr>\n",
       "    <tr>\n",
       "      <th>2</th>\n",
       "      <td>1001</td>\n",
       "      <td>9</td>\n",
       "      <td>315.0</td>\n",
       "    </tr>\n",
       "    <tr>\n",
       "      <th>3</th>\n",
       "      <td>1001</td>\n",
       "      <td>10</td>\n",
       "      <td>393.0</td>\n",
       "    </tr>\n",
       "    <tr>\n",
       "      <th>4</th>\n",
       "      <td>1001</td>\n",
       "      <td>11</td>\n",
       "      <td>426.0</td>\n",
       "    </tr>\n",
       "  </tbody>\n",
       "</table>\n",
       "</div>"
      ],
      "text/plain": [
       "   user_id  month  duration\n",
       "0     1000     12     124.0\n",
       "1     1001      8     182.0\n",
       "2     1001      9     315.0\n",
       "3     1001     10     393.0\n",
       "4     1001     11     426.0"
      ]
     },
     "execution_count": 25,
     "metadata": {},
     "output_type": "execute_result"
    }
   ],
   "source": [
    "# Calcula la cantidad de minutos usados por cada usuario al mes. Guarda el resultado.\n",
    "\n",
    "min_month= calls.groupby([\"user_id\",\"month\"])[\"duration\"].sum().reset_index()\n",
    "min_month.head()\n"
   ]
  },
  {
   "cell_type": "markdown",
   "metadata": {},
   "source": [
    "**Conteo de llamadas y duracion en un DataFrame**"
   ]
  },
  {
   "cell_type": "code",
   "execution_count": 26,
   "metadata": {},
   "outputs": [
    {
     "data": {
      "text/html": [
       "<div>\n",
       "<style scoped>\n",
       "    .dataframe tbody tr th:only-of-type {\n",
       "        vertical-align: middle;\n",
       "    }\n",
       "\n",
       "    .dataframe tbody tr th {\n",
       "        vertical-align: top;\n",
       "    }\n",
       "\n",
       "    .dataframe thead th {\n",
       "        text-align: right;\n",
       "    }\n",
       "</style>\n",
       "<table border=\"1\" class=\"dataframe\">\n",
       "  <thead>\n",
       "    <tr style=\"text-align: right;\">\n",
       "      <th></th>\n",
       "      <th>user_id</th>\n",
       "      <th>month</th>\n",
       "      <th>total_calls</th>\n",
       "      <th>total_duration</th>\n",
       "    </tr>\n",
       "  </thead>\n",
       "  <tbody>\n",
       "    <tr>\n",
       "      <th>0</th>\n",
       "      <td>1000</td>\n",
       "      <td>12</td>\n",
       "      <td>16</td>\n",
       "      <td>124.0</td>\n",
       "    </tr>\n",
       "    <tr>\n",
       "      <th>1</th>\n",
       "      <td>1001</td>\n",
       "      <td>8</td>\n",
       "      <td>27</td>\n",
       "      <td>182.0</td>\n",
       "    </tr>\n",
       "    <tr>\n",
       "      <th>2</th>\n",
       "      <td>1001</td>\n",
       "      <td>9</td>\n",
       "      <td>49</td>\n",
       "      <td>315.0</td>\n",
       "    </tr>\n",
       "    <tr>\n",
       "      <th>3</th>\n",
       "      <td>1001</td>\n",
       "      <td>10</td>\n",
       "      <td>65</td>\n",
       "      <td>393.0</td>\n",
       "    </tr>\n",
       "    <tr>\n",
       "      <th>4</th>\n",
       "      <td>1001</td>\n",
       "      <td>11</td>\n",
       "      <td>64</td>\n",
       "      <td>426.0</td>\n",
       "    </tr>\n",
       "  </tbody>\n",
       "</table>\n",
       "</div>"
      ],
      "text/plain": [
       "   user_id  month  total_calls  total_duration\n",
       "0     1000     12           16           124.0\n",
       "1     1001      8           27           182.0\n",
       "2     1001      9           49           315.0\n",
       "3     1001     10           65           393.0\n",
       "4     1001     11           64           426.0"
      ]
     },
     "execution_count": 26,
     "metadata": {},
     "output_type": "execute_result"
    }
   ],
   "source": [
    "resume_calls = calls.groupby([\"user_id\",\"month\"]).agg(total_calls=(\"id\",\"count\"),total_duration=(\"duration\",\"sum\")).reset_index()\n",
    "resume_calls.head()\n"
   ]
  },
  {
   "cell_type": "code",
   "execution_count": 27,
   "metadata": {
    "id": "CcQvNHn60q1G"
   },
   "outputs": [
    {
     "data": {
      "text/html": [
       "<div>\n",
       "<style scoped>\n",
       "    .dataframe tbody tr th:only-of-type {\n",
       "        vertical-align: middle;\n",
       "    }\n",
       "\n",
       "    .dataframe tbody tr th {\n",
       "        vertical-align: top;\n",
       "    }\n",
       "\n",
       "    .dataframe thead th {\n",
       "        text-align: right;\n",
       "    }\n",
       "</style>\n",
       "<table border=\"1\" class=\"dataframe\">\n",
       "  <thead>\n",
       "    <tr style=\"text-align: right;\">\n",
       "      <th></th>\n",
       "      <th>user_id</th>\n",
       "      <th>month</th>\n",
       "      <th>total_messages</th>\n",
       "    </tr>\n",
       "  </thead>\n",
       "  <tbody>\n",
       "    <tr>\n",
       "      <th>0</th>\n",
       "      <td>1000</td>\n",
       "      <td>12</td>\n",
       "      <td>11</td>\n",
       "    </tr>\n",
       "    <tr>\n",
       "      <th>1</th>\n",
       "      <td>1001</td>\n",
       "      <td>8</td>\n",
       "      <td>30</td>\n",
       "    </tr>\n",
       "    <tr>\n",
       "      <th>2</th>\n",
       "      <td>1001</td>\n",
       "      <td>9</td>\n",
       "      <td>44</td>\n",
       "    </tr>\n",
       "    <tr>\n",
       "      <th>3</th>\n",
       "      <td>1001</td>\n",
       "      <td>10</td>\n",
       "      <td>53</td>\n",
       "    </tr>\n",
       "    <tr>\n",
       "      <th>4</th>\n",
       "      <td>1001</td>\n",
       "      <td>11</td>\n",
       "      <td>36</td>\n",
       "    </tr>\n",
       "  </tbody>\n",
       "</table>\n",
       "</div>"
      ],
      "text/plain": [
       "   user_id  month  total_messages\n",
       "0     1000     12              11\n",
       "1     1001      8              30\n",
       "2     1001      9              44\n",
       "3     1001     10              53\n",
       "4     1001     11              36"
      ]
     },
     "execution_count": 27,
     "metadata": {},
     "output_type": "execute_result"
    }
   ],
   "source": [
    "# Calcula el número de mensajes enviados por cada usuario al mes. Guarda el resultado.\n",
    "\n",
    "msn_month= messages.groupby([\"user_id\",\"month\"])[\"message_date\"].count().reset_index()\n",
    "msn_month.columns =[\"user_id\",\"month\",\"total_messages\"]\n",
    "msn_month.head()\n"
   ]
  },
  {
   "cell_type": "code",
   "execution_count": 28,
   "metadata": {
    "id": "H1AqN2eG0q1H"
   },
   "outputs": [
    {
     "data": {
      "text/html": [
       "<div>\n",
       "<style scoped>\n",
       "    .dataframe tbody tr th:only-of-type {\n",
       "        vertical-align: middle;\n",
       "    }\n",
       "\n",
       "    .dataframe tbody tr th {\n",
       "        vertical-align: top;\n",
       "    }\n",
       "\n",
       "    .dataframe thead th {\n",
       "        text-align: right;\n",
       "    }\n",
       "</style>\n",
       "<table border=\"1\" class=\"dataframe\">\n",
       "  <thead>\n",
       "    <tr style=\"text-align: right;\">\n",
       "      <th></th>\n",
       "      <th>user_id</th>\n",
       "      <th>month</th>\n",
       "      <th>gb_used</th>\n",
       "    </tr>\n",
       "  </thead>\n",
       "  <tbody>\n",
       "    <tr>\n",
       "      <th>0</th>\n",
       "      <td>1000</td>\n",
       "      <td>12</td>\n",
       "      <td>2.0</td>\n",
       "    </tr>\n",
       "    <tr>\n",
       "      <th>1</th>\n",
       "      <td>1001</td>\n",
       "      <td>8</td>\n",
       "      <td>7.0</td>\n",
       "    </tr>\n",
       "    <tr>\n",
       "      <th>2</th>\n",
       "      <td>1001</td>\n",
       "      <td>9</td>\n",
       "      <td>14.0</td>\n",
       "    </tr>\n",
       "    <tr>\n",
       "      <th>3</th>\n",
       "      <td>1001</td>\n",
       "      <td>10</td>\n",
       "      <td>22.0</td>\n",
       "    </tr>\n",
       "    <tr>\n",
       "      <th>4</th>\n",
       "      <td>1001</td>\n",
       "      <td>11</td>\n",
       "      <td>19.0</td>\n",
       "    </tr>\n",
       "  </tbody>\n",
       "</table>\n",
       "</div>"
      ],
      "text/plain": [
       "   user_id  month  gb_used\n",
       "0     1000     12      2.0\n",
       "1     1001      8      7.0\n",
       "2     1001      9     14.0\n",
       "3     1001     10     22.0\n",
       "4     1001     11     19.0"
      ]
     },
     "execution_count": 28,
     "metadata": {},
     "output_type": "execute_result"
    }
   ],
   "source": [
    "# Calcula el volumen del tráfico de Internet usado por cada usuario al mes. Guarda el resultado.\n",
    "\n",
    "int_month= internet.groupby([\"user_id\",\"month\"])[\"gb_used\"].sum().reset_index()\n",
    "int_month[\"gb_used\"] = np.ceil (int_month[\"gb_used\"])\n",
    "int_month.head()\n"
   ]
  },
  {
   "cell_type": "markdown",
   "metadata": {
    "id": "VDfYXnj80q1H"
   },
   "source": [
    "Union de los DataFrames "
   ]
  },
  {
   "cell_type": "code",
   "execution_count": 29,
   "metadata": {
    "id": "FW99ykyf0q1H",
    "scrolled": true
   },
   "outputs": [
    {
     "data": {
      "text/html": [
       "<div>\n",
       "<style scoped>\n",
       "    .dataframe tbody tr th:only-of-type {\n",
       "        vertical-align: middle;\n",
       "    }\n",
       "\n",
       "    .dataframe tbody tr th {\n",
       "        vertical-align: top;\n",
       "    }\n",
       "\n",
       "    .dataframe thead th {\n",
       "        text-align: right;\n",
       "    }\n",
       "</style>\n",
       "<table border=\"1\" class=\"dataframe\">\n",
       "  <thead>\n",
       "    <tr style=\"text-align: right;\">\n",
       "      <th></th>\n",
       "      <th>user_id</th>\n",
       "      <th>month</th>\n",
       "      <th>total_calls</th>\n",
       "      <th>total_duration</th>\n",
       "      <th>total_messages</th>\n",
       "      <th>gb_used</th>\n",
       "    </tr>\n",
       "  </thead>\n",
       "  <tbody>\n",
       "    <tr>\n",
       "      <th>0</th>\n",
       "      <td>1000</td>\n",
       "      <td>12</td>\n",
       "      <td>16.0</td>\n",
       "      <td>124.0</td>\n",
       "      <td>11.0</td>\n",
       "      <td>2.0</td>\n",
       "    </tr>\n",
       "    <tr>\n",
       "      <th>1</th>\n",
       "      <td>1001</td>\n",
       "      <td>8</td>\n",
       "      <td>27.0</td>\n",
       "      <td>182.0</td>\n",
       "      <td>30.0</td>\n",
       "      <td>7.0</td>\n",
       "    </tr>\n",
       "    <tr>\n",
       "      <th>2</th>\n",
       "      <td>1001</td>\n",
       "      <td>9</td>\n",
       "      <td>49.0</td>\n",
       "      <td>315.0</td>\n",
       "      <td>44.0</td>\n",
       "      <td>14.0</td>\n",
       "    </tr>\n",
       "    <tr>\n",
       "      <th>3</th>\n",
       "      <td>1001</td>\n",
       "      <td>10</td>\n",
       "      <td>65.0</td>\n",
       "      <td>393.0</td>\n",
       "      <td>53.0</td>\n",
       "      <td>22.0</td>\n",
       "    </tr>\n",
       "    <tr>\n",
       "      <th>4</th>\n",
       "      <td>1001</td>\n",
       "      <td>11</td>\n",
       "      <td>64.0</td>\n",
       "      <td>426.0</td>\n",
       "      <td>36.0</td>\n",
       "      <td>19.0</td>\n",
       "    </tr>\n",
       "  </tbody>\n",
       "</table>\n",
       "</div>"
      ],
      "text/plain": [
       "   user_id  month  total_calls  total_duration  total_messages  gb_used\n",
       "0     1000     12         16.0           124.0            11.0      2.0\n",
       "1     1001      8         27.0           182.0            30.0      7.0\n",
       "2     1001      9         49.0           315.0            44.0     14.0\n",
       "3     1001     10         65.0           393.0            53.0     22.0\n",
       "4     1001     11         64.0           426.0            36.0     19.0"
      ]
     },
     "execution_count": 29,
     "metadata": {},
     "output_type": "execute_result"
    }
   ],
   "source": [
    "# Fusiona los datos de llamadas, minutos, mensajes e Internet con base en user_id y month\n",
    "\n",
    "all_info = resume_calls.merge(msn_month, on= [\"user_id\",\"month\"], how=\"outer\")\n",
    "all_info = all_info.merge(int_month, on= [\"user_id\",\"month\"], how=\"outer\")\n",
    "all_info.head()\n"
   ]
  },
  {
   "cell_type": "code",
   "execution_count": 30,
   "metadata": {},
   "outputs": [
    {
     "data": {
      "text/html": [
       "<div>\n",
       "<style scoped>\n",
       "    .dataframe tbody tr th:only-of-type {\n",
       "        vertical-align: middle;\n",
       "    }\n",
       "\n",
       "    .dataframe tbody tr th {\n",
       "        vertical-align: top;\n",
       "    }\n",
       "\n",
       "    .dataframe thead th {\n",
       "        text-align: right;\n",
       "    }\n",
       "</style>\n",
       "<table border=\"1\" class=\"dataframe\">\n",
       "  <thead>\n",
       "    <tr style=\"text-align: right;\">\n",
       "      <th></th>\n",
       "      <th>user_id</th>\n",
       "      <th>first_name</th>\n",
       "      <th>last_name</th>\n",
       "      <th>age</th>\n",
       "      <th>city</th>\n",
       "      <th>reg_date</th>\n",
       "      <th>plan</th>\n",
       "      <th>churn_date</th>\n",
       "      <th>month</th>\n",
       "      <th>messages_included</th>\n",
       "      <th>mb_per_month_included</th>\n",
       "      <th>minutes_included</th>\n",
       "      <th>usd_monthly_pay</th>\n",
       "      <th>usd_per_gb</th>\n",
       "      <th>usd_per_message</th>\n",
       "      <th>usd_per_minute</th>\n",
       "      <th>plan_name</th>\n",
       "      <th>gb_per_month_included</th>\n",
       "    </tr>\n",
       "  </thead>\n",
       "  <tbody>\n",
       "    <tr>\n",
       "      <th>0</th>\n",
       "      <td>1000</td>\n",
       "      <td>Anamaria</td>\n",
       "      <td>Bauer</td>\n",
       "      <td>45</td>\n",
       "      <td>Atlanta-Sandy Springs-Roswell, GA MSA</td>\n",
       "      <td>2018-12-24</td>\n",
       "      <td>ultimate</td>\n",
       "      <td>NaN</td>\n",
       "      <td>12</td>\n",
       "      <td>1000</td>\n",
       "      <td>30720</td>\n",
       "      <td>3000</td>\n",
       "      <td>70</td>\n",
       "      <td>7</td>\n",
       "      <td>0.01</td>\n",
       "      <td>0.01</td>\n",
       "      <td>ultimate</td>\n",
       "      <td>30.0</td>\n",
       "    </tr>\n",
       "    <tr>\n",
       "      <th>1</th>\n",
       "      <td>1006</td>\n",
       "      <td>Jesusa</td>\n",
       "      <td>Bradford</td>\n",
       "      <td>73</td>\n",
       "      <td>San Francisco-Oakland-Berkeley, CA MSA</td>\n",
       "      <td>2018-11-27</td>\n",
       "      <td>ultimate</td>\n",
       "      <td>2018-12-18</td>\n",
       "      <td>11</td>\n",
       "      <td>1000</td>\n",
       "      <td>30720</td>\n",
       "      <td>3000</td>\n",
       "      <td>70</td>\n",
       "      <td>7</td>\n",
       "      <td>0.01</td>\n",
       "      <td>0.01</td>\n",
       "      <td>ultimate</td>\n",
       "      <td>30.0</td>\n",
       "    </tr>\n",
       "    <tr>\n",
       "      <th>2</th>\n",
       "      <td>1008</td>\n",
       "      <td>Emely</td>\n",
       "      <td>Hoffman</td>\n",
       "      <td>53</td>\n",
       "      <td>Orlando-Kissimmee-Sanford, FL MSA</td>\n",
       "      <td>2018-08-03</td>\n",
       "      <td>ultimate</td>\n",
       "      <td>NaN</td>\n",
       "      <td>8</td>\n",
       "      <td>1000</td>\n",
       "      <td>30720</td>\n",
       "      <td>3000</td>\n",
       "      <td>70</td>\n",
       "      <td>7</td>\n",
       "      <td>0.01</td>\n",
       "      <td>0.01</td>\n",
       "      <td>ultimate</td>\n",
       "      <td>30.0</td>\n",
       "    </tr>\n",
       "    <tr>\n",
       "      <th>3</th>\n",
       "      <td>1011</td>\n",
       "      <td>Halina</td>\n",
       "      <td>Henry</td>\n",
       "      <td>73</td>\n",
       "      <td>Cleveland-Elyria, OH MSA</td>\n",
       "      <td>2018-01-18</td>\n",
       "      <td>ultimate</td>\n",
       "      <td>NaN</td>\n",
       "      <td>1</td>\n",
       "      <td>1000</td>\n",
       "      <td>30720</td>\n",
       "      <td>3000</td>\n",
       "      <td>70</td>\n",
       "      <td>7</td>\n",
       "      <td>0.01</td>\n",
       "      <td>0.01</td>\n",
       "      <td>ultimate</td>\n",
       "      <td>30.0</td>\n",
       "    </tr>\n",
       "    <tr>\n",
       "      <th>4</th>\n",
       "      <td>1013</td>\n",
       "      <td>Nicolas</td>\n",
       "      <td>Snider</td>\n",
       "      <td>50</td>\n",
       "      <td>Knoxville, TN MSA</td>\n",
       "      <td>2018-12-01</td>\n",
       "      <td>ultimate</td>\n",
       "      <td>NaN</td>\n",
       "      <td>12</td>\n",
       "      <td>1000</td>\n",
       "      <td>30720</td>\n",
       "      <td>3000</td>\n",
       "      <td>70</td>\n",
       "      <td>7</td>\n",
       "      <td>0.01</td>\n",
       "      <td>0.01</td>\n",
       "      <td>ultimate</td>\n",
       "      <td>30.0</td>\n",
       "    </tr>\n",
       "  </tbody>\n",
       "</table>\n",
       "</div>"
      ],
      "text/plain": [
       "   user_id first_name last_name  age                                    city  \\\n",
       "0     1000   Anamaria     Bauer   45   Atlanta-Sandy Springs-Roswell, GA MSA   \n",
       "1     1006     Jesusa  Bradford   73  San Francisco-Oakland-Berkeley, CA MSA   \n",
       "2     1008      Emely   Hoffman   53       Orlando-Kissimmee-Sanford, FL MSA   \n",
       "3     1011     Halina     Henry   73                Cleveland-Elyria, OH MSA   \n",
       "4     1013    Nicolas    Snider   50                       Knoxville, TN MSA   \n",
       "\n",
       "    reg_date      plan  churn_date  month  messages_included  \\\n",
       "0 2018-12-24  ultimate         NaN     12               1000   \n",
       "1 2018-11-27  ultimate  2018-12-18     11               1000   \n",
       "2 2018-08-03  ultimate         NaN      8               1000   \n",
       "3 2018-01-18  ultimate         NaN      1               1000   \n",
       "4 2018-12-01  ultimate         NaN     12               1000   \n",
       "\n",
       "   mb_per_month_included  minutes_included  usd_monthly_pay  usd_per_gb  \\\n",
       "0                  30720              3000               70           7   \n",
       "1                  30720              3000               70           7   \n",
       "2                  30720              3000               70           7   \n",
       "3                  30720              3000               70           7   \n",
       "4                  30720              3000               70           7   \n",
       "\n",
       "   usd_per_message  usd_per_minute plan_name  gb_per_month_included  \n",
       "0             0.01            0.01  ultimate                   30.0  \n",
       "1             0.01            0.01  ultimate                   30.0  \n",
       "2             0.01            0.01  ultimate                   30.0  \n",
       "3             0.01            0.01  ultimate                   30.0  \n",
       "4             0.01            0.01  ultimate                   30.0  "
      ]
     },
     "execution_count": 30,
     "metadata": {},
     "output_type": "execute_result"
    }
   ],
   "source": [
    "#Se unio el DataFrame de usuarios y tarifas\n",
    "\n",
    "all_users = users.merge(plans, left_on = \"plan\",right_on = \"plan_name\")\n",
    "all_users.head()"
   ]
  },
  {
   "cell_type": "code",
   "execution_count": 31,
   "metadata": {
    "id": "0dNOXHag0q1H"
   },
   "outputs": [
    {
     "data": {
      "text/html": [
       "<div>\n",
       "<style scoped>\n",
       "    .dataframe tbody tr th:only-of-type {\n",
       "        vertical-align: middle;\n",
       "    }\n",
       "\n",
       "    .dataframe tbody tr th {\n",
       "        vertical-align: top;\n",
       "    }\n",
       "\n",
       "    .dataframe thead th {\n",
       "        text-align: right;\n",
       "    }\n",
       "</style>\n",
       "<table border=\"1\" class=\"dataframe\">\n",
       "  <thead>\n",
       "    <tr style=\"text-align: right;\">\n",
       "      <th></th>\n",
       "      <th>user_id</th>\n",
       "      <th>month_x</th>\n",
       "      <th>total_calls</th>\n",
       "      <th>total_duration</th>\n",
       "      <th>total_messages</th>\n",
       "      <th>gb_used</th>\n",
       "      <th>first_name</th>\n",
       "      <th>last_name</th>\n",
       "      <th>age</th>\n",
       "      <th>city</th>\n",
       "      <th>...</th>\n",
       "      <th>month_y</th>\n",
       "      <th>messages_included</th>\n",
       "      <th>mb_per_month_included</th>\n",
       "      <th>minutes_included</th>\n",
       "      <th>usd_monthly_pay</th>\n",
       "      <th>usd_per_gb</th>\n",
       "      <th>usd_per_message</th>\n",
       "      <th>usd_per_minute</th>\n",
       "      <th>plan_name</th>\n",
       "      <th>gb_per_month_included</th>\n",
       "    </tr>\n",
       "  </thead>\n",
       "  <tbody>\n",
       "    <tr>\n",
       "      <th>0</th>\n",
       "      <td>1000</td>\n",
       "      <td>12.0</td>\n",
       "      <td>16.0</td>\n",
       "      <td>124.0</td>\n",
       "      <td>11.0</td>\n",
       "      <td>2.0</td>\n",
       "      <td>Anamaria</td>\n",
       "      <td>Bauer</td>\n",
       "      <td>45</td>\n",
       "      <td>Atlanta-Sandy Springs-Roswell, GA MSA</td>\n",
       "      <td>...</td>\n",
       "      <td>12</td>\n",
       "      <td>1000</td>\n",
       "      <td>30720</td>\n",
       "      <td>3000</td>\n",
       "      <td>70</td>\n",
       "      <td>7</td>\n",
       "      <td>0.01</td>\n",
       "      <td>0.01</td>\n",
       "      <td>ultimate</td>\n",
       "      <td>30.0</td>\n",
       "    </tr>\n",
       "    <tr>\n",
       "      <th>1</th>\n",
       "      <td>1001</td>\n",
       "      <td>8.0</td>\n",
       "      <td>27.0</td>\n",
       "      <td>182.0</td>\n",
       "      <td>30.0</td>\n",
       "      <td>7.0</td>\n",
       "      <td>Mickey</td>\n",
       "      <td>Wilkerson</td>\n",
       "      <td>28</td>\n",
       "      <td>Seattle-Tacoma-Bellevue, WA MSA</td>\n",
       "      <td>...</td>\n",
       "      <td>8</td>\n",
       "      <td>50</td>\n",
       "      <td>15360</td>\n",
       "      <td>500</td>\n",
       "      <td>20</td>\n",
       "      <td>10</td>\n",
       "      <td>0.03</td>\n",
       "      <td>0.03</td>\n",
       "      <td>surf</td>\n",
       "      <td>15.0</td>\n",
       "    </tr>\n",
       "    <tr>\n",
       "      <th>2</th>\n",
       "      <td>1001</td>\n",
       "      <td>9.0</td>\n",
       "      <td>49.0</td>\n",
       "      <td>315.0</td>\n",
       "      <td>44.0</td>\n",
       "      <td>14.0</td>\n",
       "      <td>Mickey</td>\n",
       "      <td>Wilkerson</td>\n",
       "      <td>28</td>\n",
       "      <td>Seattle-Tacoma-Bellevue, WA MSA</td>\n",
       "      <td>...</td>\n",
       "      <td>8</td>\n",
       "      <td>50</td>\n",
       "      <td>15360</td>\n",
       "      <td>500</td>\n",
       "      <td>20</td>\n",
       "      <td>10</td>\n",
       "      <td>0.03</td>\n",
       "      <td>0.03</td>\n",
       "      <td>surf</td>\n",
       "      <td>15.0</td>\n",
       "    </tr>\n",
       "    <tr>\n",
       "      <th>3</th>\n",
       "      <td>1001</td>\n",
       "      <td>10.0</td>\n",
       "      <td>65.0</td>\n",
       "      <td>393.0</td>\n",
       "      <td>53.0</td>\n",
       "      <td>22.0</td>\n",
       "      <td>Mickey</td>\n",
       "      <td>Wilkerson</td>\n",
       "      <td>28</td>\n",
       "      <td>Seattle-Tacoma-Bellevue, WA MSA</td>\n",
       "      <td>...</td>\n",
       "      <td>8</td>\n",
       "      <td>50</td>\n",
       "      <td>15360</td>\n",
       "      <td>500</td>\n",
       "      <td>20</td>\n",
       "      <td>10</td>\n",
       "      <td>0.03</td>\n",
       "      <td>0.03</td>\n",
       "      <td>surf</td>\n",
       "      <td>15.0</td>\n",
       "    </tr>\n",
       "    <tr>\n",
       "      <th>4</th>\n",
       "      <td>1001</td>\n",
       "      <td>11.0</td>\n",
       "      <td>64.0</td>\n",
       "      <td>426.0</td>\n",
       "      <td>36.0</td>\n",
       "      <td>19.0</td>\n",
       "      <td>Mickey</td>\n",
       "      <td>Wilkerson</td>\n",
       "      <td>28</td>\n",
       "      <td>Seattle-Tacoma-Bellevue, WA MSA</td>\n",
       "      <td>...</td>\n",
       "      <td>8</td>\n",
       "      <td>50</td>\n",
       "      <td>15360</td>\n",
       "      <td>500</td>\n",
       "      <td>20</td>\n",
       "      <td>10</td>\n",
       "      <td>0.03</td>\n",
       "      <td>0.03</td>\n",
       "      <td>surf</td>\n",
       "      <td>15.0</td>\n",
       "    </tr>\n",
       "  </tbody>\n",
       "</table>\n",
       "<p>5 rows × 23 columns</p>\n",
       "</div>"
      ],
      "text/plain": [
       "   user_id  month_x  total_calls  total_duration  total_messages  gb_used  \\\n",
       "0     1000     12.0         16.0           124.0            11.0      2.0   \n",
       "1     1001      8.0         27.0           182.0            30.0      7.0   \n",
       "2     1001      9.0         49.0           315.0            44.0     14.0   \n",
       "3     1001     10.0         65.0           393.0            53.0     22.0   \n",
       "4     1001     11.0         64.0           426.0            36.0     19.0   \n",
       "\n",
       "  first_name  last_name  age                                   city  ...  \\\n",
       "0   Anamaria      Bauer   45  Atlanta-Sandy Springs-Roswell, GA MSA  ...   \n",
       "1     Mickey  Wilkerson   28        Seattle-Tacoma-Bellevue, WA MSA  ...   \n",
       "2     Mickey  Wilkerson   28        Seattle-Tacoma-Bellevue, WA MSA  ...   \n",
       "3     Mickey  Wilkerson   28        Seattle-Tacoma-Bellevue, WA MSA  ...   \n",
       "4     Mickey  Wilkerson   28        Seattle-Tacoma-Bellevue, WA MSA  ...   \n",
       "\n",
       "  month_y messages_included mb_per_month_included  minutes_included  \\\n",
       "0      12              1000                 30720              3000   \n",
       "1       8                50                 15360               500   \n",
       "2       8                50                 15360               500   \n",
       "3       8                50                 15360               500   \n",
       "4       8                50                 15360               500   \n",
       "\n",
       "   usd_monthly_pay  usd_per_gb  usd_per_message  usd_per_minute  plan_name  \\\n",
       "0               70           7             0.01            0.01   ultimate   \n",
       "1               20          10             0.03            0.03       surf   \n",
       "2               20          10             0.03            0.03       surf   \n",
       "3               20          10             0.03            0.03       surf   \n",
       "4               20          10             0.03            0.03       surf   \n",
       "\n",
       "   gb_per_month_included  \n",
       "0                   30.0  \n",
       "1                   15.0  \n",
       "2                   15.0  \n",
       "3                   15.0  \n",
       "4                   15.0  \n",
       "\n",
       "[5 rows x 23 columns]"
      ]
     },
     "execution_count": 31,
     "metadata": {},
     "output_type": "execute_result"
    }
   ],
   "source": [
    "# Añade la información de la tarifa\n",
    "\n",
    "all_info = all_info.merge(all_users, on=[\"user_id\",], how=\"outer\")\n",
    "all_info.fillna(0,inplace=True)\n",
    "all_info.head()\n"
   ]
  },
  {
   "cell_type": "markdown",
   "metadata": {},
   "source": [
    "## Consolidado"
   ]
  },
  {
   "cell_type": "code",
   "execution_count": 32,
   "metadata": {
    "id": "5FGCf_c60q1I"
   },
   "outputs": [
    {
     "data": {
      "text/html": [
       "<div>\n",
       "<style scoped>\n",
       "    .dataframe tbody tr th:only-of-type {\n",
       "        vertical-align: middle;\n",
       "    }\n",
       "\n",
       "    .dataframe tbody tr th {\n",
       "        vertical-align: top;\n",
       "    }\n",
       "\n",
       "    .dataframe thead th {\n",
       "        text-align: right;\n",
       "    }\n",
       "</style>\n",
       "<table border=\"1\" class=\"dataframe\">\n",
       "  <thead>\n",
       "    <tr style=\"text-align: right;\">\n",
       "      <th></th>\n",
       "      <th>user_id</th>\n",
       "      <th>month_x</th>\n",
       "      <th>total_calls</th>\n",
       "      <th>total_duration</th>\n",
       "      <th>total_messages</th>\n",
       "      <th>gb_used</th>\n",
       "      <th>first_name</th>\n",
       "      <th>last_name</th>\n",
       "      <th>age</th>\n",
       "      <th>city</th>\n",
       "      <th>...</th>\n",
       "      <th>plan_name</th>\n",
       "      <th>gb_per_month_included</th>\n",
       "      <th>excess_calls</th>\n",
       "      <th>excess_messages</th>\n",
       "      <th>excess_internet</th>\n",
       "      <th>pay_excess_calls</th>\n",
       "      <th>pay_excess_messages</th>\n",
       "      <th>pay_excess_internet</th>\n",
       "      <th>total_excess_pay</th>\n",
       "      <th>total_pay</th>\n",
       "    </tr>\n",
       "  </thead>\n",
       "  <tbody>\n",
       "    <tr>\n",
       "      <th>0</th>\n",
       "      <td>1000</td>\n",
       "      <td>12.0</td>\n",
       "      <td>16.0</td>\n",
       "      <td>124.0</td>\n",
       "      <td>11.0</td>\n",
       "      <td>2.0</td>\n",
       "      <td>Anamaria</td>\n",
       "      <td>Bauer</td>\n",
       "      <td>45</td>\n",
       "      <td>Atlanta-Sandy Springs-Roswell, GA MSA</td>\n",
       "      <td>...</td>\n",
       "      <td>ultimate</td>\n",
       "      <td>30.0</td>\n",
       "      <td>0.0</td>\n",
       "      <td>0.0</td>\n",
       "      <td>0.0</td>\n",
       "      <td>0.0</td>\n",
       "      <td>0.00</td>\n",
       "      <td>0.0</td>\n",
       "      <td>0.00</td>\n",
       "      <td>70.00</td>\n",
       "    </tr>\n",
       "    <tr>\n",
       "      <th>1</th>\n",
       "      <td>1001</td>\n",
       "      <td>8.0</td>\n",
       "      <td>27.0</td>\n",
       "      <td>182.0</td>\n",
       "      <td>30.0</td>\n",
       "      <td>7.0</td>\n",
       "      <td>Mickey</td>\n",
       "      <td>Wilkerson</td>\n",
       "      <td>28</td>\n",
       "      <td>Seattle-Tacoma-Bellevue, WA MSA</td>\n",
       "      <td>...</td>\n",
       "      <td>surf</td>\n",
       "      <td>15.0</td>\n",
       "      <td>0.0</td>\n",
       "      <td>0.0</td>\n",
       "      <td>0.0</td>\n",
       "      <td>0.0</td>\n",
       "      <td>0.00</td>\n",
       "      <td>0.0</td>\n",
       "      <td>0.00</td>\n",
       "      <td>20.00</td>\n",
       "    </tr>\n",
       "    <tr>\n",
       "      <th>2</th>\n",
       "      <td>1001</td>\n",
       "      <td>9.0</td>\n",
       "      <td>49.0</td>\n",
       "      <td>315.0</td>\n",
       "      <td>44.0</td>\n",
       "      <td>14.0</td>\n",
       "      <td>Mickey</td>\n",
       "      <td>Wilkerson</td>\n",
       "      <td>28</td>\n",
       "      <td>Seattle-Tacoma-Bellevue, WA MSA</td>\n",
       "      <td>...</td>\n",
       "      <td>surf</td>\n",
       "      <td>15.0</td>\n",
       "      <td>0.0</td>\n",
       "      <td>0.0</td>\n",
       "      <td>0.0</td>\n",
       "      <td>0.0</td>\n",
       "      <td>0.00</td>\n",
       "      <td>0.0</td>\n",
       "      <td>0.00</td>\n",
       "      <td>20.00</td>\n",
       "    </tr>\n",
       "    <tr>\n",
       "      <th>3</th>\n",
       "      <td>1001</td>\n",
       "      <td>10.0</td>\n",
       "      <td>65.0</td>\n",
       "      <td>393.0</td>\n",
       "      <td>53.0</td>\n",
       "      <td>22.0</td>\n",
       "      <td>Mickey</td>\n",
       "      <td>Wilkerson</td>\n",
       "      <td>28</td>\n",
       "      <td>Seattle-Tacoma-Bellevue, WA MSA</td>\n",
       "      <td>...</td>\n",
       "      <td>surf</td>\n",
       "      <td>15.0</td>\n",
       "      <td>0.0</td>\n",
       "      <td>3.0</td>\n",
       "      <td>7.0</td>\n",
       "      <td>0.0</td>\n",
       "      <td>0.09</td>\n",
       "      <td>70.0</td>\n",
       "      <td>70.09</td>\n",
       "      <td>90.09</td>\n",
       "    </tr>\n",
       "    <tr>\n",
       "      <th>4</th>\n",
       "      <td>1001</td>\n",
       "      <td>11.0</td>\n",
       "      <td>64.0</td>\n",
       "      <td>426.0</td>\n",
       "      <td>36.0</td>\n",
       "      <td>19.0</td>\n",
       "      <td>Mickey</td>\n",
       "      <td>Wilkerson</td>\n",
       "      <td>28</td>\n",
       "      <td>Seattle-Tacoma-Bellevue, WA MSA</td>\n",
       "      <td>...</td>\n",
       "      <td>surf</td>\n",
       "      <td>15.0</td>\n",
       "      <td>0.0</td>\n",
       "      <td>0.0</td>\n",
       "      <td>4.0</td>\n",
       "      <td>0.0</td>\n",
       "      <td>0.00</td>\n",
       "      <td>40.0</td>\n",
       "      <td>40.00</td>\n",
       "      <td>60.00</td>\n",
       "    </tr>\n",
       "    <tr>\n",
       "      <th>...</th>\n",
       "      <td>...</td>\n",
       "      <td>...</td>\n",
       "      <td>...</td>\n",
       "      <td>...</td>\n",
       "      <td>...</td>\n",
       "      <td>...</td>\n",
       "      <td>...</td>\n",
       "      <td>...</td>\n",
       "      <td>...</td>\n",
       "      <td>...</td>\n",
       "      <td>...</td>\n",
       "      <td>...</td>\n",
       "      <td>...</td>\n",
       "      <td>...</td>\n",
       "      <td>...</td>\n",
       "      <td>...</td>\n",
       "      <td>...</td>\n",
       "      <td>...</td>\n",
       "      <td>...</td>\n",
       "      <td>...</td>\n",
       "      <td>...</td>\n",
       "    </tr>\n",
       "    <tr>\n",
       "      <th>2298</th>\n",
       "      <td>1143</td>\n",
       "      <td>0.0</td>\n",
       "      <td>0.0</td>\n",
       "      <td>0.0</td>\n",
       "      <td>0.0</td>\n",
       "      <td>0.0</td>\n",
       "      <td>Lorina</td>\n",
       "      <td>Stevens</td>\n",
       "      <td>69</td>\n",
       "      <td>Cincinnati, OH-KY-IN MSA</td>\n",
       "      <td>...</td>\n",
       "      <td>surf</td>\n",
       "      <td>15.0</td>\n",
       "      <td>0.0</td>\n",
       "      <td>0.0</td>\n",
       "      <td>0.0</td>\n",
       "      <td>0.0</td>\n",
       "      <td>0.00</td>\n",
       "      <td>0.0</td>\n",
       "      <td>0.00</td>\n",
       "      <td>20.00</td>\n",
       "    </tr>\n",
       "    <tr>\n",
       "      <th>2299</th>\n",
       "      <td>1307</td>\n",
       "      <td>0.0</td>\n",
       "      <td>0.0</td>\n",
       "      <td>0.0</td>\n",
       "      <td>0.0</td>\n",
       "      <td>0.0</td>\n",
       "      <td>Kristopher</td>\n",
       "      <td>Lang</td>\n",
       "      <td>28</td>\n",
       "      <td>Boston-Cambridge-Newton, MA-NH MSA</td>\n",
       "      <td>...</td>\n",
       "      <td>surf</td>\n",
       "      <td>15.0</td>\n",
       "      <td>0.0</td>\n",
       "      <td>0.0</td>\n",
       "      <td>0.0</td>\n",
       "      <td>0.0</td>\n",
       "      <td>0.00</td>\n",
       "      <td>0.0</td>\n",
       "      <td>0.00</td>\n",
       "      <td>20.00</td>\n",
       "    </tr>\n",
       "    <tr>\n",
       "      <th>2300</th>\n",
       "      <td>1319</td>\n",
       "      <td>0.0</td>\n",
       "      <td>0.0</td>\n",
       "      <td>0.0</td>\n",
       "      <td>0.0</td>\n",
       "      <td>0.0</td>\n",
       "      <td>Eliseo</td>\n",
       "      <td>Carson</td>\n",
       "      <td>21</td>\n",
       "      <td>Colorado Springs, CO MSA</td>\n",
       "      <td>...</td>\n",
       "      <td>surf</td>\n",
       "      <td>15.0</td>\n",
       "      <td>0.0</td>\n",
       "      <td>0.0</td>\n",
       "      <td>0.0</td>\n",
       "      <td>0.0</td>\n",
       "      <td>0.00</td>\n",
       "      <td>0.0</td>\n",
       "      <td>0.00</td>\n",
       "      <td>20.00</td>\n",
       "    </tr>\n",
       "    <tr>\n",
       "      <th>2301</th>\n",
       "      <td>1378</td>\n",
       "      <td>0.0</td>\n",
       "      <td>0.0</td>\n",
       "      <td>0.0</td>\n",
       "      <td>0.0</td>\n",
       "      <td>0.0</td>\n",
       "      <td>Mckinley</td>\n",
       "      <td>Clayton</td>\n",
       "      <td>22</td>\n",
       "      <td>Denver-Aurora-Lakewood, CO MSA</td>\n",
       "      <td>...</td>\n",
       "      <td>surf</td>\n",
       "      <td>15.0</td>\n",
       "      <td>0.0</td>\n",
       "      <td>0.0</td>\n",
       "      <td>0.0</td>\n",
       "      <td>0.0</td>\n",
       "      <td>0.00</td>\n",
       "      <td>0.0</td>\n",
       "      <td>0.00</td>\n",
       "      <td>20.00</td>\n",
       "    </tr>\n",
       "    <tr>\n",
       "      <th>2302</th>\n",
       "      <td>1473</td>\n",
       "      <td>0.0</td>\n",
       "      <td>0.0</td>\n",
       "      <td>0.0</td>\n",
       "      <td>0.0</td>\n",
       "      <td>0.0</td>\n",
       "      <td>Kirk</td>\n",
       "      <td>Velez</td>\n",
       "      <td>61</td>\n",
       "      <td>Louisville/Jefferson County, KY-IN MSA</td>\n",
       "      <td>...</td>\n",
       "      <td>surf</td>\n",
       "      <td>15.0</td>\n",
       "      <td>0.0</td>\n",
       "      <td>0.0</td>\n",
       "      <td>0.0</td>\n",
       "      <td>0.0</td>\n",
       "      <td>0.00</td>\n",
       "      <td>0.0</td>\n",
       "      <td>0.00</td>\n",
       "      <td>20.00</td>\n",
       "    </tr>\n",
       "  </tbody>\n",
       "</table>\n",
       "<p>2303 rows × 31 columns</p>\n",
       "</div>"
      ],
      "text/plain": [
       "      user_id  month_x  total_calls  total_duration  total_messages  gb_used  \\\n",
       "0        1000     12.0         16.0           124.0            11.0      2.0   \n",
       "1        1001      8.0         27.0           182.0            30.0      7.0   \n",
       "2        1001      9.0         49.0           315.0            44.0     14.0   \n",
       "3        1001     10.0         65.0           393.0            53.0     22.0   \n",
       "4        1001     11.0         64.0           426.0            36.0     19.0   \n",
       "...       ...      ...          ...             ...             ...      ...   \n",
       "2298     1143      0.0          0.0             0.0             0.0      0.0   \n",
       "2299     1307      0.0          0.0             0.0             0.0      0.0   \n",
       "2300     1319      0.0          0.0             0.0             0.0      0.0   \n",
       "2301     1378      0.0          0.0             0.0             0.0      0.0   \n",
       "2302     1473      0.0          0.0             0.0             0.0      0.0   \n",
       "\n",
       "      first_name  last_name  age                                    city  ...  \\\n",
       "0       Anamaria      Bauer   45   Atlanta-Sandy Springs-Roswell, GA MSA  ...   \n",
       "1         Mickey  Wilkerson   28         Seattle-Tacoma-Bellevue, WA MSA  ...   \n",
       "2         Mickey  Wilkerson   28         Seattle-Tacoma-Bellevue, WA MSA  ...   \n",
       "3         Mickey  Wilkerson   28         Seattle-Tacoma-Bellevue, WA MSA  ...   \n",
       "4         Mickey  Wilkerson   28         Seattle-Tacoma-Bellevue, WA MSA  ...   \n",
       "...          ...        ...  ...                                     ...  ...   \n",
       "2298      Lorina    Stevens   69                Cincinnati, OH-KY-IN MSA  ...   \n",
       "2299  Kristopher       Lang   28      Boston-Cambridge-Newton, MA-NH MSA  ...   \n",
       "2300      Eliseo     Carson   21                Colorado Springs, CO MSA  ...   \n",
       "2301    Mckinley    Clayton   22          Denver-Aurora-Lakewood, CO MSA  ...   \n",
       "2302        Kirk      Velez   61  Louisville/Jefferson County, KY-IN MSA  ...   \n",
       "\n",
       "     plan_name gb_per_month_included excess_calls  excess_messages  \\\n",
       "0     ultimate                  30.0          0.0              0.0   \n",
       "1         surf                  15.0          0.0              0.0   \n",
       "2         surf                  15.0          0.0              0.0   \n",
       "3         surf                  15.0          0.0              3.0   \n",
       "4         surf                  15.0          0.0              0.0   \n",
       "...        ...                   ...          ...              ...   \n",
       "2298      surf                  15.0          0.0              0.0   \n",
       "2299      surf                  15.0          0.0              0.0   \n",
       "2300      surf                  15.0          0.0              0.0   \n",
       "2301      surf                  15.0          0.0              0.0   \n",
       "2302      surf                  15.0          0.0              0.0   \n",
       "\n",
       "      excess_internet  pay_excess_calls  pay_excess_messages  \\\n",
       "0                 0.0               0.0                 0.00   \n",
       "1                 0.0               0.0                 0.00   \n",
       "2                 0.0               0.0                 0.00   \n",
       "3                 7.0               0.0                 0.09   \n",
       "4                 4.0               0.0                 0.00   \n",
       "...               ...               ...                  ...   \n",
       "2298              0.0               0.0                 0.00   \n",
       "2299              0.0               0.0                 0.00   \n",
       "2300              0.0               0.0                 0.00   \n",
       "2301              0.0               0.0                 0.00   \n",
       "2302              0.0               0.0                 0.00   \n",
       "\n",
       "      pay_excess_internet  total_excess_pay  total_pay  \n",
       "0                     0.0              0.00      70.00  \n",
       "1                     0.0              0.00      20.00  \n",
       "2                     0.0              0.00      20.00  \n",
       "3                    70.0             70.09      90.09  \n",
       "4                    40.0             40.00      60.00  \n",
       "...                   ...               ...        ...  \n",
       "2298                  0.0              0.00      20.00  \n",
       "2299                  0.0              0.00      20.00  \n",
       "2300                  0.0              0.00      20.00  \n",
       "2301                  0.0              0.00      20.00  \n",
       "2302                  0.0              0.00      20.00  \n",
       "\n",
       "[2303 rows x 31 columns]"
      ]
     },
     "execution_count": 32,
     "metadata": {},
     "output_type": "execute_result"
    }
   ],
   "source": [
    "# Calcula el ingreso mensual para cada usuario\n",
    "\n",
    "all_info[\"excess_calls\"]=all_info[\"total_duration\"]- all_info[\"minutes_included\"]\n",
    "all_info[\"excess_calls\"]=all_info[\"excess_calls\"].clip(lower=0)\n",
    "\n",
    "all_info[\"excess_messages\"]=all_info[\"total_messages\"]- all_info[\"messages_included\"]\n",
    "all_info[\"excess_messages\"]=all_info[\"excess_messages\"].clip(lower=0)\n",
    "\n",
    "all_info[\"excess_internet\"]=all_info[\"gb_used\"]- all_info[\"gb_per_month_included\"]\n",
    "all_info[\"excess_internet\"]=all_info[\"excess_internet\"].clip(lower=0)\n",
    "\n",
    "all_info[\"pay_excess_calls\"]=all_info[\"excess_calls\"]*all_info[\"usd_per_minute\"]\n",
    "all_info[\"pay_excess_messages\"]=all_info[\"excess_messages\"]*all_info[\"usd_per_message\"]\n",
    "all_info[\"pay_excess_internet\"]=all_info[\"excess_internet\"]*all_info[\"usd_per_gb\"]\n",
    "\n",
    "all_info[\"total_excess_pay\"]=all_info[\"pay_excess_calls\"]+all_info[\"pay_excess_messages\"]+ all_info[\"pay_excess_internet\"]\n",
    "\n",
    "all_info[\"total_pay\"] = all_info[\"usd_monthly_pay\"]+ all_info[\"total_excess_pay\"]\n",
    "all_info\n",
    "\n"
   ]
  },
  {
   "cell_type": "markdown",
   "metadata": {
    "id": "1IwGo4wg0q1I"
   },
   "source": [
    "**Para calcular los ingresos mensuales por usuario, primero se restaron los límites del paquete gratuito (llamadas, mensajes de texto y datos) de los valores totales utilizados por cada usuario en cada categoría. Luego, se multiplicó el exceso de uso por las tarifas correspondientes a cada servicio en el plan del usuario (tarifas por minuto, por mensaje y por GB de datos). Una vez obtenidos estos costos adicionales, se sumó la tarifa mensual fija del plan de llamadas para calcular los ingresos totales generados por ese usuario en el mes. Se tuvo en cuenta que algunos usuarios no excedieron los límites del paquete, por lo que en esos casos los ingresos adicionales fueron cero, y solo se incluyó la tarifa mensual base. Además, se prestó atención a los casos en los que el uso estuvo dentro de los límites gratuitos, asegurando que no se aplicaran tarifas adicionales.**"
   ]
  },
  {
   "cell_type": "markdown",
   "metadata": {},
   "source": [
    "<div class=\"alert alert-block alert-success\"> <b>Comentario del revisor</b> <a class=“tocSkip”></a> Excelente trabajo consolidando los datos de diferentes fuentes y fusionando los DataFrames de manera efectiva. Has logrado organizar los datos de manera que el análisis pueda realizarse sin problemas. </div>"
   ]
  },
  {
   "cell_type": "markdown",
   "metadata": {},
   "source": [
    "<div class=\"alert alert-block alert-warning\"> <b>Comentario del revisor</b> <a class=“tocSkip”></a> Recomiendo explorar más el uso de funciones vectorizadas en pandas, lo que reducirá la necesidad de bucles explícitos y mejorará el rendimiento general del código. </div>"
   ]
  },
  {
   "cell_type": "markdown",
   "metadata": {
    "id": "-jtyHzJb0q1I"
   },
   "source": [
    "# Estudia el comportamiento de usuario"
   ]
  },
  {
   "cell_type": "markdown",
   "metadata": {
    "id": "vtW4CJEe0q1J"
   },
   "source": [
    "## Llamadas"
   ]
  },
  {
   "cell_type": "code",
   "execution_count": 33,
   "metadata": {
    "id": "Jf5v5--k0q1J"
   },
   "outputs": [
    {
     "data": {
      "image/png": "[encoded data removed]",
      "text/plain": [
       "<Figure size 640x480 with 1 Axes>"
      ]
     },
     "metadata": {},
     "output_type": "display_data"
    }
   ],
   "source": [
    "# Compara la duración promedio de llamadas por cada plan y por cada mes. Traza un gráfico de barras para visualizarla.\n",
    "\n",
    "calls_mean_1= all_info[all_info[\"plan_name\"]==\"surf\"].groupby(\"month_x\")[\"total_duration\"].mean()\n",
    "calls_mean_2= all_info[all_info[\"plan_name\"]==\"ultimate\"].groupby(\"month_x\")[\"total_duration\"].mean()\n",
    "calls_mean= pd.concat([calls_mean_1,calls_mean_2],axis=1)\n",
    "calls_mean= calls_mean.drop(index=0)\n",
    "\n",
    "calls_mean.plot(kind=\"bar\", xlabel=\"Mes\", ylabel=\"Cantidad de llamadas \",title=\"Consumo de Llamadas por planes de Megaline\",rot=50)\n",
    "plt.legend([\"Consumo plan Surf\",\"Consumo plan Ultimate\"])\n",
    "plt.show()\n"
   ]
  },
  {
   "cell_type": "code",
   "execution_count": 34,
   "metadata": {
    "id": "QoLqW1S_0q1J"
   },
   "outputs": [
    {
     "data": {
      "image/png": "[encoded data removed]",
      "text/plain": [
       "<Figure size 640x480 with 1 Axes>"
      ]
     },
     "metadata": {},
     "output_type": "display_data"
    }
   ],
   "source": [
    "# Compara el número de minutos mensuales que necesitan los usuarios de cada plan. Traza un histograma.\n",
    "\n",
    "calls_min_1= all_info[all_info[\"plan_name\"]==\"surf\"].groupby(\"month_x\")[\"total_duration\"].sum()\n",
    "calls_min_2= all_info[all_info[\"plan_name\"]==\"ultimate\"].groupby(\"month_x\")[\"total_duration\"].sum()\n",
    "calls_min= pd.concat([calls_min_1,calls_min_2],axis=1)\n",
    "calls_min= calls_min.drop(index=0)\n",
    "\n",
    "plt.hist(calls_min_1, bins=20, alpha=0.5, label='Consumo plan Surf', color='blue')\n",
    "plt.hist(calls_min_2, bins=20, alpha=0.5, label='Consumo plan Ultimate', color='orange')\n",
    "\n",
    "plt.legend([\"Consumo plan Surf\",\"Consumo plan Ultimate\"])\n",
    "plt.xlabel('Minutos de Llamadas')\n",
    "plt.ylabel('Frecuencia')\n",
    "plt.title('Histograma de Consumo de Planes')\n",
    "\n",
    "plt.show()"
   ]
  },
  {
   "cell_type": "markdown",
   "metadata": {},
   "source": [
    "Se calculará la media y la varianza de la duración de las llamadas para determinar si los usuarios de los distintos planes se comportan de manera diferente al realizar sus llamadas. Este análisis permitirá identificar diferencias en el uso del servicio entre los planes, proporcionando información sobre la duración promedio de las llamadas y la variabilidad en el uso. Con base en estos resultados, se podrán formular conclusiones sobre el comportamiento de los usuarios y cómo sus elecciones de plan influyen en la duración de las llamadas."
   ]
  },
  {
   "cell_type": "code",
   "execution_count": 35,
   "metadata": {
    "id": "bLS9T8OH0q1K"
   },
   "outputs": [
    {
     "name": "stdout",
     "output_type": "stream",
     "text": [
      "Llamadas del plan SURF\n",
      "Media=  354.8950996229488\n",
      "Mediana=  410.1111111111111\n",
      "Varianza=  15452.387138766011\n",
      "Q1= 330.0\n",
      "Q3= 429.7299578059072\n",
      "\n",
      "Llamadas del plan ULTIMATE\n",
      "Media=  358.15360827330466\n",
      "Mediana=  406.2413793103448\n",
      "Varianza=  15741.076812114894\n",
      "Q1= 336.85714285714283\n",
      "Q3= 437.51162790697674\n"
     ]
    }
   ],
   "source": [
    "# Calcula la media y la varianza de la duración mensual de llamadas.\n",
    "print(\"Llamadas del plan SURF\")\n",
    "print(\"Media= \",calls_mean_1.mean())\n",
    "print(\"Mediana= \",calls_mean_1.median())\n",
    "print(\"Varianza= \",np.var(calls_mean_1))\n",
    "print(\"Q1=\",calls_mean_1.quantile(0.25))\n",
    "print(\"Q3=\",calls_mean_1.quantile(0.75))\n",
    "print()\n",
    "print(\"Llamadas del plan ULTIMATE\")\n",
    "print(\"Media= \",calls_mean_2.mean())\n",
    "print(\"Mediana= \",calls_mean_2.median())\n",
    "print(\"Varianza= \",np.var(calls_mean_2))\n",
    "print(\"Q1=\",calls_mean_2.quantile(0.25))\n",
    "print(\"Q3=\",calls_mean_2.quantile(0.75))\n"
   ]
  },
  {
   "cell_type": "code",
   "execution_count": 36,
   "metadata": {
    "id": "nZzoRUKc0q1K"
   },
   "outputs": [
    {
     "data": {
      "image/png": "[encoded data removed]",
      "text/plain": [
       "<Figure size 640x480 with 1 Axes>"
      ]
     },
     "metadata": {},
     "output_type": "display_data"
    }
   ],
   "source": [
    "# Traza un diagrama de caja para visualizar la distribución de la duración mensual de llamadas\n",
    "\n",
    "plt.boxplot(calls_mean, vert=False,)\n",
    "plt.title('Diagrama de Caja de la Duración Mensual de Llamadas')\n",
    "plt.xlabel('Duración de Llamadas (minutos)')\n",
    "plt.legend([\"Consumo plan Ultimate\",\"Consumo plan Surf\"])\n",
    "\n",
    "plt.show()\n"
   ]
  },
  {
   "cell_type": "markdown",
   "metadata": {
    "id": "r627zBO50q1K"
   },
   "source": [
    "Aunque las medias de duración de llamadas son bastante similares entre los dos planes, la mayor varianza y los cuartiles más altos del plan Ultimate indican que sus usuarios pueden estar utilizando el servicio de manera más intensiva o variada. Esto podría deberse a que el plan Ultimate está diseñado para usuarios que requieren más minutos, lo que permite que algunos usuarios se beneficien de esta flexibilidad.\n",
    "En resumen, sí, el comportamiento de los usuarios varía en función del plan, con los usuarios del plan Ultimate mostrando una mayor variabilidad y, en general, una tendencia a realizar llamadas más largas en comparación con los usuarios del plan Surf. Esto sugiere que las estrategias de marketing y los servicios adicionales podrían ser mejorados para adaptarse a las diferentes necesidades de cada grupo de usuarios"
   ]
  },
  {
   "cell_type": "markdown",
   "metadata": {
    "id": "8idKy8Wh0q1L"
   },
   "source": [
    "## Mensajes"
   ]
  },
  {
   "cell_type": "code",
   "execution_count": 37,
   "metadata": {
    "id": "NXLxiTit0q1L"
   },
   "outputs": [
    {
     "data": {
      "image/png": "[encoded data removed]",
      "text/plain": [
       "<Figure size 640x480 with 1 Axes>"
      ]
     },
     "metadata": {},
     "output_type": "display_data"
    }
   ],
   "source": [
    "# Comprara el número de mensajes que tienden a enviar cada mes los usuarios de cada plan\n",
    "\n",
    "messages_mean_1= all_info[all_info[\"plan_name\"]==\"surf\"].groupby(\"month_x\")[\"total_messages\"].mean()\n",
    "messages_mean_2= all_info[all_info[\"plan_name\"]==\"ultimate\"].groupby(\"month_x\")[\"total_messages\"].mean()\n",
    "messages_mean= pd.concat([messages_mean_1,messages_mean_2],axis=1)\n",
    "messages_mean= messages_mean.drop(index=0)\n",
    "\n",
    "messages_mean.plot(kind=\"bar\", xlabel=\"Mes\", ylabel=\"Cantidad de mensajes \",title=\"Consumo de mensajes por planes de Megaline\",rot=50)\n",
    "plt.legend([\"Consumo plan Surf\",\"Consumo plan Ultimate\"])\n",
    "plt.show()\n",
    "\n",
    "\n"
   ]
  },
  {
   "cell_type": "code",
   "execution_count": 38,
   "metadata": {
    "id": "GRI_R7xF0q1L"
   },
   "outputs": [
    {
     "name": "stdout",
     "output_type": "stream",
     "text": [
      "Mensajes enviados del plan SURF\n",
      "Media=  22.759384482000048\n",
      "Mediana=  25.298969072164947\n",
      "Varianza=  112.45636079133693\n",
      "Q1= 15.26086956521739\n",
      "Q3= 30.762886597938145\n",
      "\n",
      "Mensajes enviados del plan ULTIMATE\n",
      "Media=  28.697997687201276\n",
      "Mediana=  32.10344827586207\n",
      "Varianza=  142.54614789616377\n",
      "Q1= 21.571428571428573\n",
      "Q3= 38.478873239436616\n"
     ]
    }
   ],
   "source": [
    "print(\"Mensajes enviados del plan SURF\")\n",
    "print(\"Media= \",messages_mean_1.mean())\n",
    "print(\"Mediana= \",messages_mean_1.median())\n",
    "print(\"Varianza= \",np.var(messages_mean_1))\n",
    "print(\"Q1=\",messages_mean_1.quantile(0.25))\n",
    "print(\"Q3=\",messages_mean_1.quantile(0.75))\n",
    "print()\n",
    "print(\"Mensajes enviados del plan ULTIMATE\")\n",
    "print(\"Media= \",messages_mean_2.mean())\n",
    "print(\"Mediana= \",messages_mean_2.median())\n",
    "print(\"Varianza= \",np.var(messages_mean_2))\n",
    "print(\"Q1=\",messages_mean_2.quantile(0.25))\n",
    "print(\"Q3=\",messages_mean_2.quantile(0.75))\n",
    "\n"
   ]
  },
  {
   "cell_type": "code",
   "execution_count": 39,
   "metadata": {
    "id": "dtFwCGAp0q1M"
   },
   "outputs": [
    {
     "data": {
      "image/png": "[encoded data removed]",
      "text/plain": [
       "<Figure size 640x480 with 1 Axes>"
      ]
     },
     "metadata": {},
     "output_type": "display_data"
    }
   ],
   "source": [
    "plt.boxplot(messages_mean, vert=False,)\n",
    "plt.title('Diagrama de Caja de mensajes enviados')\n",
    "plt.xlabel('Mensajes enviados del')\n",
    "plt.legend([\"Consumo plan Ultimate\",\"Consumo plan Surf\"])\n",
    "\n",
    "plt.show()"
   ]
  },
  {
   "cell_type": "markdown",
   "metadata": {
    "id": "390SSL480q1M"
   },
   "source": [
    "En resumen, el análisis de los mensajes enviados revela que los usuarios del plan ULTIMATE muestran un comportamiento más activo en cuanto al envío de mensajes en comparación con los usuarios del plan SURF. La media, mediana y los cuartiles son consistentemente más altos en el plan Ultimate, lo que sugiere que este plan podría estar más orientado a usuarios que requieren un uso intensivo de mensajes. Además, la mayor varianza en el plan Ultimate indica que hay una diversidad en los patrones de uso, lo que podría reflejar la inclusión de usuarios con necesidades de comunicación más variadas. Esto sugiere que las estrategias de marketing y los servicios adicionales podrían ser mejorados para adaptarse a las diferentes necesidades de cada grupo de usuarios."
   ]
  },
  {
   "cell_type": "markdown",
   "metadata": {
    "id": "42YSypXz0q1M"
   },
   "source": [
    "## Internet"
   ]
  },
  {
   "cell_type": "code",
   "execution_count": 40,
   "metadata": {
    "id": "lSuKPtjh0q1M"
   },
   "outputs": [
    {
     "data": {
      "image/png": "[encoded data removed]",
      "text/plain": [
       "<Figure size 640x480 with 1 Axes>"
      ]
     },
     "metadata": {},
     "output_type": "display_data"
    }
   ],
   "source": [
    "int_mean_1= all_info[all_info[\"plan_name\"]==\"surf\"].groupby(\"month_x\")[\"gb_used\"].mean()\n",
    "int_mean_2= all_info[all_info[\"plan_name\"]==\"ultimate\"].groupby(\"month_x\")[\"gb_used\"].mean()\n",
    "int_mean= pd.concat([int_mean_1,int_mean_2],axis=1)\n",
    "int_mean= int_mean.drop(index=0)\n",
    "\n",
    "int_mean.plot(kind=\"bar\", xlabel=\"Mes\", ylabel=\"Cantidad de Gb consumidas \",title=\"Consumo de internet por planes de Megaline\",rot=50,)\n",
    "plt.legend([\"Consumo plan Surf\",\"Consumo plan Ultimate\"],loc='lower right')\n",
    "plt.show()\n",
    "\n"
   ]
  },
  {
   "cell_type": "code",
   "execution_count": 41,
   "metadata": {
    "id": "wnh8jYXi0q1N"
   },
   "outputs": [
    {
     "name": "stdout",
     "output_type": "stream",
     "text": [
      "Internet consumido del plan SURF\n",
      "Media=  13.472130875928968\n",
      "Mediana=  15.484536082474227\n",
      "Varianza=  26.264395790844745\n",
      "Q1= 12.222222222222221\n",
      "Q3= 16.876033057851238\n",
      "\n",
      "Internet consumido del plan ULTIMATE\n",
      "Media=  15.088767790849177\n",
      "Mediana=  17.011627906976745\n",
      "Varianza=  26.543108646978794\n",
      "Q1= 16.333333333333332\n",
      "Q3= 17.71698113207547\n"
     ]
    }
   ],
   "source": [
    "print(\"Internet consumido del plan SURF\")\n",
    "print(\"Media= \",int_mean_1.mean())\n",
    "print(\"Mediana= \",int_mean_1.median())\n",
    "print(\"Varianza= \",np.var(int_mean_1))\n",
    "print(\"Q1=\",int_mean_1.quantile(0.25))\n",
    "print(\"Q3=\",int_mean_1.quantile(0.75))\n",
    "print()\n",
    "print(\"Internet consumido del plan ULTIMATE\")\n",
    "print(\"Media= \",int_mean_2.mean())\n",
    "print(\"Mediana= \",int_mean_2.median())\n",
    "print(\"Varianza= \",np.var(int_mean_2))\n",
    "print(\"Q1=\",int_mean_2.quantile(0.25))\n",
    "print(\"Q3=\",int_mean_2.quantile(0.75))\n"
   ]
  },
  {
   "cell_type": "code",
   "execution_count": 42,
   "metadata": {
    "id": "5VlyJ9ry0q1N"
   },
   "outputs": [
    {
     "data": {
      "image/png": "[encoded data removed]",
      "text/plain": [
       "<Figure size 640x480 with 1 Axes>"
      ]
     },
     "metadata": {},
     "output_type": "display_data"
    }
   ],
   "source": [
    "plt.boxplot(int_mean, vert=False,)\n",
    "plt.title(\"Diagrama deCaja  de mensajes enviados\")\n",
    "plt.xlabel(\"Internet consumido\")\n",
    "plt.legend([\"Consumo plan Ultimate\",\"Consumo plan Surf\"])\n",
    "\n",
    "plt.show()\n"
   ]
  },
  {
   "cell_type": "markdown",
   "metadata": {
    "id": "UN9zwuMP0q1N"
   },
   "source": [
    "En resumen, el análisis del consumo de Internet revela que los usuarios del plan ULTIMATE muestran un comportamiento más activo en cuanto al uso de datos en comparación con los usuarios del plan SURF. La media, mediana y los cuartiles son consistentemente más altos en el plan Ultimate, lo que sugiere que este plan está orientado a usuarios que requieren un uso más intensivo de datos.\n",
    "Dado que las varianzas son similares, ambos grupos parecen tener patrones de uso relativamente consistentes. Sin embargo, las diferencias observadas en las medidas de tendencia central sugieren que el plan Ultimate es más adecuado para aquellos que dependen de un mayor consumo de Internet.\n",
    "Estas observaciones pueden guiar futuras estrategias de marketing y el desarrollo de servicios adicionales para satisfacer mejor las necesidades específicas de cada grupo de usuarios."
   ]
  },
  {
   "cell_type": "markdown",
   "metadata": {
    "id": "tCijq3260q1N"
   },
   "source": [
    "## Ingreso"
   ]
  },
  {
   "cell_type": "code",
   "execution_count": 43,
   "metadata": {
    "id": "tz-dq_V00q1O"
   },
   "outputs": [
    {
     "data": {
      "image/png": "[encoded data removed]",
      "text/plain": [
       "<Figure size 640x480 with 1 Axes>"
      ]
     },
     "metadata": {},
     "output_type": "display_data"
    }
   ],
   "source": [
    "ing_mean_1= all_info[all_info[\"plan_name\"]==\"surf\"].groupby(\"month_x\")[\"total_pay\"].mean()\n",
    "ing_mean_2= all_info[all_info[\"plan_name\"]==\"ultimate\"].groupby(\"month_x\")[\"total_pay\"].mean()\n",
    "ing_mean= pd.concat([ing_mean_1,ing_mean_2],axis=1)\n",
    "ing_mean= ing_mean.drop(index=0)\n",
    "\n",
    "ing_mean.plot(kind=\"bar\", xlabel=\"Mes\", ylabel=\"Ingresos (USD) \",title=\"Ingresos por planes de Megaline\",rot=50,)\n",
    "plt.legend([\"Consumo plan Surf\",\"Consumo plan Ultimate\"],loc='lower right')\n",
    "plt.show()\n"
   ]
  },
  {
   "cell_type": "code",
   "execution_count": 44,
   "metadata": {
    "id": "0Y1v8ZUz0q1P"
   },
   "outputs": [
    {
     "name": "stdout",
     "output_type": "stream",
     "text": [
      "Ingresos del plan SURF\n",
      "Media=  48.985561695102774\n",
      "Mediana=  49.276288659793806\n",
      "Varianza=  252.81557765494378\n",
      "Q1= 40.7106\n",
      "Q3= 62.674049586776874\n",
      "\n",
      "Ingresos del plan ULTIMATE\n",
      "Media=  71.85637070044706\n",
      "Mediana=  71.89830508474576\n",
      "Varianza=  1.8615981841369427\n",
      "Q1= 70.72413793103448\n",
      "Q3= 72.85915492957747\n"
     ]
    }
   ],
   "source": [
    "print(\"Ingresos del plan SURF\")\n",
    "print(\"Media= \",ing_mean_1.mean())\n",
    "print(\"Mediana= \",ing_mean_1.median())\n",
    "print(\"Varianza= \",np.var(ing_mean_1))\n",
    "print(\"Q1=\",ing_mean_1.quantile(0.25))\n",
    "print(\"Q3=\",ing_mean_1.quantile(0.75))\n",
    "print()\n",
    "print(\"Ingresos del plan ULTIMATE\")\n",
    "print(\"Media= \",ing_mean_2.mean())\n",
    "print(\"Mediana= \",ing_mean_2.median())\n",
    "print(\"Varianza= \",np.var(ing_mean_2))\n",
    "print(\"Q1=\",ing_mean_2.quantile(0.25))\n",
    "print(\"Q3=\",ing_mean_2.quantile(0.75))\n"
   ]
  },
  {
   "cell_type": "code",
   "execution_count": 45,
   "metadata": {
    "id": "bYmwxyVh0q1P"
   },
   "outputs": [
    {
     "data": {
      "image/png": "[encoded data removed]",
      "text/plain": [
       "<Figure size 640x480 with 1 Axes>"
      ]
     },
     "metadata": {},
     "output_type": "display_data"
    }
   ],
   "source": [
    "plt.boxplot(ing_mean, vert=False,)\n",
    "plt.title(\"Diagrama deCaja  de mensajes enviados\")\n",
    "plt.xlabel(\"Internet consumido\")\n",
    "plt.legend([\"Consumo plan Ultimate\",\"Consumo plan Surf\"])\n",
    "\n",
    "plt.show()\n"
   ]
  },
  {
   "cell_type": "markdown",
   "metadata": {
    "id": "KAFidcXZ0q1P"
   },
   "source": [
    "Las diferencias en los ingresos netos sugieren que los usuarios del plan SURF, a pesar de tener un costo base más bajo, están generando una mayor cantidad de ingresos adicionales a través del consumo de servicios, lo que podría indicar un comportamiento más activo en el uso de los servicios.\n",
    "Por el contrario, los usuarios del plan ULTIMATE, a pesar de pagar un costo base significativamente más alto, pueden estar menos dispuestos a incurrir en gastos adicionales, lo que resulta en menores ingresos adicionales para la compañía.\n",
    "\n",
    "- Dado que la media de ingresos para el plan SURF es aproximadamente 48.99 USD, esto sugiere que los usuarios están generando un ingreso neto de aproximadamente 28.99 USD en servicios adicionales.\n",
    "- Por otro lado, los usuarios del plan ULTIMATE tienen una media de ingresos de 71.86 USD, lo que implica un ingreso neto de aproximadamente 1.86 USD en servicios adicionales. Esto indica que, a pesar de un costo base más alto, los usuarios del plan Ultimate tienen un menor pago en servicios adicionales.\n",
    "\n",
    "En conclusión, el análisis del costo y los ingresos sugiere que el plan SURF podría estar mejor alineado con usuarios que buscan maximizar el uso de servicios adicionales, generando así mayores ingresos netos a pesar de su costo base más bajo.\n",
    "El plan ULTIMATE, aunque tiene un costo base más alto, parece atraer a usuarios que prefieren un enfoque más controlado y menos dependiente de consumos adicionales, resultando en menores ingresos netos.\n",
    "Estas observaciones pueden ayudar a diseñar estrategias de marketing específicas, promociones y ajustes en los planes para atraer a diferentes tipos de usuarios según sus patrones de consumo y preferencias."
   ]
  },
  {
   "cell_type": "markdown",
   "metadata": {},
   "source": [
    "<div class=\"alert alert-block alert-success\"> <b>Comentario del revisor</b> <a class=“tocSkip”></a> El análisis del comportamiento de los usuarios fue bien ejecutado, utilizando visualizaciones útiles como gráficos de barras e histogramas para mostrar las diferencias entre los planes. La inclusión de métricas clave mejora la interpretación de los datos. </div>"
   ]
  },
  {
   "cell_type": "markdown",
   "metadata": {
    "id": "ajJ7VKeI0q1Q"
   },
   "source": [
    "# Prueba las hipótesis estadísticas"
   ]
  },
  {
   "cell_type": "markdown",
   "metadata": {
    "id": "IQwa_hsh0q1Q"
   },
   "source": [
    "## Hipotesis 1"
   ]
  },
  {
   "cell_type": "markdown",
   "metadata": {},
   "source": [
    "**Hipotesis Nula H0**\n",
    "- Las varianzas de los ingresos totales son iguales \n",
    "\n",
    "**Hipotesis alternativa H1**\n",
    "- la Las varianzas de los ingresos totales son diferentes\n",
    "\n",
    "Alpha = 5%"
   ]
  },
  {
   "cell_type": "code",
   "execution_count": 46,
   "metadata": {},
   "outputs": [
    {
     "name": "stdout",
     "output_type": "stream",
     "text": [
      "Valor p: 3.070976609395645e-83\n",
      "Rechazamos la hipótesis nula\n"
     ]
    }
   ],
   "source": [
    "ing_1= all_info[all_info[\"plan_name\"]==\"surf\"][\"total_pay\"].dropna()\n",
    "ing_2= all_info[all_info[\"plan_name\"]==\"ultimate\"][\"total_pay\"].dropna()\n",
    "\n",
    "alpha = 0.05\n",
    "\n",
    "var= st.levene(ing_1, ing_2)\n",
    "\n",
    "print('Valor p:', var.pvalue)\n",
    "\n",
    "if (var.pvalue<alpha):\n",
    "    print(\"Rechazamos la hipótesis nula\")\n",
    "else:\n",
    "    print(\"No podemos rechazar la hipótesis nula\")\n",
    "    "
   ]
  },
  {
   "cell_type": "markdown",
   "metadata": {},
   "source": [
    "## Hipotesis 2"
   ]
  },
  {
   "cell_type": "markdown",
   "metadata": {},
   "source": [
    "Para el analisis de las hipotesis vamos a plantearlas de la siguente forma:\n",
    "\n",
    "**Hipotesis Nula H0**\n",
    "- Los ingresos totales promedios procedentes de los planes Ultimate y Surf son iguales\n",
    "\n",
    "**Hipotesis alternativa H1**\n",
    "- Los ingresos totales promedios procedentes de los planes Ultimate son mayores que los de Surf  \n",
    "\n",
    "Alpha = 5%\n"
   ]
  },
  {
   "cell_type": "code",
   "execution_count": 47,
   "metadata": {
    "id": "nFoPNlPq0q1R"
   },
   "outputs": [
    {
     "name": "stdout",
     "output_type": "stream",
     "text": [
      "Valor p: 1.218411585212325e-15\n",
      "Rechazamos la hipótesis nula\n"
     ]
    }
   ],
   "source": [
    "# Prueba las hipótesis\n",
    "\n",
    "alpha = 0.05\n",
    "\n",
    "results = st.ttest_ind(ing_1,ing_2,equal_var=False)\n",
    "\n",
    "print('Valor p:', results.pvalue)\n",
    "\n",
    "if (results.pvalue<alpha):\n",
    "    print(\"Rechazamos la hipótesis nula\")\n",
    "else:\n",
    "    print(\"No podemos rechazar la hipótesis nula\")\n"
   ]
  },
  {
   "cell_type": "markdown",
   "metadata": {},
   "source": [
    "Según el valor p obtenido en la prueba de Levene, que se encuentra significativamente por debajo del nivel de significancia establecido (0.05), podemos concluir que hay suficiente evidencia para rechazar la hipótesis nula. Esto indica que los ingresos totales promedios procedentes de los planes Ultimate y Surf no son iguales. En otras palabras, existe una diferencia significativa en la variabilidad de los ingresos entre los usuarios de estos dos planes, lo que sugiere que el comportamiento de consumo y los patrones de gasto pueden variar considerablemente entre los usuarios de cada plan."
   ]
  },
  {
   "cell_type": "markdown",
   "metadata": {},
   "source": [
    "## Hipotesis 3"
   ]
  },
  {
   "cell_type": "markdown",
   "metadata": {},
   "source": [
    "**Hipotesis Nula H0**\n",
    "- Los ingresos de los pagosde servicios adicionales procedentes de los planes Ultimate y Surf son iguales\n",
    "\n",
    "**Hipotesis alternativa H1**\n",
    "- Los ingresos de los pagosde servicios adicionales procedentes de los planes Ultimate son mayores que los de Surf  \n",
    "\n",
    "Alpha = 5%\n"
   ]
  },
  {
   "cell_type": "code",
   "execution_count": 48,
   "metadata": {},
   "outputs": [
    {
     "name": "stdout",
     "output_type": "stream",
     "text": [
      "Valor p: 1.2744892366452634e-129\n",
      "Rechazamos la hipótesis nula\n"
     ]
    }
   ],
   "source": [
    "ing_excess_1= all_info[all_info[\"plan_name\"]==\"surf\"][\"total_excess_pay\"].dropna()\n",
    "ing_excess_2= all_info[all_info[\"plan_name\"]==\"ultimate\"][\"total_excess_pay\"].dropna()\n",
    "\n",
    "alpha = 0.05\n",
    "\n",
    "result_h3= st.ttest_ind(ing_excess_1, ing_excess_2,equal_var=False)\n",
    "\n",
    "print('Valor p:', result_h3.pvalue)\n",
    "\n",
    "if (result_h3.pvalue<alpha):\n",
    "    print(\"Rechazamos la hipótesis nula\")\n",
    "else:\n",
    "    print(\"No podemos rechazar la hipótesis nula\")\n",
    "    "
   ]
  },
  {
   "cell_type": "markdown",
   "metadata": {},
   "source": [
    "Los valores de p obtenidos fueron muy bajos, lo que nos lleva a rechazar la hipótesis nula de que \"los ingresos por pagos de servicios adicionales procedentes de los planes Ultimate y Surf son iguales\". Este resultado indica que existe una diferencia significativa en los ingresos generados por servicios adicionales entre los usuarios de estos dos planes. Por lo tanto, se sugiere que el comportamiento de los usuarios en cuanto a la utilización de servicios adicionales varía notablemente entre los planes Ultimate y Surf."
   ]
  },
  {
   "cell_type": "markdown",
   "metadata": {},
   "source": [
    "## Hipotesis 4"
   ]
  },
  {
   "cell_type": "code",
   "execution_count": 49,
   "metadata": {},
   "outputs": [],
   "source": [
    "all_info[[\"citys\",\"area\"]]=all_info[\"city\"].str.split(\", \",expand=True).fillna('')\n",
    "\n",
    "cols = ['user_id', 'month_x', 'total_calls', 'total_duration', 'total_messages',\n",
    "       'gb_used', 'first_name', 'last_name', 'age', 'city', 'citys', 'area', 'reg_date', 'plan',\n",
    "       'churn_date', 'month_y', 'messages_included', 'mb_per_month_included',\n",
    "       'minutes_included', 'usd_monthly_pay', 'usd_per_gb', 'usd_per_message',\n",
    "       'usd_per_minute', 'plan_name', 'gb_per_month_included', 'excess_calls',\n",
    "       'excess_messages', 'excess_internet', 'pay_excess_calls',\n",
    "       'pay_excess_messages', 'pay_excess_internet', 'total_excess_pay',\n",
    "       'total_pay']\n",
    "\n",
    "all_info=all_info[cols]\n",
    "\n",
    "filtered_all_info = all_info[all_info[\"area\"].str.contains(\"NY|NJ\", na=False)]\n",
    "filtered_all_info_alt = all_info[~all_info[\"area\"].str.contains(\"NY|NJ\", na=False)]\n"
   ]
  },
  {
   "cell_type": "markdown",
   "metadata": {},
   "source": [
    "**Hipotesis Nula H0**\n",
    "- El ingreso promedio de los usuarios del área que incluyan NY ó NJ es igual al de los usuarios de otras regiones.\n",
    "\n",
    "**Hipotesis alternativa H1**\n",
    "- El ingreso promedio de los usuarios del área que incluyan NY ó NJ es diferente al de los usuarios de otras regiones.  \n",
    "\n",
    "Alpha = 5%\n"
   ]
  },
  {
   "cell_type": "code",
   "execution_count": 50,
   "metadata": {},
   "outputs": [
    {
     "name": "stdout",
     "output_type": "stream",
     "text": [
      "Valor p: 0.12126002617160894\n",
      "No podemos rechazar la hipótesis nula\n"
     ]
    }
   ],
   "source": [
    "filtered_all_info_1= filtered_all_info[\"total_pay\"].dropna()\n",
    "filtered_all_info_2= filtered_all_info_alt[\"total_pay\"].dropna()\n",
    "\n",
    "alpha = 0.05\n",
    "\n",
    "result_h4= st.ttest_ind(filtered_all_info_1, filtered_all_info_2,equal_var=False)\n",
    "\n",
    "print('Valor p:', result_h4.pvalue)\n",
    "\n",
    "if (result_h4.pvalue<alpha):\n",
    "    print(\"Rechazamos la hipótesis nula\")\n",
    "else:\n",
    "    print(\"No podemos rechazar la hipótesis nula\")\n",
    "    "
   ]
  },
  {
   "cell_type": "markdown",
   "metadata": {},
   "source": [
    "No podemos rechazar la hipótesis nula que afirma que \"El ingreso promedio de los usuarios del área que incluye NY o NJ es igual al de los usuarios de otras regiones\". El valor p (12.50%) es mayor que el nivel de significancia establecido, lo que indica que no hay evidencia suficiente para concluir que los ingresos promedio son diferentes entre las dos regiones.\n"
   ]
  },
  {
   "cell_type": "markdown",
   "metadata": {},
   "source": [
    "<div class=\"alert alert-block alert-success\"> <b>Comentario del revisor</b> <a class=“tocSkip”></a> Las pruebas de hipótesis fueron adecuadas y bien estructuradas. Los resultados estadísticos se interpretaron correctamente, lo que añade rigor a tus conclusiones. Buen trabajo utilizando las pruebas t para validar las diferencias entre planes. </div>"
   ]
  },
  {
   "cell_type": "markdown",
   "metadata": {},
   "source": [
    "<div class=\"alert alert-block alert-warning\"> <b>Comentario del revisor</b> <a class=“tocSkip”></a> Además de las pruebas de hipótesis, sería interesante incluir intervalos de confianza para que las diferencias entre los ingresos de los planes se puedan visualizar de manera más clara y comprensible. </div>"
   ]
  },
  {
   "cell_type": "markdown",
   "metadata": {
    "id": "bbTR8UQO0q1T"
   },
   "source": [
    "# Conclusión general\n",
    "\n",
    "**Duración de las llamadas**\n",
    "Los usuarios de los planes Surf y Ultimate tienen comportamientos similares en cuanto a la duración de las llamadas. Las medias de duración están en 354.9 minutos para Surf y 358.1 minutos para Ultimate, y las varianzas son también similares, lo que indica que no hay una diferencia significativa en el uso del servicio de llamadas entre ambos planes.\n",
    "\n",
    "**Uso de mensajes**\n",
    "En cuanto al uso de mensajes, los usuarios del plan Ultimate envían más mensajes en promedio (28.7) en comparación con los usuarios del plan Surf (22.8). Lo que quiere decir que los usuarios del plan Ultimate tienden a utilizar más el servicio de mensajes de texto que los del plan Surf.\n",
    "\n",
    "**Consumo de Internet**\n",
    "En cuanto a internet, aunque los usuarios del plan Ultimate tienen una mayor capacidad mensual (30 GB frente a 15 GB de Surf), el consumo promedio entre los usuarios de ambos planes es similar. Los usuarios del plan Surf consumen 13.5 GB en promedio, mientras que los del plan Ultimate consumen 15.1 GB. Esto sugiere que los usuarios de ambos planes tienden a utilizar cantidades similares de datos, aunque el plan Ultimate permite un mayor consumo sin cargos adicionales.\n",
    "\n",
    "**Ingresos Generados**\n",
    "Los ingresos promedios generados por los usuarios del plan Ultimate son significativamente mayores que los del plan Surf. Los usuarios del plan Ultimate generan en promedio 71.86 USD mensuales, mientras que los del plan Surf generan 48.98USD. Esto se debe principalmente a la tarifa base más alta del plan Ultimate 70 frente a 20 de Surf, aunque ambos planes generan ingresos adicionales por consumo de servicios no incluidos en el plan.\n",
    "\n",
    "**Áreas que incluyen NY y NJ**\n",
    "No se encontraron diferencias significativas en los ingresos promedio generados por los usuarios del área que incluye NY y NJ en comparación con los usuarios de otras regiones. Esto sugiere que la ubicación geográfica no tiene un impacto importante en los ingresos generados por los usuarios de estos planes.\n",
    "\n",
    "\n",
    "**En términos generales, el plan Ultimate genera más ingresos debido a su tarifa base más alta, aunque el comportamiento en cuanto al uso de llamadas, mensajes e internet es similar entre los usuarios de ambos planes. El plan Surf parece más atractivo para usuarios con un consumo más moderado, mientras que el plan Ultimate ofrece una mayor capacidad, especialmente en el uso de datos y mensajes. Sin embargo, el análisis muestra que no hay grandes diferencias en el comportamiento de los usuarios entre ambos planes, excepto en el costo mensual que cada plan impone y los cargos adicionales.\n",
    "El equipo comercial debería enfocarse en una campaña centrada en incentivar a los usuarios del plan Surf a actualizarse al plan Ultimate. Esto permitirá maximizar los ingresos mientras se aprovechan los beneficios adicionales que ofrece el plan Ultimate.**\n"
   ]
  },
  {
   "cell_type": "markdown",
   "metadata": {},
   "source": [
    "<div class=\"alert alert-block alert-success\"> <b>Comentario del revisor</b> <a class=“tocSkip”></a> La conclusión general resume muy bien los hallazgos clave de tu análisis, destacando las diferencias en ingresos entre los planes y proporcionando sugerencias relevantes para el equipo comercial. ¡Gran cierre del proyecto! </div>"
   ]
  },
  {
   "cell_type": "markdown",
   "metadata": {},
   "source": [
    "### Comentario Final\n",
    "<div class=\"alert alert-block alert-success\"> <b>Comentario del revisor</b> <a class=“tocSkip”></a>\n",
    "    \n",
    "¡Felicidades! Tu proyecto está **aprobado**. Has logrado un análisis detallado y completo del comportamiento de los usuarios de Megaline y la relación de los ingresos generados por los dos planes de tarifas. A continuación destaco algunos puntos clave de tu proyecto:\n",
    "\n",
    "**Puntos Positivos**:\n",
    "- Excelente manejo de los datos y corrección de errores en las columnas.\n",
    "- El enriquecimiento de los datos fue eficaz para agregar contexto adicional.\n",
    "- Las pruebas de hipótesis y el análisis estadístico fueron realizados con precisión.\n",
    "- El análisis de los ingresos fue exhaustivo, proporcionando insights clave para la toma de decisiones comerciales.\n",
    "\n",
    "**Áreas a Investigar**:\n",
    "- **Uso de funciones vectorizadas** para optimizar el procesamiento de datos y reducir la redundancia en tu código.\n",
    "- **Explorar las diferencias por región y características demográficas** en mayor profundidad para entender cómo pueden afectar el comportamiento del usuario.\n",
    "- **Probar otros modelos estadísticos o algoritmos predictivos**, como análisis de regresión o clustering, para segmentar mejor a los clientes según sus patrones de consumo.\n",
    "\n",
    "¡Gran trabajo! ¡Sigue así! 🚀\n",
    " </div>"
   ]
  }
 ],
 "metadata": {
  "ExecuteTimeLog": [
   {
    "duration": 828,
    "start_time": "2021-11-16T09:21:11.304Z"
   },
   {
    "duration": 893,
    "start_time": "2021-11-16T09:21:17.728Z"
   },
   {
    "duration": 1150,
    "start_time": "2021-11-16T09:21:29.568Z"
   },
   {
    "duration": 3,
    "start_time": "2021-11-16T09:24:14.495Z"
   },
   {
    "duration": 120,
    "start_time": "2021-11-16T09:24:46.630Z"
   },
   {
    "duration": 3,
    "start_time": "2021-11-16T09:28:27.882Z"
   },
   {
    "duration": 4,
    "start_time": "2021-11-16T09:29:54.281Z"
   },
   {
    "duration": 3,
    "start_time": "2021-11-16T09:30:45.936Z"
   },
   {
    "duration": 4,
    "start_time": "2021-11-16T09:31:06.300Z"
   },
   {
    "duration": 113,
    "start_time": "2021-11-16T09:31:37.208Z"
   },
   {
    "duration": 143,
    "start_time": "2021-11-16T09:31:48.656Z"
   },
   {
    "duration": 98,
    "start_time": "2021-11-16T09:31:55.678Z"
   },
   {
    "duration": 3,
    "start_time": "2021-11-16T09:32:08.535Z"
   },
   {
    "duration": 111,
    "start_time": "2021-11-16T09:32:10.120Z"
   },
   {
    "duration": 3,
    "start_time": "2021-11-16T09:32:15.732Z"
   },
   {
    "duration": 4,
    "start_time": "2021-11-16T09:32:29.423Z"
   },
   {
    "duration": 3,
    "start_time": "2021-11-16T10:03:03.074Z"
   },
   {
    "duration": 3,
    "start_time": "2021-11-16T10:10:01.288Z"
   },
   {
    "duration": 3,
    "start_time": "2021-11-16T10:10:46.923Z"
   },
   {
    "duration": 121,
    "start_time": "2021-11-16T10:37:46.494Z"
   },
   {
    "duration": 125,
    "start_time": "2021-11-16T10:38:20.632Z"
   },
   {
    "duration": 112,
    "start_time": "2021-11-16T10:46:53.001Z"
   },
   {
    "duration": 110,
    "start_time": "2021-11-16T10:48:25.775Z"
   },
   {
    "duration": 3,
    "start_time": "2021-11-16T10:50:18.720Z"
   },
   {
    "duration": 4,
    "start_time": "2021-11-16T10:50:37.649Z"
   },
   {
    "duration": 2,
    "start_time": "2021-11-16T10:50:51.884Z"
   },
   {
    "duration": 3,
    "start_time": "2021-11-16T10:51:56.237Z"
   },
   {
    "duration": 101,
    "start_time": "2021-11-16T10:53:13.791Z"
   },
   {
    "duration": 3,
    "start_time": "2021-11-16T10:55:59.186Z"
   },
   {
    "duration": 3,
    "start_time": "2021-11-16T10:56:10.751Z"
   },
   {
    "duration": 3,
    "start_time": "2021-11-16T10:56:49.038Z"
   },
   {
    "duration": 3,
    "start_time": "2021-11-16T10:56:49.174Z"
   },
   {
    "duration": 4,
    "start_time": "2021-11-16T10:56:49.414Z"
   },
   {
    "duration": 3,
    "start_time": "2021-11-16T10:56:49.680Z"
   },
   {
    "duration": 3,
    "start_time": "2021-11-16T10:56:50.370Z"
   },
   {
    "duration": 114,
    "start_time": "2021-11-16T10:59:34.518Z"
   },
   {
    "duration": 3,
    "start_time": "2021-11-16T11:01:41.201Z"
   },
   {
    "duration": 116,
    "start_time": "2021-11-16T11:01:48.754Z"
   },
   {
    "duration": 3,
    "start_time": "2021-11-16T11:02:16.685Z"
   },
   {
    "duration": 3,
    "start_time": "2021-11-16T11:02:19.479Z"
   },
   {
    "duration": 3,
    "start_time": "2021-11-16T11:02:47.067Z"
   },
   {
    "duration": 3,
    "start_time": "2021-11-16T11:02:49.353Z"
   },
   {
    "duration": 3,
    "start_time": "2021-11-16T11:03:07.835Z"
   },
   {
    "duration": 3,
    "start_time": "2021-11-16T11:03:07.953Z"
   },
   {
    "duration": 112,
    "start_time": "2021-11-16T11:07:52.072Z"
   },
   {
    "duration": 187,
    "start_time": "2021-11-16T11:09:23.468Z"
   },
   {
    "duration": 4,
    "start_time": "2021-11-16T11:10:01.455Z"
   },
   {
    "duration": 3,
    "start_time": "2021-11-16T11:10:05.069Z"
   },
   {
    "duration": 4,
    "start_time": "2021-11-16T11:10:13.376Z"
   },
   {
    "duration": 3,
    "start_time": "2021-11-16T11:10:14.434Z"
   },
   {
    "duration": 3,
    "start_time": "2021-11-16T11:10:22.853Z"
   },
   {
    "duration": 4,
    "start_time": "2021-11-16T11:27:29.279Z"
   },
   {
    "duration": 4,
    "start_time": "2021-11-16T11:29:08.919Z"
   },
   {
    "duration": 118,
    "start_time": "2021-11-16T11:29:46.703Z"
   },
   {
    "duration": 437,
    "start_time": "2021-11-16T11:36:02.181Z"
   },
   {
    "duration": 157,
    "start_time": "2021-11-16T11:36:14.388Z"
   },
   {
    "duration": 207,
    "start_time": "2021-11-16T11:47:15.898Z"
   },
   {
    "duration": 3,
    "start_time": "2021-11-16T11:53:52.092Z"
   },
   {
    "duration": 3,
    "start_time": "2021-11-16T11:53:52.236Z"
   },
   {
    "duration": 3,
    "start_time": "2021-11-16T11:59:12.005Z"
   },
   {
    "duration": 112,
    "start_time": "2021-11-16T12:00:33.446Z"
   },
   {
    "duration": 3,
    "start_time": "2021-11-16T12:02:14.453Z"
   },
   {
    "duration": 3,
    "start_time": "2021-11-16T12:02:39.512Z"
   },
   {
    "duration": 106,
    "start_time": "2021-11-16T12:03:03.460Z"
   },
   {
    "duration": 3,
    "start_time": "2021-11-17T20:37:21.139Z"
   },
   {
    "duration": 3,
    "start_time": "2021-11-17T20:37:22.229Z"
   },
   {
    "duration": 3,
    "start_time": "2021-11-17T20:38:38.806Z"
   },
   {
    "duration": 3,
    "start_time": "2021-11-17T20:38:41.958Z"
   },
   {
    "duration": 3,
    "start_time": "2021-11-17T20:43:46.551Z"
   },
   {
    "duration": 4,
    "start_time": "2021-11-17T20:58:21.835Z"
   },
   {
    "duration": 3,
    "start_time": "2021-11-17T20:59:21.872Z"
   },
   {
    "duration": 4,
    "start_time": "2021-11-17T20:59:45.352Z"
   },
   {
    "duration": 4,
    "start_time": "2021-11-17T20:59:49.646Z"
   },
   {
    "duration": 159,
    "start_time": "2021-11-17T21:02:26.949Z"
   },
   {
    "duration": 3,
    "start_time": "2021-11-17T21:03:53.461Z"
   },
   {
    "duration": 3,
    "start_time": "2021-11-17T21:03:53.694Z"
   },
   {
    "duration": 3,
    "start_time": "2021-11-17T21:05:28.145Z"
   },
   {
    "duration": 116,
    "start_time": "2021-11-17T21:05:57.787Z"
   },
   {
    "duration": 3,
    "start_time": "2021-11-17T21:06:37.993Z"
   },
   {
    "duration": 3,
    "start_time": "2021-11-17T21:06:38.261Z"
   },
   {
    "duration": 3,
    "start_time": "2021-11-17T21:11:54.358Z"
   },
   {
    "duration": 3,
    "start_time": "2021-11-17T21:12:43.846Z"
   },
   {
    "duration": 4,
    "start_time": "2021-11-17T21:13:08.773Z"
   },
   {
    "duration": 3,
    "start_time": "2021-11-17T21:14:44.441Z"
   },
   {
    "duration": 3,
    "start_time": "2021-11-17T21:15:42.059Z"
   },
   {
    "duration": 4,
    "start_time": "2021-11-17T21:15:51.995Z"
   },
   {
    "duration": 3,
    "start_time": "2021-11-17T21:15:53.923Z"
   },
   {
    "duration": 3,
    "start_time": "2021-11-17T21:15:55.282Z"
   },
   {
    "duration": 3,
    "start_time": "2021-11-17T21:16:28.492Z"
   },
   {
    "duration": 3,
    "start_time": "2021-11-17T21:16:32.603Z"
   },
   {
    "duration": 3,
    "start_time": "2021-11-17T21:17:06.941Z"
   },
   {
    "duration": 98,
    "start_time": "2021-11-17T21:18:05.733Z"
   },
   {
    "duration": 4,
    "start_time": "2021-11-17T21:21:35.255Z"
   },
   {
    "duration": 3,
    "start_time": "2021-11-17T21:21:37.804Z"
   },
   {
    "duration": 4,
    "start_time": "2021-11-17T21:23:06.071Z"
   },
   {
    "duration": 3,
    "start_time": "2021-11-17T21:23:24.799Z"
   },
   {
    "duration": 3,
    "start_time": "2021-11-17T21:23:32.591Z"
   },
   {
    "duration": 98,
    "start_time": "2021-11-17T21:28:31.559Z"
   },
   {
    "duration": 3,
    "start_time": "2021-11-17T21:28:45.448Z"
   },
   {
    "duration": 3,
    "start_time": "2021-11-17T21:29:17.303Z"
   },
   {
    "duration": 3,
    "start_time": "2021-11-17T21:29:29.617Z"
   },
   {
    "duration": 3,
    "start_time": "2021-11-17T21:29:32.681Z"
   },
   {
    "duration": 3,
    "start_time": "2021-11-17T21:36:11.474Z"
   },
   {
    "duration": 3,
    "start_time": "2021-11-17T21:36:14.791Z"
   },
   {
    "duration": 3,
    "start_time": "2021-11-17T21:36:53.943Z"
   },
   {
    "duration": 3,
    "start_time": "2021-11-17T21:36:56.165Z"
   },
   {
    "duration": 4,
    "start_time": "2021-11-17T21:37:16.590Z"
   },
   {
    "duration": 3,
    "start_time": "2021-11-17T21:37:22.702Z"
   },
   {
    "duration": 4,
    "start_time": "2021-11-17T21:38:03.479Z"
   },
   {
    "duration": 3,
    "start_time": "2021-11-17T21:38:08.601Z"
   },
   {
    "duration": 3,
    "start_time": "2021-11-17T21:38:12.928Z"
   },
   {
    "duration": 3,
    "start_time": "2021-11-17T21:38:48.896Z"
   },
   {
    "duration": 2,
    "start_time": "2021-11-17T21:38:49.171Z"
   },
   {
    "duration": 4,
    "start_time": "2021-11-17T21:39:57.889Z"
   },
   {
    "duration": 3,
    "start_time": "2021-11-17T21:39:58.057Z"
   },
   {
    "duration": 3,
    "start_time": "2021-11-17T21:41:20.108Z"
   },
   {
    "duration": 3,
    "start_time": "2021-11-17T21:41:20.629Z"
   },
   {
    "duration": 3,
    "start_time": "2021-11-17T21:42:49.136Z"
   },
   {
    "duration": 3,
    "start_time": "2021-11-17T21:43:15.137Z"
   },
   {
    "duration": 4,
    "start_time": "2021-11-17T21:43:16.766Z"
   },
   {
    "duration": 4,
    "start_time": "2021-11-17T21:43:31.711Z"
   },
   {
    "duration": 3,
    "start_time": "2021-11-17T21:43:36.312Z"
   },
   {
    "duration": 4,
    "start_time": "2021-11-17T21:45:08.825Z"
   },
   {
    "duration": 4,
    "start_time": "2021-11-17T21:45:10.119Z"
   },
   {
    "duration": 4,
    "start_time": "2021-11-17T21:45:13.748Z"
   },
   {
    "duration": 3,
    "start_time": "2021-11-17T21:45:22.219Z"
   },
   {
    "duration": 3,
    "start_time": "2021-11-17T21:45:33.412Z"
   },
   {
    "duration": 2,
    "start_time": "2021-11-17T21:46:01.885Z"
   },
   {
    "duration": 3,
    "start_time": "2021-11-17T21:46:03.628Z"
   },
   {
    "duration": 107,
    "start_time": "2021-11-17T21:47:32.512Z"
   },
   {
    "duration": 103,
    "start_time": "2021-11-17T21:50:36.243Z"
   },
   {
    "duration": 3,
    "start_time": "2021-11-18T06:28:31.440Z"
   },
   {
    "duration": 3,
    "start_time": "2021-11-18T06:29:00.168Z"
   },
   {
    "duration": 3,
    "start_time": "2021-11-18T06:31:27.008Z"
   },
   {
    "duration": 2,
    "start_time": "2021-11-18T06:35:34.288Z"
   },
   {
    "duration": 2,
    "start_time": "2021-11-18T06:38:04.527Z"
   },
   {
    "duration": 594,
    "start_time": "2024-09-26T04:53:28.260Z"
   },
   {
    "duration": 2,
    "start_time": "2024-09-26T04:53:28.856Z"
   },
   {
    "duration": 3,
    "start_time": "2024-09-26T04:53:28.860Z"
   },
   {
    "duration": 3,
    "start_time": "2024-09-26T04:53:28.865Z"
   },
   {
    "duration": 3,
    "start_time": "2024-09-26T04:53:28.869Z"
   },
   {
    "duration": 2,
    "start_time": "2024-09-26T04:53:28.874Z"
   },
   {
    "duration": 3,
    "start_time": "2024-09-26T04:53:28.878Z"
   },
   {
    "duration": 26,
    "start_time": "2024-09-26T04:53:28.882Z"
   },
   {
    "duration": 3,
    "start_time": "2024-09-26T04:53:28.910Z"
   },
   {
    "duration": 2,
    "start_time": "2024-09-26T04:53:28.916Z"
   },
   {
    "duration": 3,
    "start_time": "2024-09-26T04:53:28.920Z"
   },
   {
    "duration": 3,
    "start_time": "2024-09-26T04:53:28.924Z"
   },
   {
    "duration": 3,
    "start_time": "2024-09-26T04:53:28.928Z"
   },
   {
    "duration": 4,
    "start_time": "2024-09-26T04:53:28.932Z"
   },
   {
    "duration": 3,
    "start_time": "2024-09-26T04:53:28.937Z"
   },
   {
    "duration": 2,
    "start_time": "2024-09-26T04:53:28.942Z"
   },
   {
    "duration": 2,
    "start_time": "2024-09-26T04:53:28.946Z"
   },
   {
    "duration": 2,
    "start_time": "2024-09-26T04:53:28.950Z"
   },
   {
    "duration": 3,
    "start_time": "2024-09-26T04:53:28.953Z"
   },
   {
    "duration": 3,
    "start_time": "2024-09-26T04:53:28.958Z"
   },
   {
    "duration": 50,
    "start_time": "2024-09-26T04:53:28.962Z"
   },
   {
    "duration": 2,
    "start_time": "2024-09-26T04:53:29.014Z"
   },
   {
    "duration": 3,
    "start_time": "2024-09-26T04:53:29.018Z"
   },
   {
    "duration": 3,
    "start_time": "2024-09-26T04:53:29.022Z"
   },
   {
    "duration": 3,
    "start_time": "2024-09-26T04:53:29.027Z"
   },
   {
    "duration": 2,
    "start_time": "2024-09-26T04:53:29.033Z"
   },
   {
    "duration": 5,
    "start_time": "2024-09-26T04:53:29.036Z"
   },
   {
    "duration": 2,
    "start_time": "2024-09-26T04:53:29.045Z"
   },
   {
    "duration": 237,
    "start_time": "2024-09-26T05:03:39.085Z"
   },
   {
    "duration": 13,
    "start_time": "2024-09-26T05:04:26.928Z"
   },
   {
    "duration": 9,
    "start_time": "2024-09-26T05:04:58.037Z"
   },
   {
    "duration": 7,
    "start_time": "2024-09-26T05:05:35.368Z"
   },
   {
    "duration": 7,
    "start_time": "2024-09-26T05:05:47.481Z"
   },
   {
    "duration": 8,
    "start_time": "2024-09-26T05:06:40.122Z"
   },
   {
    "duration": 632,
    "start_time": "2024-09-26T05:13:40.618Z"
   },
   {
    "duration": 170,
    "start_time": "2024-09-26T05:13:41.252Z"
   },
   {
    "duration": 11,
    "start_time": "2024-09-26T05:13:41.424Z"
   },
   {
    "duration": 13,
    "start_time": "2024-09-26T05:13:41.436Z"
   },
   {
    "duration": 14,
    "start_time": "2024-09-26T05:13:41.451Z"
   },
   {
    "duration": 10,
    "start_time": "2024-09-26T05:13:41.467Z"
   },
   {
    "duration": 29,
    "start_time": "2024-09-26T05:13:41.480Z"
   },
   {
    "duration": 10,
    "start_time": "2024-09-26T05:13:41.510Z"
   },
   {
    "duration": 3,
    "start_time": "2024-09-26T05:13:41.521Z"
   },
   {
    "duration": 4,
    "start_time": "2024-09-26T05:13:41.526Z"
   },
   {
    "duration": 4,
    "start_time": "2024-09-26T05:13:41.532Z"
   },
   {
    "duration": 5,
    "start_time": "2024-09-26T05:13:41.537Z"
   },
   {
    "duration": 6,
    "start_time": "2024-09-26T05:13:41.544Z"
   },
   {
    "duration": 3,
    "start_time": "2024-09-26T05:13:41.553Z"
   },
   {
    "duration": 4,
    "start_time": "2024-09-26T05:13:41.557Z"
   },
   {
    "duration": 4,
    "start_time": "2024-09-26T05:13:41.563Z"
   },
   {
    "duration": 6,
    "start_time": "2024-09-26T05:13:41.569Z"
   },
   {
    "duration": 6,
    "start_time": "2024-09-26T05:13:41.577Z"
   },
   {
    "duration": 24,
    "start_time": "2024-09-26T05:13:41.585Z"
   },
   {
    "duration": 2,
    "start_time": "2024-09-26T05:13:41.611Z"
   },
   {
    "duration": 2,
    "start_time": "2024-09-26T05:13:41.615Z"
   },
   {
    "duration": 2,
    "start_time": "2024-09-26T05:13:41.619Z"
   },
   {
    "duration": 2,
    "start_time": "2024-09-26T05:13:41.623Z"
   },
   {
    "duration": 2,
    "start_time": "2024-09-26T05:13:41.627Z"
   },
   {
    "duration": 2,
    "start_time": "2024-09-26T05:13:41.631Z"
   },
   {
    "duration": 2,
    "start_time": "2024-09-26T05:13:41.635Z"
   },
   {
    "duration": 2,
    "start_time": "2024-09-26T05:13:41.639Z"
   },
   {
    "duration": 2,
    "start_time": "2024-09-26T05:13:41.643Z"
   },
   {
    "duration": 3,
    "start_time": "2024-09-26T05:13:41.647Z"
   },
   {
    "duration": 3,
    "start_time": "2024-09-26T05:13:41.651Z"
   },
   {
    "duration": 53,
    "start_time": "2024-09-26T05:13:41.656Z"
   },
   {
    "duration": 3,
    "start_time": "2024-09-26T05:13:41.710Z"
   },
   {
    "duration": 9,
    "start_time": "2024-09-26T05:14:33.027Z"
   },
   {
    "duration": 13,
    "start_time": "2024-09-26T05:14:39.893Z"
   },
   {
    "duration": 14,
    "start_time": "2024-09-26T05:14:59.448Z"
   },
   {
    "duration": 4,
    "start_time": "2024-09-26T05:23:21.089Z"
   },
   {
    "duration": 11,
    "start_time": "2024-09-26T05:23:33.611Z"
   },
   {
    "duration": 638,
    "start_time": "2024-09-26T05:29:59.910Z"
   },
   {
    "duration": 26,
    "start_time": "2024-09-26T05:30:11.597Z"
   },
   {
    "duration": 13,
    "start_time": "2024-09-26T05:32:59.069Z"
   },
   {
    "duration": 17,
    "start_time": "2024-09-26T05:34:05.794Z"
   },
   {
    "duration": 584,
    "start_time": "2024-09-26T05:38:56.163Z"
   },
   {
    "duration": 157,
    "start_time": "2024-09-26T05:38:56.750Z"
   },
   {
    "duration": 10,
    "start_time": "2024-09-26T05:38:56.909Z"
   },
   {
    "duration": 9,
    "start_time": "2024-09-26T05:38:56.922Z"
   },
   {
    "duration": 8,
    "start_time": "2024-09-26T05:38:56.933Z"
   },
   {
    "duration": 11,
    "start_time": "2024-09-26T05:38:56.943Z"
   },
   {
    "duration": 16,
    "start_time": "2024-09-26T05:38:56.955Z"
   },
   {
    "duration": 43,
    "start_time": "2024-09-26T05:38:56.972Z"
   },
   {
    "duration": 11,
    "start_time": "2024-09-26T05:38:57.018Z"
   },
   {
    "duration": 8,
    "start_time": "2024-09-26T05:38:57.032Z"
   },
   {
    "duration": 14,
    "start_time": "2024-09-26T05:38:57.041Z"
   },
   {
    "duration": 10,
    "start_time": "2024-09-26T05:38:57.056Z"
   },
   {
    "duration": 43,
    "start_time": "2024-09-26T05:38:57.067Z"
   },
   {
    "duration": 25,
    "start_time": "2024-09-26T05:38:57.112Z"
   },
   {
    "duration": 18,
    "start_time": "2024-09-26T05:38:57.139Z"
   },
   {
    "duration": 3,
    "start_time": "2024-09-26T05:38:57.158Z"
   },
   {
    "duration": 2,
    "start_time": "2024-09-26T05:38:57.163Z"
   },
   {
    "duration": 2,
    "start_time": "2024-09-26T05:38:57.167Z"
   },
   {
    "duration": 2,
    "start_time": "2024-09-26T05:38:57.171Z"
   },
   {
    "duration": 3,
    "start_time": "2024-09-26T05:38:57.210Z"
   },
   {
    "duration": 2,
    "start_time": "2024-09-26T05:38:57.215Z"
   },
   {
    "duration": 2,
    "start_time": "2024-09-26T05:38:57.219Z"
   },
   {
    "duration": 2,
    "start_time": "2024-09-26T05:38:57.223Z"
   },
   {
    "duration": 2,
    "start_time": "2024-09-26T05:38:57.227Z"
   },
   {
    "duration": 2,
    "start_time": "2024-09-26T05:38:57.230Z"
   },
   {
    "duration": 2,
    "start_time": "2024-09-26T05:38:57.234Z"
   },
   {
    "duration": 2,
    "start_time": "2024-09-26T05:38:57.238Z"
   },
   {
    "duration": 2,
    "start_time": "2024-09-26T05:38:57.244Z"
   },
   {
    "duration": 3,
    "start_time": "2024-09-26T05:38:57.247Z"
   },
   {
    "duration": 2,
    "start_time": "2024-09-26T05:38:57.251Z"
   },
   {
    "duration": 2,
    "start_time": "2024-09-26T05:38:57.255Z"
   },
   {
    "duration": 3,
    "start_time": "2024-09-26T05:38:57.310Z"
   },
   {
    "duration": 3,
    "start_time": "2024-09-26T05:38:57.314Z"
   },
   {
    "duration": 2,
    "start_time": "2024-09-26T05:38:57.319Z"
   },
   {
    "duration": 2,
    "start_time": "2024-09-26T05:38:57.323Z"
   },
   {
    "duration": 2,
    "start_time": "2024-09-26T05:38:57.326Z"
   },
   {
    "duration": 2,
    "start_time": "2024-09-26T05:38:57.330Z"
   },
   {
    "duration": 2,
    "start_time": "2024-09-26T05:38:57.334Z"
   },
   {
    "duration": 2,
    "start_time": "2024-09-26T05:38:57.338Z"
   },
   {
    "duration": 554,
    "start_time": "2024-09-26T05:45:30.288Z"
   },
   {
    "duration": 160,
    "start_time": "2024-09-26T05:45:30.845Z"
   },
   {
    "duration": 11,
    "start_time": "2024-09-26T05:45:31.007Z"
   },
   {
    "duration": 10,
    "start_time": "2024-09-26T05:45:31.020Z"
   },
   {
    "duration": 7,
    "start_time": "2024-09-26T05:45:31.032Z"
   },
   {
    "duration": 11,
    "start_time": "2024-09-26T05:45:31.041Z"
   },
   {
    "duration": 9,
    "start_time": "2024-09-26T05:45:31.054Z"
   },
   {
    "duration": 44,
    "start_time": "2024-09-26T05:45:31.065Z"
   },
   {
    "duration": 11,
    "start_time": "2024-09-26T05:45:31.110Z"
   },
   {
    "duration": 25,
    "start_time": "2024-09-26T05:45:31.124Z"
   },
   {
    "duration": 14,
    "start_time": "2024-09-26T05:45:31.151Z"
   },
   {
    "duration": 10,
    "start_time": "2024-09-26T05:45:31.167Z"
   },
   {
    "duration": 18,
    "start_time": "2024-09-26T05:45:31.209Z"
   },
   {
    "duration": 14,
    "start_time": "2024-09-26T05:45:31.228Z"
   },
   {
    "duration": 9,
    "start_time": "2024-09-26T05:45:31.243Z"
   },
   {
    "duration": 2,
    "start_time": "2024-09-26T05:45:31.254Z"
   },
   {
    "duration": 3,
    "start_time": "2024-09-26T05:45:31.257Z"
   },
   {
    "duration": 3,
    "start_time": "2024-09-26T05:45:31.261Z"
   },
   {
    "duration": 3,
    "start_time": "2024-09-26T05:45:31.266Z"
   },
   {
    "duration": 3,
    "start_time": "2024-09-26T05:45:31.270Z"
   },
   {
    "duration": 3,
    "start_time": "2024-09-26T05:45:31.309Z"
   },
   {
    "duration": 3,
    "start_time": "2024-09-26T05:45:31.313Z"
   },
   {
    "duration": 3,
    "start_time": "2024-09-26T05:45:31.318Z"
   },
   {
    "duration": 2,
    "start_time": "2024-09-26T05:45:31.323Z"
   },
   {
    "duration": 7,
    "start_time": "2024-09-26T05:45:31.326Z"
   },
   {
    "duration": 5,
    "start_time": "2024-09-26T05:45:31.335Z"
   },
   {
    "duration": 2,
    "start_time": "2024-09-26T05:45:31.343Z"
   },
   {
    "duration": 1,
    "start_time": "2024-09-26T05:45:31.350Z"
   },
   {
    "duration": 3,
    "start_time": "2024-09-26T05:45:31.353Z"
   },
   {
    "duration": 3,
    "start_time": "2024-09-26T05:45:31.358Z"
   },
   {
    "duration": 4,
    "start_time": "2024-09-26T05:45:31.363Z"
   },
   {
    "duration": 591,
    "start_time": "2024-09-26T05:47:54.754Z"
   },
   {
    "duration": 159,
    "start_time": "2024-09-26T05:47:55.347Z"
   },
   {
    "duration": 10,
    "start_time": "2024-09-26T05:47:55.508Z"
   },
   {
    "duration": 11,
    "start_time": "2024-09-26T05:47:55.521Z"
   },
   {
    "duration": 8,
    "start_time": "2024-09-26T05:47:55.534Z"
   },
   {
    "duration": 12,
    "start_time": "2024-09-26T05:47:55.543Z"
   },
   {
    "duration": 10,
    "start_time": "2024-09-26T05:47:55.556Z"
   },
   {
    "duration": 51,
    "start_time": "2024-09-26T05:47:55.567Z"
   },
   {
    "duration": 9,
    "start_time": "2024-09-26T05:47:55.620Z"
   },
   {
    "duration": 29,
    "start_time": "2024-09-26T05:47:55.635Z"
   },
   {
    "duration": 12,
    "start_time": "2024-09-26T05:47:55.665Z"
   },
   {
    "duration": 34,
    "start_time": "2024-09-26T05:47:55.678Z"
   },
   {
    "duration": 16,
    "start_time": "2024-09-26T05:47:55.715Z"
   },
   {
    "duration": 12,
    "start_time": "2024-09-26T05:47:55.733Z"
   },
   {
    "duration": 8,
    "start_time": "2024-09-26T05:47:55.747Z"
   },
   {
    "duration": 2,
    "start_time": "2024-09-26T05:47:55.757Z"
   },
   {
    "duration": 2,
    "start_time": "2024-09-26T05:47:55.762Z"
   },
   {
    "duration": 3,
    "start_time": "2024-09-26T05:47:55.766Z"
   },
   {
    "duration": 39,
    "start_time": "2024-09-26T05:47:55.771Z"
   },
   {
    "duration": 2,
    "start_time": "2024-09-26T05:47:55.811Z"
   },
   {
    "duration": 2,
    "start_time": "2024-09-26T05:47:55.815Z"
   },
   {
    "duration": 2,
    "start_time": "2024-09-26T05:47:55.819Z"
   },
   {
    "duration": 3,
    "start_time": "2024-09-26T05:47:55.823Z"
   },
   {
    "duration": 3,
    "start_time": "2024-09-26T05:47:55.827Z"
   },
   {
    "duration": 3,
    "start_time": "2024-09-26T05:47:55.832Z"
   },
   {
    "duration": 2,
    "start_time": "2024-09-26T05:47:55.838Z"
   },
   {
    "duration": 3,
    "start_time": "2024-09-26T05:47:55.841Z"
   },
   {
    "duration": 2,
    "start_time": "2024-09-26T05:47:55.848Z"
   },
   {
    "duration": 4,
    "start_time": "2024-09-26T05:47:55.851Z"
   },
   {
    "duration": 3,
    "start_time": "2024-09-26T05:47:55.856Z"
   },
   {
    "duration": 3,
    "start_time": "2024-09-26T05:47:55.861Z"
   },
   {
    "duration": 161,
    "start_time": "2024-09-26T16:18:42.158Z"
   },
   {
    "duration": 615,
    "start_time": "2024-09-26T16:19:06.188Z"
   },
   {
    "duration": 273,
    "start_time": "2024-09-26T16:19:06.805Z"
   },
   {
    "duration": 10,
    "start_time": "2024-09-26T16:19:07.079Z"
   },
   {
    "duration": 11,
    "start_time": "2024-09-26T16:19:07.092Z"
   },
   {
    "duration": 8,
    "start_time": "2024-09-26T16:19:07.105Z"
   },
   {
    "duration": 12,
    "start_time": "2024-09-26T16:19:07.115Z"
   },
   {
    "duration": 9,
    "start_time": "2024-09-26T16:19:07.128Z"
   },
   {
    "duration": 3,
    "start_time": "2024-09-26T16:19:07.138Z"
   },
   {
    "duration": 15,
    "start_time": "2024-09-26T16:19:07.143Z"
   },
   {
    "duration": 9,
    "start_time": "2024-09-26T16:19:07.161Z"
   },
   {
    "duration": 58,
    "start_time": "2024-09-26T16:19:07.171Z"
   },
   {
    "duration": 12,
    "start_time": "2024-09-26T16:19:07.231Z"
   },
   {
    "duration": 9,
    "start_time": "2024-09-26T16:19:07.244Z"
   },
   {
    "duration": 16,
    "start_time": "2024-09-26T16:19:07.254Z"
   },
   {
    "duration": 40,
    "start_time": "2024-09-26T16:19:07.272Z"
   },
   {
    "duration": 10,
    "start_time": "2024-09-26T16:19:07.314Z"
   },
   {
    "duration": 2,
    "start_time": "2024-09-26T16:19:07.326Z"
   },
   {
    "duration": 3,
    "start_time": "2024-09-26T16:19:07.330Z"
   },
   {
    "duration": 3,
    "start_time": "2024-09-26T16:19:07.334Z"
   },
   {
    "duration": 2,
    "start_time": "2024-09-26T16:19:07.339Z"
   },
   {
    "duration": 3,
    "start_time": "2024-09-26T16:19:07.343Z"
   },
   {
    "duration": 2,
    "start_time": "2024-09-26T16:19:07.348Z"
   },
   {
    "duration": 3,
    "start_time": "2024-09-26T16:19:07.352Z"
   },
   {
    "duration": 3,
    "start_time": "2024-09-26T16:19:07.356Z"
   },
   {
    "duration": 2,
    "start_time": "2024-09-26T16:19:07.361Z"
   },
   {
    "duration": 2,
    "start_time": "2024-09-26T16:19:07.365Z"
   },
   {
    "duration": 3,
    "start_time": "2024-09-26T16:19:07.412Z"
   },
   {
    "duration": 2,
    "start_time": "2024-09-26T16:19:07.419Z"
   },
   {
    "duration": 2,
    "start_time": "2024-09-26T16:19:07.423Z"
   },
   {
    "duration": 2,
    "start_time": "2024-09-26T16:19:07.427Z"
   },
   {
    "duration": 3,
    "start_time": "2024-09-26T16:19:07.431Z"
   },
   {
    "duration": 3,
    "start_time": "2024-09-26T16:19:07.435Z"
   },
   {
    "duration": 10,
    "start_time": "2024-09-26T16:19:35.836Z"
   },
   {
    "duration": 20,
    "start_time": "2024-09-26T16:28:17.957Z"
   },
   {
    "duration": 7,
    "start_time": "2024-09-26T16:28:43.590Z"
   },
   {
    "duration": 8,
    "start_time": "2024-09-26T16:31:11.418Z"
   },
   {
    "duration": 7,
    "start_time": "2024-09-26T16:31:52.079Z"
   },
   {
    "duration": 10,
    "start_time": "2024-09-26T16:37:44.053Z"
   },
   {
    "duration": 15,
    "start_time": "2024-09-26T16:41:58.461Z"
   },
   {
    "duration": 53,
    "start_time": "2024-09-26T16:42:15.969Z"
   },
   {
    "duration": 200,
    "start_time": "2024-09-26T16:45:20.864Z"
   },
   {
    "duration": 7,
    "start_time": "2024-09-26T16:45:24.666Z"
   },
   {
    "duration": 22,
    "start_time": "2024-09-26T16:47:49.596Z"
   },
   {
    "duration": 12,
    "start_time": "2024-09-26T16:47:54.013Z"
   },
   {
    "duration": 32,
    "start_time": "2024-09-26T16:51:54.681Z"
   },
   {
    "duration": 12,
    "start_time": "2024-09-26T16:51:59.276Z"
   },
   {
    "duration": 9,
    "start_time": "2024-09-26T16:53:37.992Z"
   },
   {
    "duration": 575,
    "start_time": "2024-09-26T16:55:59.477Z"
   },
   {
    "duration": 157,
    "start_time": "2024-09-26T16:56:00.054Z"
   },
   {
    "duration": 10,
    "start_time": "2024-09-26T16:56:00.213Z"
   },
   {
    "duration": 9,
    "start_time": "2024-09-26T16:56:00.225Z"
   },
   {
    "duration": 9,
    "start_time": "2024-09-26T16:56:00.236Z"
   },
   {
    "duration": 7,
    "start_time": "2024-09-26T16:56:00.247Z"
   },
   {
    "duration": 12,
    "start_time": "2024-09-26T16:56:00.256Z"
   },
   {
    "duration": 9,
    "start_time": "2024-09-26T16:56:00.269Z"
   },
   {
    "duration": 8,
    "start_time": "2024-09-26T16:56:00.312Z"
   },
   {
    "duration": 14,
    "start_time": "2024-09-26T16:56:00.324Z"
   },
   {
    "duration": 9,
    "start_time": "2024-09-26T16:56:00.340Z"
   },
   {
    "duration": 26,
    "start_time": "2024-09-26T16:56:00.350Z"
   },
   {
    "duration": 36,
    "start_time": "2024-09-26T16:56:00.378Z"
   },
   {
    "duration": 7,
    "start_time": "2024-09-26T16:56:00.415Z"
   },
   {
    "duration": 11,
    "start_time": "2024-09-26T16:56:00.424Z"
   },
   {
    "duration": 7,
    "start_time": "2024-09-26T16:56:00.437Z"
   },
   {
    "duration": 16,
    "start_time": "2024-09-26T16:56:00.446Z"
   },
   {
    "duration": 8,
    "start_time": "2024-09-26T16:56:00.464Z"
   },
   {
    "duration": 13,
    "start_time": "2024-09-26T16:56:00.511Z"
   },
   {
    "duration": 10,
    "start_time": "2024-09-26T16:56:00.525Z"
   },
   {
    "duration": 20,
    "start_time": "2024-09-26T16:56:00.537Z"
   },
   {
    "duration": 11,
    "start_time": "2024-09-26T16:56:00.558Z"
   },
   {
    "duration": 2,
    "start_time": "2024-09-26T16:56:00.571Z"
   },
   {
    "duration": 3,
    "start_time": "2024-09-26T16:56:00.575Z"
   },
   {
    "duration": 32,
    "start_time": "2024-09-26T16:56:00.580Z"
   },
   {
    "duration": 2,
    "start_time": "2024-09-26T16:56:00.613Z"
   },
   {
    "duration": 3,
    "start_time": "2024-09-26T16:56:00.617Z"
   },
   {
    "duration": 2,
    "start_time": "2024-09-26T16:56:00.624Z"
   },
   {
    "duration": 2,
    "start_time": "2024-09-26T16:56:00.627Z"
   },
   {
    "duration": 3,
    "start_time": "2024-09-26T16:56:00.631Z"
   },
   {
    "duration": 3,
    "start_time": "2024-09-26T16:56:00.635Z"
   },
   {
    "duration": 4,
    "start_time": "2024-09-26T16:56:00.640Z"
   },
   {
    "duration": 3,
    "start_time": "2024-09-26T16:56:00.645Z"
   },
   {
    "duration": 4,
    "start_time": "2024-09-26T16:56:00.649Z"
   },
   {
    "duration": 3,
    "start_time": "2024-09-26T16:56:00.654Z"
   },
   {
    "duration": 3,
    "start_time": "2024-09-26T16:56:00.658Z"
   },
   {
    "duration": 51,
    "start_time": "2024-09-26T16:56:00.662Z"
   },
   {
    "duration": 3,
    "start_time": "2024-09-26T16:56:00.714Z"
   },
   {
    "duration": 8,
    "start_time": "2024-09-26T16:58:31.384Z"
   },
   {
    "duration": 8,
    "start_time": "2024-09-26T17:04:07.555Z"
   },
   {
    "duration": 629,
    "start_time": "2024-09-26T17:04:24.611Z"
   },
   {
    "duration": 156,
    "start_time": "2024-09-26T17:04:25.242Z"
   },
   {
    "duration": 11,
    "start_time": "2024-09-26T17:04:25.400Z"
   },
   {
    "duration": 12,
    "start_time": "2024-09-26T17:04:25.413Z"
   },
   {
    "duration": 8,
    "start_time": "2024-09-26T17:04:25.428Z"
   },
   {
    "duration": 9,
    "start_time": "2024-09-26T17:04:25.438Z"
   },
   {
    "duration": 13,
    "start_time": "2024-09-26T17:04:25.449Z"
   },
   {
    "duration": 9,
    "start_time": "2024-09-26T17:04:25.463Z"
   },
   {
    "duration": 43,
    "start_time": "2024-09-26T17:04:25.474Z"
   },
   {
    "duration": 15,
    "start_time": "2024-09-26T17:04:25.518Z"
   },
   {
    "duration": 8,
    "start_time": "2024-09-26T17:04:25.535Z"
   },
   {
    "duration": 27,
    "start_time": "2024-09-26T17:04:25.545Z"
   },
   {
    "duration": 8,
    "start_time": "2024-09-26T17:04:25.573Z"
   },
   {
    "duration": 7,
    "start_time": "2024-09-26T17:04:25.613Z"
   },
   {
    "duration": 11,
    "start_time": "2024-09-26T17:04:25.622Z"
   },
   {
    "duration": 8,
    "start_time": "2024-09-26T17:04:25.635Z"
   },
   {
    "duration": 16,
    "start_time": "2024-09-26T17:04:25.645Z"
   },
   {
    "duration": 9,
    "start_time": "2024-09-26T17:04:25.662Z"
   },
   {
    "duration": 44,
    "start_time": "2024-09-26T17:04:25.672Z"
   },
   {
    "duration": 9,
    "start_time": "2024-09-26T17:04:25.718Z"
   },
   {
    "duration": 21,
    "start_time": "2024-09-26T17:04:25.729Z"
   },
   {
    "duration": 10,
    "start_time": "2024-09-26T17:04:25.751Z"
   },
   {
    "duration": 7,
    "start_time": "2024-09-26T17:04:25.763Z"
   },
   {
    "duration": 2,
    "start_time": "2024-09-26T17:04:25.772Z"
   },
   {
    "duration": 34,
    "start_time": "2024-09-26T17:04:25.777Z"
   },
   {
    "duration": 2,
    "start_time": "2024-09-26T17:04:25.813Z"
   },
   {
    "duration": 3,
    "start_time": "2024-09-26T17:04:25.817Z"
   },
   {
    "duration": 2,
    "start_time": "2024-09-26T17:04:25.822Z"
   },
   {
    "duration": 3,
    "start_time": "2024-09-26T17:04:25.826Z"
   },
   {
    "duration": 3,
    "start_time": "2024-09-26T17:04:25.830Z"
   },
   {
    "duration": 3,
    "start_time": "2024-09-26T17:04:25.835Z"
   },
   {
    "duration": 3,
    "start_time": "2024-09-26T17:04:25.839Z"
   },
   {
    "duration": 3,
    "start_time": "2024-09-26T17:04:25.843Z"
   },
   {
    "duration": 2,
    "start_time": "2024-09-26T17:04:25.849Z"
   },
   {
    "duration": 2,
    "start_time": "2024-09-26T17:04:25.853Z"
   },
   {
    "duration": 2,
    "start_time": "2024-09-26T17:04:25.857Z"
   },
   {
    "duration": 51,
    "start_time": "2024-09-26T17:04:25.861Z"
   },
   {
    "duration": 2,
    "start_time": "2024-09-26T17:04:25.914Z"
   },
   {
    "duration": 167,
    "start_time": "2024-09-28T01:00:23.308Z"
   },
   {
    "duration": 585,
    "start_time": "2024-09-28T01:00:37.473Z"
   },
   {
    "duration": 217,
    "start_time": "2024-09-28T01:00:38.061Z"
   },
   {
    "duration": 12,
    "start_time": "2024-09-28T01:00:38.282Z"
   },
   {
    "duration": 14,
    "start_time": "2024-09-28T01:00:38.297Z"
   },
   {
    "duration": 11,
    "start_time": "2024-09-28T01:00:38.313Z"
   },
   {
    "duration": 9,
    "start_time": "2024-09-28T01:00:38.327Z"
   },
   {
    "duration": 12,
    "start_time": "2024-09-28T01:00:38.338Z"
   },
   {
    "duration": 44,
    "start_time": "2024-09-28T01:00:38.351Z"
   },
   {
    "duration": 10,
    "start_time": "2024-09-28T01:00:38.396Z"
   },
   {
    "duration": 15,
    "start_time": "2024-09-28T01:00:38.409Z"
   },
   {
    "duration": 10,
    "start_time": "2024-09-28T01:00:38.426Z"
   },
   {
    "duration": 60,
    "start_time": "2024-09-28T01:00:38.438Z"
   },
   {
    "duration": 8,
    "start_time": "2024-09-28T01:00:38.500Z"
   },
   {
    "duration": 7,
    "start_time": "2024-09-28T01:00:38.510Z"
   },
   {
    "duration": 12,
    "start_time": "2024-09-28T01:00:38.520Z"
   },
   {
    "duration": 8,
    "start_time": "2024-09-28T01:00:38.534Z"
   },
   {
    "duration": 52,
    "start_time": "2024-09-28T01:00:38.544Z"
   },
   {
    "duration": 9,
    "start_time": "2024-09-28T01:00:38.598Z"
   },
   {
    "duration": 14,
    "start_time": "2024-09-28T01:00:38.609Z"
   },
   {
    "duration": 9,
    "start_time": "2024-09-28T01:00:38.625Z"
   },
   {
    "duration": 21,
    "start_time": "2024-09-28T01:00:38.636Z"
   },
   {
    "duration": 37,
    "start_time": "2024-09-28T01:00:38.659Z"
   },
   {
    "duration": 7,
    "start_time": "2024-09-28T01:00:38.698Z"
   },
   {
    "duration": 15,
    "start_time": "2024-09-28T01:00:38.707Z"
   },
   {
    "duration": 3,
    "start_time": "2024-09-28T01:00:38.723Z"
   },
   {
    "duration": 3,
    "start_time": "2024-09-28T01:00:38.727Z"
   },
   {
    "duration": 4,
    "start_time": "2024-09-28T01:00:38.732Z"
   },
   {
    "duration": 2,
    "start_time": "2024-09-28T01:00:38.740Z"
   },
   {
    "duration": 3,
    "start_time": "2024-09-28T01:00:38.743Z"
   },
   {
    "duration": 3,
    "start_time": "2024-09-28T01:00:38.787Z"
   },
   {
    "duration": 7,
    "start_time": "2024-09-28T01:00:38.792Z"
   },
   {
    "duration": 2,
    "start_time": "2024-09-28T01:00:38.801Z"
   },
   {
    "duration": 3,
    "start_time": "2024-09-28T01:00:38.805Z"
   },
   {
    "duration": 3,
    "start_time": "2024-09-28T01:00:38.810Z"
   },
   {
    "duration": 3,
    "start_time": "2024-09-28T01:00:38.814Z"
   },
   {
    "duration": 2,
    "start_time": "2024-09-28T01:00:38.818Z"
   },
   {
    "duration": 2,
    "start_time": "2024-09-28T01:00:38.822Z"
   },
   {
    "duration": 2,
    "start_time": "2024-09-28T01:00:38.826Z"
   },
   {
    "duration": 21,
    "start_time": "2024-09-28T01:00:59.212Z"
   },
   {
    "duration": 19,
    "start_time": "2024-09-28T01:02:48.913Z"
   },
   {
    "duration": 25,
    "start_time": "2024-09-28T01:03:33.823Z"
   },
   {
    "duration": 21,
    "start_time": "2024-09-28T01:04:18.300Z"
   },
   {
    "duration": 22,
    "start_time": "2024-09-28T01:04:31.361Z"
   },
   {
    "duration": 20,
    "start_time": "2024-09-28T01:04:52.624Z"
   },
   {
    "duration": 13,
    "start_time": "2024-09-28T01:06:54.306Z"
   },
   {
    "duration": 15,
    "start_time": "2024-09-28T01:07:49.789Z"
   },
   {
    "duration": 14,
    "start_time": "2024-09-28T01:07:56.045Z"
   },
   {
    "duration": 12,
    "start_time": "2024-09-28T01:13:43.686Z"
   },
   {
    "duration": 495,
    "start_time": "2024-09-28T01:17:45.312Z"
   },
   {
    "duration": 29,
    "start_time": "2024-09-28T01:18:37.611Z"
   },
   {
    "duration": 26,
    "start_time": "2024-09-28T01:18:54.700Z"
   },
   {
    "duration": 25,
    "start_time": "2024-09-28T01:19:35.541Z"
   },
   {
    "duration": 12,
    "start_time": "2024-09-28T01:25:28.812Z"
   },
   {
    "duration": 14,
    "start_time": "2024-09-28T01:26:09.115Z"
   },
   {
    "duration": 22,
    "start_time": "2024-09-28T01:28:37.793Z"
   },
   {
    "duration": 15,
    "start_time": "2024-09-28T01:29:11.917Z"
   },
   {
    "duration": 23,
    "start_time": "2024-09-28T01:30:32.861Z"
   },
   {
    "duration": 14,
    "start_time": "2024-09-28T01:30:42.855Z"
   },
   {
    "duration": 22,
    "start_time": "2024-09-28T01:32:29.930Z"
   },
   {
    "duration": 7,
    "start_time": "2024-09-28T01:33:11.435Z"
   },
   {
    "duration": 7,
    "start_time": "2024-09-28T01:34:36.079Z"
   },
   {
    "duration": 15,
    "start_time": "2024-09-28T01:35:28.438Z"
   },
   {
    "duration": 24,
    "start_time": "2024-09-28T01:37:33.130Z"
   },
   {
    "duration": 16,
    "start_time": "2024-09-28T01:38:05.410Z"
   },
   {
    "duration": 15,
    "start_time": "2024-09-28T01:38:43.507Z"
   },
   {
    "duration": 23,
    "start_time": "2024-09-28T01:39:03.800Z"
   },
   {
    "duration": 23,
    "start_time": "2024-09-28T01:46:12.546Z"
   },
   {
    "duration": 25,
    "start_time": "2024-09-28T01:46:46.156Z"
   },
   {
    "duration": 15,
    "start_time": "2024-09-28T01:48:17.499Z"
   },
   {
    "duration": 17,
    "start_time": "2024-09-28T01:48:26.274Z"
   },
   {
    "duration": 14,
    "start_time": "2024-09-28T01:48:26.723Z"
   },
   {
    "duration": 21,
    "start_time": "2024-09-28T01:55:22.099Z"
   },
   {
    "duration": 15,
    "start_time": "2024-09-28T01:56:13.212Z"
   },
   {
    "duration": 14,
    "start_time": "2024-09-28T01:56:26.191Z"
   },
   {
    "duration": 12,
    "start_time": "2024-09-28T01:56:45.208Z"
   },
   {
    "duration": 566,
    "start_time": "2024-09-28T01:56:56.058Z"
   },
   {
    "duration": 156,
    "start_time": "2024-09-28T01:56:56.626Z"
   },
   {
    "duration": 9,
    "start_time": "2024-09-28T01:56:56.784Z"
   },
   {
    "duration": 11,
    "start_time": "2024-09-28T01:56:56.795Z"
   },
   {
    "duration": 10,
    "start_time": "2024-09-28T01:56:56.808Z"
   },
   {
    "duration": 9,
    "start_time": "2024-09-28T01:56:56.819Z"
   },
   {
    "duration": 12,
    "start_time": "2024-09-28T01:56:56.830Z"
   },
   {
    "duration": 10,
    "start_time": "2024-09-28T01:56:56.845Z"
   },
   {
    "duration": 11,
    "start_time": "2024-09-28T01:56:56.888Z"
   },
   {
    "duration": 16,
    "start_time": "2024-09-28T01:56:56.900Z"
   },
   {
    "duration": 10,
    "start_time": "2024-09-28T01:56:56.918Z"
   },
   {
    "duration": 26,
    "start_time": "2024-09-28T01:56:56.930Z"
   },
   {
    "duration": 32,
    "start_time": "2024-09-28T01:56:56.958Z"
   },
   {
    "duration": 7,
    "start_time": "2024-09-28T01:56:56.994Z"
   },
   {
    "duration": 11,
    "start_time": "2024-09-28T01:56:57.003Z"
   },
   {
    "duration": 10,
    "start_time": "2024-09-28T01:56:57.016Z"
   },
   {
    "duration": 17,
    "start_time": "2024-09-28T01:56:57.028Z"
   },
   {
    "duration": 42,
    "start_time": "2024-09-28T01:56:57.046Z"
   },
   {
    "duration": 14,
    "start_time": "2024-09-28T01:56:57.090Z"
   },
   {
    "duration": 9,
    "start_time": "2024-09-28T01:56:57.106Z"
   },
   {
    "duration": 21,
    "start_time": "2024-09-28T01:56:57.117Z"
   },
   {
    "duration": 11,
    "start_time": "2024-09-28T01:56:57.140Z"
   },
   {
    "duration": 37,
    "start_time": "2024-09-28T01:56:57.153Z"
   },
   {
    "duration": 18,
    "start_time": "2024-09-28T01:56:57.192Z"
   },
   {
    "duration": 14,
    "start_time": "2024-09-28T01:56:57.212Z"
   },
   {
    "duration": 25,
    "start_time": "2024-09-28T01:56:57.227Z"
   },
   {
    "duration": 40,
    "start_time": "2024-09-28T01:56:57.254Z"
   },
   {
    "duration": 12,
    "start_time": "2024-09-28T01:56:57.296Z"
   },
   {
    "duration": 15,
    "start_time": "2024-09-28T01:56:57.310Z"
   },
   {
    "duration": 13,
    "start_time": "2024-09-28T01:56:57.327Z"
   },
   {
    "duration": 50,
    "start_time": "2024-09-28T01:56:57.342Z"
   },
   {
    "duration": 2,
    "start_time": "2024-09-28T01:56:57.394Z"
   },
   {
    "duration": 2,
    "start_time": "2024-09-28T01:56:57.398Z"
   },
   {
    "duration": 3,
    "start_time": "2024-09-28T01:56:57.402Z"
   },
   {
    "duration": 2,
    "start_time": "2024-09-28T01:56:57.406Z"
   },
   {
    "duration": 2,
    "start_time": "2024-09-28T01:56:57.410Z"
   },
   {
    "duration": 2,
    "start_time": "2024-09-28T01:56:57.414Z"
   },
   {
    "duration": 2,
    "start_time": "2024-09-28T01:56:57.418Z"
   },
   {
    "duration": 3,
    "start_time": "2024-09-28T01:56:57.421Z"
   },
   {
    "duration": 2,
    "start_time": "2024-09-28T01:56:57.425Z"
   },
   {
    "duration": 5,
    "start_time": "2024-09-28T01:58:59.939Z"
   },
   {
    "duration": 26,
    "start_time": "2024-09-28T02:04:38.982Z"
   },
   {
    "duration": 27,
    "start_time": "2024-09-28T02:17:05.886Z"
   },
   {
    "duration": 47,
    "start_time": "2024-09-28T02:23:27.479Z"
   },
   {
    "duration": 664,
    "start_time": "2024-09-28T02:27:02.119Z"
   },
   {
    "duration": 549,
    "start_time": "2024-09-28T02:27:36.476Z"
   },
   {
    "duration": 186,
    "start_time": "2024-09-28T02:27:37.028Z"
   },
   {
    "duration": 11,
    "start_time": "2024-09-28T02:27:37.216Z"
   },
   {
    "duration": 11,
    "start_time": "2024-09-28T02:27:37.229Z"
   },
   {
    "duration": 10,
    "start_time": "2024-09-28T02:27:37.241Z"
   },
   {
    "duration": 10,
    "start_time": "2024-09-28T02:27:37.252Z"
   },
   {
    "duration": 34,
    "start_time": "2024-09-28T02:27:37.263Z"
   },
   {
    "duration": 10,
    "start_time": "2024-09-28T02:27:37.299Z"
   },
   {
    "duration": 9,
    "start_time": "2024-09-28T02:27:37.310Z"
   },
   {
    "duration": 14,
    "start_time": "2024-09-28T02:27:37.323Z"
   },
   {
    "duration": 9,
    "start_time": "2024-09-28T02:27:37.339Z"
   },
   {
    "duration": 60,
    "start_time": "2024-09-28T02:27:37.350Z"
   },
   {
    "duration": 8,
    "start_time": "2024-09-28T02:27:37.411Z"
   },
   {
    "duration": 7,
    "start_time": "2024-09-28T02:27:37.420Z"
   },
   {
    "duration": 11,
    "start_time": "2024-09-28T02:27:37.429Z"
   },
   {
    "duration": 9,
    "start_time": "2024-09-28T02:27:37.442Z"
   },
   {
    "duration": 50,
    "start_time": "2024-09-28T02:27:37.453Z"
   },
   {
    "duration": 9,
    "start_time": "2024-09-28T02:27:37.504Z"
   },
   {
    "duration": 13,
    "start_time": "2024-09-28T02:27:37.515Z"
   },
   {
    "duration": 10,
    "start_time": "2024-09-28T02:27:37.530Z"
   },
   {
    "duration": 50,
    "start_time": "2024-09-28T02:27:37.542Z"
   },
   {
    "duration": 11,
    "start_time": "2024-09-28T02:27:37.594Z"
   },
   {
    "duration": 7,
    "start_time": "2024-09-28T02:27:37.607Z"
   },
   {
    "duration": 18,
    "start_time": "2024-09-28T02:27:37.616Z"
   },
   {
    "duration": 14,
    "start_time": "2024-09-28T02:27:37.636Z"
   },
   {
    "duration": 57,
    "start_time": "2024-09-28T02:27:37.652Z"
   },
   {
    "duration": 12,
    "start_time": "2024-09-28T02:27:37.710Z"
   },
   {
    "duration": 12,
    "start_time": "2024-09-28T02:27:37.725Z"
   },
   {
    "duration": 14,
    "start_time": "2024-09-28T02:27:37.739Z"
   },
   {
    "duration": 43,
    "start_time": "2024-09-28T02:27:37.754Z"
   },
   {
    "duration": 23,
    "start_time": "2024-09-28T02:27:37.799Z"
   },
   {
    "duration": 686,
    "start_time": "2024-09-28T02:27:37.824Z"
   },
   {
    "duration": 0,
    "start_time": "2024-09-28T02:27:38.512Z"
   },
   {
    "duration": 0,
    "start_time": "2024-09-28T02:27:38.514Z"
   },
   {
    "duration": 0,
    "start_time": "2024-09-28T02:27:38.516Z"
   },
   {
    "duration": 0,
    "start_time": "2024-09-28T02:27:38.517Z"
   },
   {
    "duration": 0,
    "start_time": "2024-09-28T02:27:38.519Z"
   },
   {
    "duration": 0,
    "start_time": "2024-09-28T02:27:38.520Z"
   },
   {
    "duration": 0,
    "start_time": "2024-09-28T02:27:38.521Z"
   },
   {
    "duration": 0,
    "start_time": "2024-09-28T02:27:38.523Z"
   },
   {
    "duration": 33,
    "start_time": "2024-09-28T02:28:22.259Z"
   },
   {
    "duration": 32,
    "start_time": "2024-09-28T02:34:47.757Z"
   },
   {
    "duration": 12,
    "start_time": "2024-09-28T02:55:41.162Z"
   },
   {
    "duration": 4,
    "start_time": "2024-09-28T02:57:27.146Z"
   },
   {
    "duration": 4,
    "start_time": "2024-09-28T02:57:59.466Z"
   },
   {
    "duration": 5,
    "start_time": "2024-09-28T02:58:19.663Z"
   },
   {
    "duration": 5,
    "start_time": "2024-09-28T02:58:50.660Z"
   },
   {
    "duration": 4,
    "start_time": "2024-09-28T02:58:58.564Z"
   },
   {
    "duration": 3,
    "start_time": "2024-09-28T02:59:50.882Z"
   },
   {
    "duration": 168,
    "start_time": "2024-09-28T03:01:18.131Z"
   },
   {
    "duration": 38,
    "start_time": "2024-09-28T03:02:03.988Z"
   },
   {
    "duration": 584,
    "start_time": "2024-09-28T03:02:42.542Z"
   },
   {
    "duration": 196,
    "start_time": "2024-09-28T03:02:43.128Z"
   },
   {
    "duration": 11,
    "start_time": "2024-09-28T03:02:43.326Z"
   },
   {
    "duration": 11,
    "start_time": "2024-09-28T03:02:43.339Z"
   },
   {
    "duration": 12,
    "start_time": "2024-09-28T03:02:43.351Z"
   },
   {
    "duration": 9,
    "start_time": "2024-09-28T03:02:43.365Z"
   },
   {
    "duration": 15,
    "start_time": "2024-09-28T03:02:43.387Z"
   },
   {
    "duration": 9,
    "start_time": "2024-09-28T03:02:43.404Z"
   },
   {
    "duration": 10,
    "start_time": "2024-09-28T03:02:43.415Z"
   },
   {
    "duration": 15,
    "start_time": "2024-09-28T03:02:43.429Z"
   },
   {
    "duration": 41,
    "start_time": "2024-09-28T03:02:43.446Z"
   },
   {
    "duration": 30,
    "start_time": "2024-09-28T03:02:43.489Z"
   },
   {
    "duration": 7,
    "start_time": "2024-09-28T03:02:43.521Z"
   },
   {
    "duration": 7,
    "start_time": "2024-09-28T03:02:43.530Z"
   },
   {
    "duration": 13,
    "start_time": "2024-09-28T03:02:43.539Z"
   },
   {
    "duration": 34,
    "start_time": "2024-09-28T03:02:43.554Z"
   },
   {
    "duration": 18,
    "start_time": "2024-09-28T03:02:43.589Z"
   },
   {
    "duration": 9,
    "start_time": "2024-09-28T03:02:43.610Z"
   },
   {
    "duration": 13,
    "start_time": "2024-09-28T03:02:43.622Z"
   },
   {
    "duration": 9,
    "start_time": "2024-09-28T03:02:43.637Z"
   },
   {
    "duration": 53,
    "start_time": "2024-09-28T03:02:43.648Z"
   },
   {
    "duration": 10,
    "start_time": "2024-09-28T03:02:43.703Z"
   },
   {
    "duration": 7,
    "start_time": "2024-09-28T03:02:43.715Z"
   },
   {
    "duration": 18,
    "start_time": "2024-09-28T03:02:43.724Z"
   },
   {
    "duration": 15,
    "start_time": "2024-09-28T03:02:43.744Z"
   },
   {
    "duration": 27,
    "start_time": "2024-09-28T03:02:43.787Z"
   },
   {
    "duration": 11,
    "start_time": "2024-09-28T03:02:43.815Z"
   },
   {
    "duration": 11,
    "start_time": "2024-09-28T03:02:43.830Z"
   },
   {
    "duration": 15,
    "start_time": "2024-09-28T03:02:43.843Z"
   },
   {
    "duration": 41,
    "start_time": "2024-09-28T03:02:43.859Z"
   },
   {
    "duration": 26,
    "start_time": "2024-09-28T03:02:43.901Z"
   },
   {
    "duration": 57,
    "start_time": "2024-09-28T03:02:43.929Z"
   },
   {
    "duration": 12,
    "start_time": "2024-09-28T03:02:43.988Z"
   },
   {
    "duration": 31,
    "start_time": "2024-09-28T03:02:44.002Z"
   },
   {
    "duration": 2,
    "start_time": "2024-09-28T03:02:44.035Z"
   },
   {
    "duration": 2,
    "start_time": "2024-09-28T03:02:44.039Z"
   },
   {
    "duration": 5,
    "start_time": "2024-09-28T03:02:44.042Z"
   },
   {
    "duration": 3,
    "start_time": "2024-09-28T03:02:44.048Z"
   },
   {
    "duration": 2,
    "start_time": "2024-09-28T03:02:44.052Z"
   },
   {
    "duration": 2,
    "start_time": "2024-09-28T03:02:44.088Z"
   },
   {
    "duration": 2,
    "start_time": "2024-09-28T03:02:44.092Z"
   },
   {
    "duration": 639,
    "start_time": "2024-09-28T03:03:48.004Z"
   },
   {
    "duration": 5,
    "start_time": "2024-09-28T03:04:20.044Z"
   },
   {
    "duration": 31,
    "start_time": "2024-09-28T03:04:28.178Z"
   },
   {
    "duration": 8,
    "start_time": "2024-09-28T03:05:06.780Z"
   },
   {
    "duration": 11,
    "start_time": "2024-09-28T03:06:00.892Z"
   },
   {
    "duration": 1821,
    "start_time": "2024-09-28T03:09:40.707Z"
   },
   {
    "duration": 62,
    "start_time": "2024-09-28T03:11:07.348Z"
   },
   {
    "duration": 792,
    "start_time": "2024-09-28T03:13:24.300Z"
   },
   {
    "duration": 159,
    "start_time": "2024-09-28T03:13:25.094Z"
   },
   {
    "duration": 9,
    "start_time": "2024-09-28T03:13:25.255Z"
   },
   {
    "duration": 9,
    "start_time": "2024-09-28T03:13:25.266Z"
   },
   {
    "duration": 15,
    "start_time": "2024-09-28T03:13:25.278Z"
   },
   {
    "duration": 8,
    "start_time": "2024-09-28T03:13:25.295Z"
   },
   {
    "duration": 13,
    "start_time": "2024-09-28T03:13:25.305Z"
   },
   {
    "duration": 10,
    "start_time": "2024-09-28T03:13:25.320Z"
   },
   {
    "duration": 10,
    "start_time": "2024-09-28T03:13:25.332Z"
   },
   {
    "duration": 48,
    "start_time": "2024-09-28T03:13:25.344Z"
   },
   {
    "duration": 10,
    "start_time": "2024-09-28T03:13:25.394Z"
   },
   {
    "duration": 27,
    "start_time": "2024-09-28T03:13:25.405Z"
   },
   {
    "duration": 8,
    "start_time": "2024-09-28T03:13:25.433Z"
   },
   {
    "duration": 7,
    "start_time": "2024-09-28T03:13:25.445Z"
   },
   {
    "duration": 12,
    "start_time": "2024-09-28T03:13:25.486Z"
   },
   {
    "duration": 10,
    "start_time": "2024-09-28T03:13:25.499Z"
   },
   {
    "duration": 17,
    "start_time": "2024-09-28T03:13:25.510Z"
   },
   {
    "duration": 9,
    "start_time": "2024-09-28T03:13:25.529Z"
   },
   {
    "duration": 12,
    "start_time": "2024-09-28T03:13:25.540Z"
   },
   {
    "duration": 42,
    "start_time": "2024-09-28T03:13:25.554Z"
   },
   {
    "duration": 22,
    "start_time": "2024-09-28T03:13:25.597Z"
   },
   {
    "duration": 11,
    "start_time": "2024-09-28T03:13:25.622Z"
   },
   {
    "duration": 7,
    "start_time": "2024-09-28T03:13:25.634Z"
   },
   {
    "duration": 46,
    "start_time": "2024-09-28T03:13:25.643Z"
   },
   {
    "duration": 14,
    "start_time": "2024-09-28T03:13:25.691Z"
   },
   {
    "duration": 26,
    "start_time": "2024-09-28T03:13:25.707Z"
   },
   {
    "duration": 10,
    "start_time": "2024-09-28T03:13:25.734Z"
   },
   {
    "duration": 13,
    "start_time": "2024-09-28T03:13:25.746Z"
   },
   {
    "duration": 40,
    "start_time": "2024-09-28T03:13:25.760Z"
   },
   {
    "duration": 14,
    "start_time": "2024-09-28T03:13:25.801Z"
   },
   {
    "duration": 22,
    "start_time": "2024-09-28T03:13:25.817Z"
   },
   {
    "duration": 62,
    "start_time": "2024-09-28T03:13:25.841Z"
   },
   {
    "duration": 11,
    "start_time": "2024-09-28T03:13:25.905Z"
   },
   {
    "duration": 11,
    "start_time": "2024-09-28T03:13:25.918Z"
   },
   {
    "duration": 2,
    "start_time": "2024-09-28T03:13:25.931Z"
   },
   {
    "duration": 3,
    "start_time": "2024-09-28T03:13:25.934Z"
   },
   {
    "duration": 3,
    "start_time": "2024-09-28T03:13:25.938Z"
   },
   {
    "duration": 2,
    "start_time": "2024-09-28T03:13:25.943Z"
   },
   {
    "duration": 1,
    "start_time": "2024-09-28T03:13:25.947Z"
   },
   {
    "duration": 37,
    "start_time": "2024-09-28T03:13:25.950Z"
   },
   {
    "duration": 3,
    "start_time": "2024-09-28T03:13:25.992Z"
   },
   {
    "duration": 223,
    "start_time": "2024-09-28T03:13:35.808Z"
   },
   {
    "duration": 3,
    "start_time": "2024-09-28T03:20:01.864Z"
   },
   {
    "duration": 3,
    "start_time": "2024-09-28T03:20:55.687Z"
   },
   {
    "duration": 6,
    "start_time": "2024-09-28T03:21:04.009Z"
   },
   {
    "duration": 127,
    "start_time": "2024-09-28T03:21:17.927Z"
   },
   {
    "duration": 142,
    "start_time": "2024-09-28T03:21:45.708Z"
   },
   {
    "duration": 11,
    "start_time": "2024-09-28T03:22:07.362Z"
   },
   {
    "duration": 8,
    "start_time": "2024-09-28T03:22:16.748Z"
   },
   {
    "duration": 114,
    "start_time": "2024-09-28T03:22:39.316Z"
   },
   {
    "duration": 168,
    "start_time": "2024-09-28T03:23:39.824Z"
   },
   {
    "duration": 156,
    "start_time": "2024-09-28T03:23:57.749Z"
   },
   {
    "duration": 161,
    "start_time": "2024-09-28T03:29:02.230Z"
   },
   {
    "duration": 158,
    "start_time": "2024-09-28T03:29:38.895Z"
   },
   {
    "duration": 159,
    "start_time": "2024-09-28T03:31:27.052Z"
   },
   {
    "duration": 173,
    "start_time": "2024-09-28T03:32:07.820Z"
   },
   {
    "duration": 161,
    "start_time": "2024-09-28T03:32:26.684Z"
   },
   {
    "duration": 7,
    "start_time": "2024-09-28T03:32:40.097Z"
   },
   {
    "duration": 4,
    "start_time": "2024-09-28T03:33:12.586Z"
   },
   {
    "duration": 158,
    "start_time": "2024-09-28T03:34:39.550Z"
   },
   {
    "duration": 165,
    "start_time": "2024-09-28T03:36:56.873Z"
   },
   {
    "duration": 161,
    "start_time": "2024-09-28T03:37:10.571Z"
   },
   {
    "duration": 244,
    "start_time": "2024-09-28T03:39:21.626Z"
   },
   {
    "duration": 23,
    "start_time": "2024-09-28T03:39:39.690Z"
   },
   {
    "duration": 144,
    "start_time": "2024-09-28T03:39:49.793Z"
   },
   {
    "duration": 6,
    "start_time": "2024-09-28T03:40:09.212Z"
   },
   {
    "duration": 666,
    "start_time": "2024-09-28T03:40:16.643Z"
   },
   {
    "duration": 278,
    "start_time": "2024-09-28T03:41:04.618Z"
   },
   {
    "duration": 190,
    "start_time": "2024-09-28T03:41:28.974Z"
   },
   {
    "duration": 744,
    "start_time": "2024-09-28T03:41:45.582Z"
   },
   {
    "duration": 160,
    "start_time": "2024-09-28T03:41:46.328Z"
   },
   {
    "duration": 11,
    "start_time": "2024-09-28T03:41:46.489Z"
   },
   {
    "duration": 8,
    "start_time": "2024-09-28T03:41:46.503Z"
   },
   {
    "duration": 9,
    "start_time": "2024-09-28T03:41:46.513Z"
   },
   {
    "duration": 9,
    "start_time": "2024-09-28T03:41:46.523Z"
   },
   {
    "duration": 11,
    "start_time": "2024-09-28T03:41:46.534Z"
   },
   {
    "duration": 43,
    "start_time": "2024-09-28T03:41:46.547Z"
   },
   {
    "duration": 9,
    "start_time": "2024-09-28T03:41:46.592Z"
   },
   {
    "duration": 15,
    "start_time": "2024-09-28T03:41:46.604Z"
   },
   {
    "duration": 10,
    "start_time": "2024-09-28T03:41:46.621Z"
   },
   {
    "duration": 55,
    "start_time": "2024-09-28T03:41:46.632Z"
   },
   {
    "duration": 8,
    "start_time": "2024-09-28T03:41:46.688Z"
   },
   {
    "duration": 8,
    "start_time": "2024-09-28T03:41:46.697Z"
   },
   {
    "duration": 11,
    "start_time": "2024-09-28T03:41:46.706Z"
   },
   {
    "duration": 8,
    "start_time": "2024-09-28T03:41:46.719Z"
   },
   {
    "duration": 16,
    "start_time": "2024-09-28T03:41:46.729Z"
   },
   {
    "duration": 41,
    "start_time": "2024-09-28T03:41:46.747Z"
   },
   {
    "duration": 14,
    "start_time": "2024-09-28T03:41:46.790Z"
   },
   {
    "duration": 10,
    "start_time": "2024-09-28T03:41:46.806Z"
   },
   {
    "duration": 22,
    "start_time": "2024-09-28T03:41:46.817Z"
   },
   {
    "duration": 11,
    "start_time": "2024-09-28T03:41:46.840Z"
   },
   {
    "duration": 39,
    "start_time": "2024-09-28T03:41:46.853Z"
   },
   {
    "duration": 19,
    "start_time": "2024-09-28T03:41:46.894Z"
   },
   {
    "duration": 15,
    "start_time": "2024-09-28T03:41:46.914Z"
   },
   {
    "duration": 25,
    "start_time": "2024-09-28T03:41:46.930Z"
   },
   {
    "duration": 35,
    "start_time": "2024-09-28T03:41:46.957Z"
   },
   {
    "duration": 12,
    "start_time": "2024-09-28T03:41:46.996Z"
   },
   {
    "duration": 14,
    "start_time": "2024-09-28T03:41:47.010Z"
   },
   {
    "duration": 14,
    "start_time": "2024-09-28T03:41:47.026Z"
   },
   {
    "duration": 54,
    "start_time": "2024-09-28T03:41:47.042Z"
   },
   {
    "duration": 42,
    "start_time": "2024-09-28T03:41:47.097Z"
   },
   {
    "duration": 12,
    "start_time": "2024-09-28T03:41:47.141Z"
   },
   {
    "duration": 212,
    "start_time": "2024-09-28T03:41:47.155Z"
   },
   {
    "duration": 945,
    "start_time": "2024-09-28T03:41:47.369Z"
   },
   {
    "duration": 0,
    "start_time": "2024-09-28T03:41:48.316Z"
   },
   {
    "duration": 0,
    "start_time": "2024-09-28T03:41:48.317Z"
   },
   {
    "duration": 0,
    "start_time": "2024-09-28T03:41:48.319Z"
   },
   {
    "duration": 0,
    "start_time": "2024-09-28T03:41:48.321Z"
   },
   {
    "duration": 0,
    "start_time": "2024-09-28T03:41:48.322Z"
   },
   {
    "duration": 142,
    "start_time": "2024-09-28T03:42:07.897Z"
   },
   {
    "duration": 6,
    "start_time": "2024-09-28T03:42:36.398Z"
   },
   {
    "duration": 138,
    "start_time": "2024-09-28T03:43:26.034Z"
   },
   {
    "duration": 181,
    "start_time": "2024-09-28T03:43:58.926Z"
   },
   {
    "duration": 169,
    "start_time": "2024-09-28T03:44:25.965Z"
   },
   {
    "duration": 174,
    "start_time": "2024-09-28T03:45:10.064Z"
   },
   {
    "duration": 175,
    "start_time": "2024-09-28T03:45:45.276Z"
   },
   {
    "duration": 169,
    "start_time": "2024-09-28T03:46:02.634Z"
   },
   {
    "duration": 196,
    "start_time": "2024-09-28T03:46:29.620Z"
   },
   {
    "duration": 144,
    "start_time": "2024-09-28T03:46:34.918Z"
   },
   {
    "duration": 343,
    "start_time": "2024-09-28T03:46:55.112Z"
   },
   {
    "duration": 198,
    "start_time": "2024-09-28T03:47:10.405Z"
   },
   {
    "duration": 137,
    "start_time": "2024-09-28T03:47:17.080Z"
   },
   {
    "duration": 146,
    "start_time": "2024-09-28T03:47:38.804Z"
   },
   {
    "duration": 144,
    "start_time": "2024-09-28T03:47:46.334Z"
   },
   {
    "duration": 140,
    "start_time": "2024-09-28T03:48:54.676Z"
   },
   {
    "duration": 182,
    "start_time": "2024-09-28T03:49:31.107Z"
   },
   {
    "duration": 187,
    "start_time": "2024-09-28T03:49:45.984Z"
   },
   {
    "duration": 227,
    "start_time": "2024-09-28T03:49:56.339Z"
   },
   {
    "duration": 168,
    "start_time": "2024-09-28T03:50:04.804Z"
   },
   {
    "duration": 4,
    "start_time": "2024-09-28T03:57:28.420Z"
   },
   {
    "duration": 4,
    "start_time": "2024-09-28T03:58:55.261Z"
   },
   {
    "duration": 4,
    "start_time": "2024-09-28T03:59:01.103Z"
   },
   {
    "duration": 4,
    "start_time": "2024-09-28T03:59:26.400Z"
   },
   {
    "duration": 214,
    "start_time": "2024-09-28T04:02:03.254Z"
   },
   {
    "duration": 87,
    "start_time": "2024-09-28T04:02:21.936Z"
   },
   {
    "duration": 108,
    "start_time": "2024-09-28T04:02:53.547Z"
   },
   {
    "duration": 15,
    "start_time": "2024-09-28T04:03:26.863Z"
   },
   {
    "duration": 121,
    "start_time": "2024-09-28T04:03:37.785Z"
   },
   {
    "duration": 96,
    "start_time": "2024-09-28T04:05:54.850Z"
   },
   {
    "duration": 108,
    "start_time": "2024-09-28T04:06:07.649Z"
   },
   {
    "duration": 165,
    "start_time": "2024-09-28T04:11:12.020Z"
   },
   {
    "duration": 165,
    "start_time": "2024-09-28T04:11:17.952Z"
   },
   {
    "duration": 61,
    "start_time": "2024-09-28T04:12:00.020Z"
   },
   {
    "duration": 168,
    "start_time": "2024-09-28T04:12:00.283Z"
   },
   {
    "duration": 4,
    "start_time": "2024-09-28T04:12:07.062Z"
   },
   {
    "duration": 884,
    "start_time": "2024-09-28T04:12:24.106Z"
   },
   {
    "duration": 156,
    "start_time": "2024-09-28T04:12:24.993Z"
   },
   {
    "duration": 10,
    "start_time": "2024-09-28T04:12:25.151Z"
   },
   {
    "duration": 9,
    "start_time": "2024-09-28T04:12:25.163Z"
   },
   {
    "duration": 10,
    "start_time": "2024-09-28T04:12:25.186Z"
   },
   {
    "duration": 8,
    "start_time": "2024-09-28T04:12:25.198Z"
   },
   {
    "duration": 10,
    "start_time": "2024-09-28T04:12:25.208Z"
   },
   {
    "duration": 10,
    "start_time": "2024-09-28T04:12:25.220Z"
   },
   {
    "duration": 10,
    "start_time": "2024-09-28T04:12:25.231Z"
   },
   {
    "duration": 50,
    "start_time": "2024-09-28T04:12:25.242Z"
   },
   {
    "duration": 10,
    "start_time": "2024-09-28T04:12:25.294Z"
   },
   {
    "duration": 26,
    "start_time": "2024-09-28T04:12:25.306Z"
   },
   {
    "duration": 8,
    "start_time": "2024-09-28T04:12:25.334Z"
   },
   {
    "duration": 8,
    "start_time": "2024-09-28T04:12:25.346Z"
   },
   {
    "duration": 41,
    "start_time": "2024-09-28T04:12:25.355Z"
   },
   {
    "duration": 9,
    "start_time": "2024-09-28T04:12:25.398Z"
   },
   {
    "duration": 16,
    "start_time": "2024-09-28T04:12:25.409Z"
   },
   {
    "duration": 9,
    "start_time": "2024-09-28T04:12:25.426Z"
   },
   {
    "duration": 13,
    "start_time": "2024-09-28T04:12:25.437Z"
   },
   {
    "duration": 42,
    "start_time": "2024-09-28T04:12:25.452Z"
   },
   {
    "duration": 21,
    "start_time": "2024-09-28T04:12:25.496Z"
   },
   {
    "duration": 11,
    "start_time": "2024-09-28T04:12:25.519Z"
   },
   {
    "duration": 8,
    "start_time": "2024-09-28T04:12:25.532Z"
   },
   {
    "duration": 46,
    "start_time": "2024-09-28T04:12:25.542Z"
   },
   {
    "duration": 14,
    "start_time": "2024-09-28T04:12:25.590Z"
   },
   {
    "duration": 25,
    "start_time": "2024-09-28T04:12:25.606Z"
   },
   {
    "duration": 10,
    "start_time": "2024-09-28T04:12:25.633Z"
   },
   {
    "duration": 13,
    "start_time": "2024-09-28T04:12:25.645Z"
   },
   {
    "duration": 14,
    "start_time": "2024-09-28T04:12:25.688Z"
   },
   {
    "duration": 14,
    "start_time": "2024-09-28T04:12:25.704Z"
   },
   {
    "duration": 22,
    "start_time": "2024-09-28T04:12:25.720Z"
   },
   {
    "duration": 57,
    "start_time": "2024-09-28T04:12:25.744Z"
   },
   {
    "duration": 317,
    "start_time": "2024-09-28T04:12:25.803Z"
   },
   {
    "duration": 0,
    "start_time": "2024-09-28T04:12:26.122Z"
   },
   {
    "duration": 0,
    "start_time": "2024-09-28T04:12:26.123Z"
   },
   {
    "duration": 0,
    "start_time": "2024-09-28T04:12:26.125Z"
   },
   {
    "duration": 0,
    "start_time": "2024-09-28T04:12:26.126Z"
   },
   {
    "duration": 0,
    "start_time": "2024-09-28T04:12:26.128Z"
   },
   {
    "duration": 0,
    "start_time": "2024-09-28T04:12:26.129Z"
   },
   {
    "duration": 0,
    "start_time": "2024-09-28T04:12:26.130Z"
   },
   {
    "duration": 175,
    "start_time": "2024-09-28T04:12:47.874Z"
   },
   {
    "duration": 4,
    "start_time": "2024-09-28T04:13:10.246Z"
   },
   {
    "duration": 113,
    "start_time": "2024-09-28T04:13:10.430Z"
   },
   {
    "duration": 5,
    "start_time": "2024-09-28T04:15:06.764Z"
   },
   {
    "duration": 5,
    "start_time": "2024-09-28T04:15:27.591Z"
   },
   {
    "duration": 6,
    "start_time": "2024-09-28T04:15:59.315Z"
   },
   {
    "duration": 8,
    "start_time": "2024-09-28T04:16:19.066Z"
   },
   {
    "duration": 7,
    "start_time": "2024-09-28T04:16:37.760Z"
   },
   {
    "duration": 7,
    "start_time": "2024-09-28T04:22:08.020Z"
   },
   {
    "duration": 126,
    "start_time": "2024-09-28T04:22:13.301Z"
   },
   {
    "duration": 182,
    "start_time": "2024-09-28T04:23:54.146Z"
   },
   {
    "duration": 11,
    "start_time": "2024-09-28T04:26:06.230Z"
   },
   {
    "duration": 161,
    "start_time": "2024-09-28T04:27:28.781Z"
   },
   {
    "duration": 5,
    "start_time": "2024-09-28T04:28:15.417Z"
   },
   {
    "duration": 158,
    "start_time": "2024-09-28T04:28:39.470Z"
   },
   {
    "duration": 7,
    "start_time": "2024-09-28T04:33:01.422Z"
   },
   {
    "duration": 117,
    "start_time": "2024-09-28T04:33:33.815Z"
   },
   {
    "duration": 8,
    "start_time": "2024-09-28T04:35:04.712Z"
   },
   {
    "duration": 100,
    "start_time": "2024-09-28T04:37:11.920Z"
   },
   {
    "duration": 113,
    "start_time": "2024-09-28T04:37:19.659Z"
   },
   {
    "duration": 7,
    "start_time": "2024-09-28T04:38:18.166Z"
   },
   {
    "duration": 8,
    "start_time": "2024-09-28T04:38:37.539Z"
   },
   {
    "duration": 8,
    "start_time": "2024-09-28T04:39:33.474Z"
   },
   {
    "duration": 8,
    "start_time": "2024-09-28T04:40:05.281Z"
   },
   {
    "duration": 9,
    "start_time": "2024-09-28T04:40:16.908Z"
   },
   {
    "duration": 6,
    "start_time": "2024-09-28T04:42:11.146Z"
   },
   {
    "duration": 9,
    "start_time": "2024-09-28T04:42:33.362Z"
   },
   {
    "duration": 9,
    "start_time": "2024-09-28T04:42:53.695Z"
   },
   {
    "duration": 8,
    "start_time": "2024-09-28T04:44:27.013Z"
   },
   {
    "duration": 95,
    "start_time": "2024-09-28T04:48:06.576Z"
   },
   {
    "duration": 178,
    "start_time": "2024-09-28T04:48:20.775Z"
   },
   {
    "duration": 11,
    "start_time": "2024-09-28T04:49:48.739Z"
   },
   {
    "duration": 638,
    "start_time": "2024-09-28T04:50:44.741Z"
   },
   {
    "duration": 171,
    "start_time": "2024-09-28T04:50:53.670Z"
   },
   {
    "duration": 5,
    "start_time": "2024-09-28T04:52:05.320Z"
   },
   {
    "duration": 191,
    "start_time": "2024-09-28T04:52:39.877Z"
   },
   {
    "duration": 194,
    "start_time": "2024-09-28T04:52:56.516Z"
   },
   {
    "duration": 316,
    "start_time": "2024-09-28T04:53:07.848Z"
   },
   {
    "duration": 190,
    "start_time": "2024-09-28T04:53:31.342Z"
   },
   {
    "duration": 158,
    "start_time": "2024-09-28T04:54:39.197Z"
   },
   {
    "duration": 8,
    "start_time": "2024-09-28T04:56:13.077Z"
   },
   {
    "duration": 130,
    "start_time": "2024-09-28T04:56:33.129Z"
   },
   {
    "duration": 108,
    "start_time": "2024-09-28T04:56:42.291Z"
   },
   {
    "duration": 157,
    "start_time": "2024-09-28T05:01:57.882Z"
   },
   {
    "duration": 154,
    "start_time": "2024-09-28T05:02:25.893Z"
   },
   {
    "duration": 158,
    "start_time": "2024-09-28T05:02:46.952Z"
   },
   {
    "duration": 9,
    "start_time": "2024-09-28T05:04:00.944Z"
   },
   {
    "duration": 109,
    "start_time": "2024-09-28T05:04:19.386Z"
   },
   {
    "duration": 21,
    "start_time": "2024-09-28T05:38:26.373Z"
   },
   {
    "duration": 9,
    "start_time": "2024-09-28T05:39:29.703Z"
   },
   {
    "duration": 40,
    "start_time": "2024-09-28T05:40:40.926Z"
   },
   {
    "duration": 8,
    "start_time": "2024-09-28T05:43:25.177Z"
   },
   {
    "duration": 7,
    "start_time": "2024-09-28T05:50:34.600Z"
   },
   {
    "duration": 19,
    "start_time": "2024-09-28T05:50:52.105Z"
   },
   {
    "duration": 8,
    "start_time": "2024-09-28T05:51:25.303Z"
   },
   {
    "duration": 7,
    "start_time": "2024-09-28T05:56:50.249Z"
   },
   {
    "duration": 4,
    "start_time": "2024-09-28T05:56:51.491Z"
   },
   {
    "duration": 10,
    "start_time": "2024-09-28T06:03:10.976Z"
   },
   {
    "duration": 7,
    "start_time": "2024-09-28T06:04:57.436Z"
   },
   {
    "duration": 5,
    "start_time": "2024-09-28T06:05:19.594Z"
   },
   {
    "duration": 8,
    "start_time": "2024-09-28T06:08:30.850Z"
   },
   {
    "duration": 7,
    "start_time": "2024-09-28T06:08:41.346Z"
   },
   {
    "duration": 7,
    "start_time": "2024-09-28T06:08:45.890Z"
   },
   {
    "duration": 13,
    "start_time": "2024-09-28T06:12:08.154Z"
   },
   {
    "duration": 12,
    "start_time": "2024-09-28T06:14:05.636Z"
   },
   {
    "duration": 23,
    "start_time": "2024-09-28T06:14:22.891Z"
   },
   {
    "duration": 11,
    "start_time": "2024-09-28T06:14:36.604Z"
   },
   {
    "duration": 12,
    "start_time": "2024-09-28T06:14:48.454Z"
   },
   {
    "duration": 12,
    "start_time": "2024-09-28T06:15:01.775Z"
   },
   {
    "duration": 3,
    "start_time": "2024-09-28T06:21:24.845Z"
   },
   {
    "duration": 4,
    "start_time": "2024-09-28T06:21:45.469Z"
   },
   {
    "duration": 498,
    "start_time": "2024-09-28T06:24:00.355Z"
   },
   {
    "duration": 73,
    "start_time": "2024-09-28T06:24:47.985Z"
   },
   {
    "duration": 3,
    "start_time": "2024-09-28T06:24:58.002Z"
   },
   {
    "duration": 77,
    "start_time": "2024-09-28T06:25:09.299Z"
   },
   {
    "duration": 725,
    "start_time": "2024-09-28T06:25:28.472Z"
   },
   {
    "duration": 161,
    "start_time": "2024-09-28T06:25:29.199Z"
   },
   {
    "duration": 10,
    "start_time": "2024-09-28T06:25:29.363Z"
   },
   {
    "duration": 12,
    "start_time": "2024-09-28T06:25:29.375Z"
   },
   {
    "duration": 9,
    "start_time": "2024-09-28T06:25:29.390Z"
   },
   {
    "duration": 8,
    "start_time": "2024-09-28T06:25:29.400Z"
   },
   {
    "duration": 12,
    "start_time": "2024-09-28T06:25:29.410Z"
   },
   {
    "duration": 9,
    "start_time": "2024-09-28T06:25:29.424Z"
   },
   {
    "duration": 9,
    "start_time": "2024-09-28T06:25:29.435Z"
   },
   {
    "duration": 52,
    "start_time": "2024-09-28T06:25:29.446Z"
   },
   {
    "duration": 9,
    "start_time": "2024-09-28T06:25:29.500Z"
   },
   {
    "duration": 26,
    "start_time": "2024-09-28T06:25:29.511Z"
   },
   {
    "duration": 8,
    "start_time": "2024-09-28T06:25:29.539Z"
   },
   {
    "duration": 35,
    "start_time": "2024-09-28T06:25:29.551Z"
   },
   {
    "duration": 13,
    "start_time": "2024-09-28T06:25:29.588Z"
   },
   {
    "duration": 10,
    "start_time": "2024-09-28T06:25:29.602Z"
   },
   {
    "duration": 16,
    "start_time": "2024-09-28T06:25:29.613Z"
   },
   {
    "duration": 10,
    "start_time": "2024-09-28T06:25:29.631Z"
   },
   {
    "duration": 12,
    "start_time": "2024-09-28T06:25:29.643Z"
   },
   {
    "duration": 10,
    "start_time": "2024-09-28T06:25:29.686Z"
   },
   {
    "duration": 22,
    "start_time": "2024-09-28T06:25:29.697Z"
   },
   {
    "duration": 11,
    "start_time": "2024-09-28T06:25:29.720Z"
   },
   {
    "duration": 6,
    "start_time": "2024-09-28T06:25:29.733Z"
   },
   {
    "duration": 47,
    "start_time": "2024-09-28T06:25:29.741Z"
   },
   {
    "duration": 16,
    "start_time": "2024-09-28T06:25:29.789Z"
   },
   {
    "duration": 24,
    "start_time": "2024-09-28T06:25:29.806Z"
   },
   {
    "duration": 11,
    "start_time": "2024-09-28T06:25:29.832Z"
   },
   {
    "duration": 11,
    "start_time": "2024-09-28T06:25:29.845Z"
   },
   {
    "duration": 14,
    "start_time": "2024-09-28T06:25:29.886Z"
   },
   {
    "duration": 14,
    "start_time": "2024-09-28T06:25:29.902Z"
   },
   {
    "duration": 22,
    "start_time": "2024-09-28T06:25:29.917Z"
   },
   {
    "duration": 52,
    "start_time": "2024-09-28T06:25:29.941Z"
   },
   {
    "duration": 200,
    "start_time": "2024-09-28T06:25:29.995Z"
   },
   {
    "duration": 175,
    "start_time": "2024-09-28T06:25:30.197Z"
   },
   {
    "duration": 15,
    "start_time": "2024-09-28T06:25:30.374Z"
   },
   {
    "duration": 116,
    "start_time": "2024-09-28T06:25:30.391Z"
   },
   {
    "duration": 211,
    "start_time": "2024-09-28T06:25:30.509Z"
   },
   {
    "duration": 8,
    "start_time": "2024-09-28T06:25:30.722Z"
   },
   {
    "duration": 128,
    "start_time": "2024-09-28T06:25:30.732Z"
   },
   {
    "duration": 161,
    "start_time": "2024-09-28T06:25:30.862Z"
   },
   {
    "duration": 7,
    "start_time": "2024-09-28T06:25:31.029Z"
   },
   {
    "duration": 128,
    "start_time": "2024-09-28T06:25:31.038Z"
   },
   {
    "duration": 162,
    "start_time": "2024-09-28T06:25:31.168Z"
   },
   {
    "duration": 10,
    "start_time": "2024-09-28T06:25:31.332Z"
   },
   {
    "duration": 129,
    "start_time": "2024-09-28T06:25:31.343Z"
   },
   {
    "duration": 229,
    "start_time": "2024-09-28T06:25:31.474Z"
   },
   {
    "duration": 0,
    "start_time": "2024-09-28T06:25:31.705Z"
   },
   {
    "duration": 0,
    "start_time": "2024-09-28T06:25:31.706Z"
   },
   {
    "duration": 0,
    "start_time": "2024-09-28T06:25:31.707Z"
   },
   {
    "duration": 0,
    "start_time": "2024-09-28T06:25:31.709Z"
   },
   {
    "duration": 0,
    "start_time": "2024-09-28T06:25:31.710Z"
   },
   {
    "duration": 1076,
    "start_time": "2024-09-28T06:25:53.239Z"
   },
   {
    "duration": 73,
    "start_time": "2024-09-28T06:27:11.988Z"
   },
   {
    "duration": 36,
    "start_time": "2024-09-28T06:29:03.158Z"
   },
   {
    "duration": 9,
    "start_time": "2024-09-28T06:29:22.018Z"
   },
   {
    "duration": 5,
    "start_time": "2024-09-28T06:30:30.453Z"
   },
   {
    "duration": 7,
    "start_time": "2024-09-28T06:30:43.921Z"
   },
   {
    "duration": 16,
    "start_time": "2024-09-28T06:30:52.763Z"
   },
   {
    "duration": 16,
    "start_time": "2024-09-28T06:31:18.414Z"
   },
   {
    "duration": 18,
    "start_time": "2024-09-28T06:33:05.077Z"
   },
   {
    "duration": 744,
    "start_time": "2024-09-28T06:33:43.162Z"
   },
   {
    "duration": 160,
    "start_time": "2024-09-28T06:33:43.908Z"
   },
   {
    "duration": 9,
    "start_time": "2024-09-28T06:33:44.069Z"
   },
   {
    "duration": 14,
    "start_time": "2024-09-28T06:33:44.080Z"
   },
   {
    "duration": 9,
    "start_time": "2024-09-28T06:33:44.096Z"
   },
   {
    "duration": 8,
    "start_time": "2024-09-28T06:33:44.106Z"
   },
   {
    "duration": 15,
    "start_time": "2024-09-28T06:33:44.116Z"
   },
   {
    "duration": 9,
    "start_time": "2024-09-28T06:33:44.133Z"
   },
   {
    "duration": 43,
    "start_time": "2024-09-28T06:33:44.144Z"
   },
   {
    "duration": 16,
    "start_time": "2024-09-28T06:33:44.191Z"
   },
   {
    "duration": 9,
    "start_time": "2024-09-28T06:33:44.208Z"
   },
   {
    "duration": 26,
    "start_time": "2024-09-28T06:33:44.219Z"
   },
   {
    "duration": 8,
    "start_time": "2024-09-28T06:33:44.247Z"
   },
   {
    "duration": 36,
    "start_time": "2024-09-28T06:33:44.256Z"
   },
   {
    "duration": 12,
    "start_time": "2024-09-28T06:33:44.293Z"
   },
   {
    "duration": 7,
    "start_time": "2024-09-28T06:33:44.307Z"
   },
   {
    "duration": 16,
    "start_time": "2024-09-28T06:33:44.316Z"
   },
   {
    "duration": 10,
    "start_time": "2024-09-28T06:33:44.334Z"
   },
   {
    "duration": 43,
    "start_time": "2024-09-28T06:33:44.345Z"
   },
   {
    "duration": 10,
    "start_time": "2024-09-28T06:33:44.390Z"
   },
   {
    "duration": 22,
    "start_time": "2024-09-28T06:33:44.402Z"
   },
   {
    "duration": 11,
    "start_time": "2024-09-28T06:33:44.425Z"
   },
   {
    "duration": 7,
    "start_time": "2024-09-28T06:33:44.438Z"
   },
   {
    "duration": 52,
    "start_time": "2024-09-28T06:33:44.447Z"
   },
   {
    "duration": 16,
    "start_time": "2024-09-28T06:33:44.500Z"
   },
   {
    "duration": 24,
    "start_time": "2024-09-28T06:33:44.517Z"
   },
   {
    "duration": 10,
    "start_time": "2024-09-28T06:33:44.543Z"
   },
   {
    "duration": 37,
    "start_time": "2024-09-28T06:33:44.557Z"
   },
   {
    "duration": 14,
    "start_time": "2024-09-28T06:33:44.596Z"
   },
   {
    "duration": 14,
    "start_time": "2024-09-28T06:33:44.612Z"
   },
   {
    "duration": 22,
    "start_time": "2024-09-28T06:33:44.627Z"
   },
   {
    "duration": 65,
    "start_time": "2024-09-28T06:33:44.651Z"
   },
   {
    "duration": 181,
    "start_time": "2024-09-28T06:33:44.717Z"
   },
   {
    "duration": 179,
    "start_time": "2024-09-28T06:33:44.900Z"
   },
   {
    "duration": 8,
    "start_time": "2024-09-28T06:33:45.086Z"
   },
   {
    "duration": 121,
    "start_time": "2024-09-28T06:33:45.096Z"
   },
   {
    "duration": 223,
    "start_time": "2024-09-28T06:33:45.219Z"
   },
   {
    "duration": 9,
    "start_time": "2024-09-28T06:33:45.444Z"
   },
   {
    "duration": 129,
    "start_time": "2024-09-28T06:33:45.454Z"
   },
   {
    "duration": 162,
    "start_time": "2024-09-28T06:33:45.586Z"
   },
   {
    "duration": 8,
    "start_time": "2024-09-28T06:33:45.750Z"
   },
   {
    "duration": 131,
    "start_time": "2024-09-28T06:33:45.759Z"
   },
   {
    "duration": 166,
    "start_time": "2024-09-28T06:33:45.892Z"
   },
   {
    "duration": 10,
    "start_time": "2024-09-28T06:33:46.059Z"
   },
   {
    "duration": 121,
    "start_time": "2024-09-28T06:33:46.072Z"
   },
   {
    "duration": 227,
    "start_time": "2024-09-28T06:33:46.195Z"
   },
   {
    "duration": 0,
    "start_time": "2024-09-28T06:33:46.424Z"
   },
   {
    "duration": 0,
    "start_time": "2024-09-28T06:33:46.425Z"
   },
   {
    "duration": 0,
    "start_time": "2024-09-28T06:33:46.426Z"
   },
   {
    "duration": 0,
    "start_time": "2024-09-28T06:33:46.429Z"
   },
   {
    "duration": 0,
    "start_time": "2024-09-28T06:33:46.431Z"
   },
   {
    "duration": 31,
    "start_time": "2024-09-28T06:33:58.855Z"
   },
   {
    "duration": 17,
    "start_time": "2024-09-28T06:34:20.468Z"
   },
   {
    "duration": 11,
    "start_time": "2024-09-28T06:34:58.952Z"
   },
   {
    "duration": 22,
    "start_time": "2024-09-28T06:36:11.967Z"
   },
   {
    "duration": 85,
    "start_time": "2024-09-28T06:36:19.135Z"
   },
   {
    "duration": 32,
    "start_time": "2024-09-28T06:41:15.563Z"
   },
   {
    "duration": 5,
    "start_time": "2024-09-28T06:42:07.505Z"
   },
   {
    "duration": 4,
    "start_time": "2024-09-28T06:42:28.973Z"
   },
   {
    "duration": 4,
    "start_time": "2024-09-28T06:42:38.591Z"
   },
   {
    "duration": 14,
    "start_time": "2024-09-28T06:42:56.575Z"
   },
   {
    "duration": 14,
    "start_time": "2024-09-28T06:43:16.752Z"
   },
   {
    "duration": 15,
    "start_time": "2024-09-28T06:43:21.792Z"
   },
   {
    "duration": 4,
    "start_time": "2024-09-28T06:43:36.211Z"
   },
   {
    "duration": 14,
    "start_time": "2024-09-28T06:43:43.391Z"
   },
   {
    "duration": 11,
    "start_time": "2024-09-28T06:43:59.293Z"
   },
   {
    "duration": 16,
    "start_time": "2024-09-28T06:44:03.188Z"
   },
   {
    "duration": 6,
    "start_time": "2024-09-28T06:44:17.926Z"
   },
   {
    "duration": 25,
    "start_time": "2024-09-28T06:49:56.278Z"
   },
   {
    "duration": 13,
    "start_time": "2024-09-28T06:50:50.849Z"
   },
   {
    "duration": 16,
    "start_time": "2024-09-28T06:51:10.728Z"
   },
   {
    "duration": 17,
    "start_time": "2024-09-28T06:51:27.958Z"
   },
   {
    "duration": 762,
    "start_time": "2024-09-28T06:52:51.418Z"
   },
   {
    "duration": 157,
    "start_time": "2024-09-28T06:52:52.182Z"
   },
   {
    "duration": 8,
    "start_time": "2024-09-28T06:52:52.341Z"
   },
   {
    "duration": 9,
    "start_time": "2024-09-28T06:52:52.352Z"
   },
   {
    "duration": 24,
    "start_time": "2024-09-28T06:52:52.362Z"
   },
   {
    "duration": 8,
    "start_time": "2024-09-28T06:52:52.389Z"
   },
   {
    "duration": 11,
    "start_time": "2024-09-28T06:52:52.399Z"
   },
   {
    "duration": 9,
    "start_time": "2024-09-28T06:52:52.411Z"
   },
   {
    "duration": 9,
    "start_time": "2024-09-28T06:52:52.422Z"
   },
   {
    "duration": 15,
    "start_time": "2024-09-28T06:52:52.434Z"
   },
   {
    "duration": 44,
    "start_time": "2024-09-28T06:52:52.451Z"
   },
   {
    "duration": 26,
    "start_time": "2024-09-28T06:52:52.497Z"
   },
   {
    "duration": 8,
    "start_time": "2024-09-28T06:52:52.525Z"
   },
   {
    "duration": 7,
    "start_time": "2024-09-28T06:52:52.534Z"
   },
   {
    "duration": 11,
    "start_time": "2024-09-28T06:52:52.543Z"
   },
   {
    "duration": 37,
    "start_time": "2024-09-28T06:52:52.556Z"
   },
   {
    "duration": 17,
    "start_time": "2024-09-28T06:52:52.594Z"
   },
   {
    "duration": 9,
    "start_time": "2024-09-28T06:52:52.612Z"
   },
   {
    "duration": 15,
    "start_time": "2024-09-28T06:52:52.622Z"
   },
   {
    "duration": 9,
    "start_time": "2024-09-28T06:52:52.639Z"
   },
   {
    "duration": 53,
    "start_time": "2024-09-28T06:52:52.650Z"
   },
   {
    "duration": 11,
    "start_time": "2024-09-28T06:52:52.705Z"
   },
   {
    "duration": 7,
    "start_time": "2024-09-28T06:52:52.718Z"
   },
   {
    "duration": 18,
    "start_time": "2024-09-28T06:52:52.727Z"
   },
   {
    "duration": 44,
    "start_time": "2024-09-28T06:52:52.746Z"
   },
   {
    "duration": 25,
    "start_time": "2024-09-28T06:52:52.792Z"
   },
   {
    "duration": 11,
    "start_time": "2024-09-28T06:52:52.819Z"
   },
   {
    "duration": 12,
    "start_time": "2024-09-28T06:52:52.833Z"
   },
   {
    "duration": 40,
    "start_time": "2024-09-28T06:52:52.847Z"
   },
   {
    "duration": 18,
    "start_time": "2024-09-28T06:52:52.889Z"
   },
   {
    "duration": 23,
    "start_time": "2024-09-28T06:52:52.908Z"
   },
   {
    "duration": 54,
    "start_time": "2024-09-28T06:52:52.933Z"
   },
   {
    "duration": 206,
    "start_time": "2024-09-28T06:52:52.989Z"
   },
   {
    "duration": 174,
    "start_time": "2024-09-28T06:52:53.197Z"
   },
   {
    "duration": 20,
    "start_time": "2024-09-28T06:52:53.373Z"
   },
   {
    "duration": 123,
    "start_time": "2024-09-28T06:52:53.395Z"
   },
   {
    "duration": 224,
    "start_time": "2024-09-28T06:52:53.520Z"
   },
   {
    "duration": 9,
    "start_time": "2024-09-28T06:52:53.745Z"
   },
   {
    "duration": 125,
    "start_time": "2024-09-28T06:52:53.755Z"
   },
   {
    "duration": 184,
    "start_time": "2024-09-28T06:52:53.881Z"
   },
   {
    "duration": 21,
    "start_time": "2024-09-28T06:52:54.067Z"
   },
   {
    "duration": 121,
    "start_time": "2024-09-28T06:52:54.089Z"
   },
   {
    "duration": 165,
    "start_time": "2024-09-28T06:52:54.211Z"
   },
   {
    "duration": 13,
    "start_time": "2024-09-28T06:52:54.378Z"
   },
   {
    "duration": 116,
    "start_time": "2024-09-28T06:52:54.393Z"
   },
   {
    "duration": 7,
    "start_time": "2024-09-28T06:52:54.511Z"
   },
   {
    "duration": 4,
    "start_time": "2024-09-28T06:52:54.520Z"
   },
   {
    "duration": 6,
    "start_time": "2024-09-28T06:52:54.526Z"
   },
   {
    "duration": 13,
    "start_time": "2024-09-28T06:52:54.533Z"
   },
   {
    "duration": 4,
    "start_time": "2024-09-28T06:52:54.548Z"
   },
   {
    "duration": 34,
    "start_time": "2024-09-28T06:52:54.554Z"
   },
   {
    "duration": 5,
    "start_time": "2024-09-28T06:53:29.171Z"
   },
   {
    "duration": 5,
    "start_time": "2024-09-28T06:55:53.561Z"
   },
   {
    "duration": 792,
    "start_time": "2024-09-28T07:19:35.388Z"
   },
   {
    "duration": 153,
    "start_time": "2024-09-28T07:19:36.182Z"
   },
   {
    "duration": 10,
    "start_time": "2024-09-28T07:19:36.337Z"
   },
   {
    "duration": 9,
    "start_time": "2024-09-28T07:19:36.349Z"
   },
   {
    "duration": 8,
    "start_time": "2024-09-28T07:19:36.360Z"
   },
   {
    "duration": 22,
    "start_time": "2024-09-28T07:19:36.370Z"
   },
   {
    "duration": 11,
    "start_time": "2024-09-28T07:19:36.394Z"
   },
   {
    "duration": 10,
    "start_time": "2024-09-28T07:19:36.407Z"
   },
   {
    "duration": 9,
    "start_time": "2024-09-28T07:19:36.418Z"
   },
   {
    "duration": 16,
    "start_time": "2024-09-28T07:19:36.430Z"
   },
   {
    "duration": 40,
    "start_time": "2024-09-28T07:19:36.448Z"
   },
   {
    "duration": 27,
    "start_time": "2024-09-28T07:19:36.490Z"
   },
   {
    "duration": 7,
    "start_time": "2024-09-28T07:19:36.519Z"
   },
   {
    "duration": 7,
    "start_time": "2024-09-28T07:19:36.528Z"
   },
   {
    "duration": 11,
    "start_time": "2024-09-28T07:19:36.537Z"
   },
   {
    "duration": 42,
    "start_time": "2024-09-28T07:19:36.549Z"
   },
   {
    "duration": 17,
    "start_time": "2024-09-28T07:19:36.592Z"
   },
   {
    "duration": 9,
    "start_time": "2024-09-28T07:19:36.611Z"
   },
   {
    "duration": 14,
    "start_time": "2024-09-28T07:19:36.621Z"
   },
   {
    "duration": 9,
    "start_time": "2024-09-28T07:19:36.636Z"
   },
   {
    "duration": 53,
    "start_time": "2024-09-28T07:19:36.647Z"
   },
   {
    "duration": 11,
    "start_time": "2024-09-28T07:19:36.702Z"
   },
   {
    "duration": 8,
    "start_time": "2024-09-28T07:19:36.715Z"
   },
   {
    "duration": 18,
    "start_time": "2024-09-28T07:19:36.724Z"
   },
   {
    "duration": 44,
    "start_time": "2024-09-28T07:19:36.744Z"
   },
   {
    "duration": 25,
    "start_time": "2024-09-28T07:19:36.790Z"
   },
   {
    "duration": 12,
    "start_time": "2024-09-28T07:19:36.817Z"
   },
   {
    "duration": 11,
    "start_time": "2024-09-28T07:19:36.834Z"
   },
   {
    "duration": 40,
    "start_time": "2024-09-28T07:19:36.847Z"
   },
   {
    "duration": 15,
    "start_time": "2024-09-28T07:19:36.889Z"
   },
   {
    "duration": 22,
    "start_time": "2024-09-28T07:19:36.907Z"
   },
   {
    "duration": 32,
    "start_time": "2024-09-28T07:19:36.931Z"
   },
   {
    "duration": 198,
    "start_time": "2024-09-28T07:19:36.965Z"
   },
   {
    "duration": 176,
    "start_time": "2024-09-28T07:19:37.165Z"
   },
   {
    "duration": 8,
    "start_time": "2024-09-28T07:19:37.342Z"
   },
   {
    "duration": 124,
    "start_time": "2024-09-28T07:19:37.352Z"
   },
   {
    "duration": 215,
    "start_time": "2024-09-28T07:19:37.478Z"
   },
   {
    "duration": 8,
    "start_time": "2024-09-28T07:19:37.695Z"
   },
   {
    "duration": 130,
    "start_time": "2024-09-28T07:19:37.704Z"
   },
   {
    "duration": 172,
    "start_time": "2024-09-28T07:19:37.836Z"
   },
   {
    "duration": 8,
    "start_time": "2024-09-28T07:19:38.009Z"
   },
   {
    "duration": 127,
    "start_time": "2024-09-28T07:19:38.019Z"
   },
   {
    "duration": 164,
    "start_time": "2024-09-28T07:19:38.148Z"
   },
   {
    "duration": 8,
    "start_time": "2024-09-28T07:19:38.314Z"
   },
   {
    "duration": 120,
    "start_time": "2024-09-28T07:19:38.324Z"
   },
   {
    "duration": 7,
    "start_time": "2024-09-28T07:19:38.446Z"
   },
   {
    "duration": 4,
    "start_time": "2024-09-28T07:19:38.455Z"
   },
   {
    "duration": 26,
    "start_time": "2024-09-28T07:19:38.461Z"
   },
   {
    "duration": 13,
    "start_time": "2024-09-28T07:19:38.489Z"
   },
   {
    "duration": 5,
    "start_time": "2024-09-28T07:19:38.504Z"
   },
   {
    "duration": 792,
    "start_time": "2024-09-28T07:23:17.983Z"
   },
   {
    "duration": 158,
    "start_time": "2024-09-28T07:23:18.778Z"
   },
   {
    "duration": 9,
    "start_time": "2024-09-28T07:23:18.937Z"
   },
   {
    "duration": 10,
    "start_time": "2024-09-28T07:23:18.948Z"
   },
   {
    "duration": 9,
    "start_time": "2024-09-28T07:23:18.960Z"
   },
   {
    "duration": 21,
    "start_time": "2024-09-28T07:23:18.971Z"
   },
   {
    "duration": 11,
    "start_time": "2024-09-28T07:23:18.993Z"
   },
   {
    "duration": 9,
    "start_time": "2024-09-28T07:23:19.006Z"
   },
   {
    "duration": 10,
    "start_time": "2024-09-28T07:23:19.017Z"
   },
   {
    "duration": 14,
    "start_time": "2024-09-28T07:23:19.029Z"
   },
   {
    "duration": 47,
    "start_time": "2024-09-28T07:23:19.045Z"
   },
   {
    "duration": 28,
    "start_time": "2024-09-28T07:23:19.093Z"
   },
   {
    "duration": 8,
    "start_time": "2024-09-28T07:23:19.124Z"
   },
   {
    "duration": 7,
    "start_time": "2024-09-28T07:23:19.137Z"
   },
   {
    "duration": 13,
    "start_time": "2024-09-28T07:23:19.146Z"
   },
   {
    "duration": 8,
    "start_time": "2024-09-28T07:23:19.187Z"
   },
   {
    "duration": 18,
    "start_time": "2024-09-28T07:23:19.197Z"
   },
   {
    "duration": 9,
    "start_time": "2024-09-28T07:23:19.217Z"
   },
   {
    "duration": 13,
    "start_time": "2024-09-28T07:23:19.228Z"
   },
   {
    "duration": 9,
    "start_time": "2024-09-28T07:23:19.243Z"
   },
   {
    "duration": 51,
    "start_time": "2024-09-28T07:23:19.254Z"
   },
   {
    "duration": 11,
    "start_time": "2024-09-28T07:23:19.307Z"
   },
   {
    "duration": 7,
    "start_time": "2024-09-28T07:23:19.320Z"
   },
   {
    "duration": 17,
    "start_time": "2024-09-28T07:23:19.329Z"
   },
   {
    "duration": 46,
    "start_time": "2024-09-28T07:23:19.347Z"
   },
   {
    "duration": 24,
    "start_time": "2024-09-28T07:23:19.395Z"
   },
   {
    "duration": 11,
    "start_time": "2024-09-28T07:23:19.421Z"
   },
   {
    "duration": 13,
    "start_time": "2024-09-28T07:23:19.433Z"
   },
   {
    "duration": 44,
    "start_time": "2024-09-28T07:23:19.447Z"
   },
   {
    "duration": 14,
    "start_time": "2024-09-28T07:23:19.493Z"
   },
   {
    "duration": 22,
    "start_time": "2024-09-28T07:23:19.509Z"
   },
   {
    "duration": 55,
    "start_time": "2024-09-28T07:23:19.532Z"
   },
   {
    "duration": 176,
    "start_time": "2024-09-28T07:23:19.589Z"
   },
   {
    "duration": 176,
    "start_time": "2024-09-28T07:23:19.767Z"
   },
   {
    "duration": 8,
    "start_time": "2024-09-28T07:23:19.945Z"
   },
   {
    "duration": 125,
    "start_time": "2024-09-28T07:23:19.955Z"
   },
   {
    "duration": 216,
    "start_time": "2024-09-28T07:23:20.082Z"
   },
   {
    "duration": 12,
    "start_time": "2024-09-28T07:23:20.300Z"
   },
   {
    "duration": 131,
    "start_time": "2024-09-28T07:23:20.313Z"
   },
   {
    "duration": 169,
    "start_time": "2024-09-28T07:23:20.446Z"
   },
   {
    "duration": 8,
    "start_time": "2024-09-28T07:23:20.619Z"
   },
   {
    "duration": 130,
    "start_time": "2024-09-28T07:23:20.629Z"
   },
   {
    "duration": 165,
    "start_time": "2024-09-28T07:23:20.761Z"
   },
   {
    "duration": 8,
    "start_time": "2024-09-28T07:23:20.928Z"
   },
   {
    "duration": 115,
    "start_time": "2024-09-28T07:23:20.938Z"
   },
   {
    "duration": 7,
    "start_time": "2024-09-28T07:23:21.056Z"
   },
   {
    "duration": 3,
    "start_time": "2024-09-28T07:23:21.065Z"
   },
   {
    "duration": 6,
    "start_time": "2024-09-28T07:23:21.086Z"
   },
   {
    "duration": 13,
    "start_time": "2024-09-28T07:23:21.094Z"
   },
   {
    "duration": 5,
    "start_time": "2024-09-28T07:23:21.108Z"
   },
   {
    "duration": 844,
    "start_time": "2024-09-28T07:25:00.584Z"
   },
   {
    "duration": 170,
    "start_time": "2024-09-28T07:25:01.431Z"
   },
   {
    "duration": 10,
    "start_time": "2024-09-28T07:25:01.602Z"
   },
   {
    "duration": 11,
    "start_time": "2024-09-28T07:25:01.614Z"
   },
   {
    "duration": 9,
    "start_time": "2024-09-28T07:25:01.627Z"
   },
   {
    "duration": 8,
    "start_time": "2024-09-28T07:25:01.638Z"
   },
   {
    "duration": 11,
    "start_time": "2024-09-28T07:25:01.648Z"
   },
   {
    "duration": 10,
    "start_time": "2024-09-28T07:25:01.687Z"
   },
   {
    "duration": 9,
    "start_time": "2024-09-28T07:25:01.698Z"
   },
   {
    "duration": 15,
    "start_time": "2024-09-28T07:25:01.710Z"
   },
   {
    "duration": 12,
    "start_time": "2024-09-28T07:25:01.727Z"
   },
   {
    "duration": 56,
    "start_time": "2024-09-28T07:25:01.741Z"
   },
   {
    "duration": 8,
    "start_time": "2024-09-28T07:25:01.799Z"
   },
   {
    "duration": 7,
    "start_time": "2024-09-28T07:25:01.808Z"
   },
   {
    "duration": 11,
    "start_time": "2024-09-28T07:25:01.816Z"
   },
   {
    "duration": 8,
    "start_time": "2024-09-28T07:25:01.829Z"
   },
   {
    "duration": 48,
    "start_time": "2024-09-28T07:25:01.839Z"
   },
   {
    "duration": 10,
    "start_time": "2024-09-28T07:25:01.888Z"
   },
   {
    "duration": 13,
    "start_time": "2024-09-28T07:25:01.900Z"
   },
   {
    "duration": 9,
    "start_time": "2024-09-28T07:25:01.914Z"
   },
   {
    "duration": 22,
    "start_time": "2024-09-28T07:25:01.926Z"
   },
   {
    "duration": 44,
    "start_time": "2024-09-28T07:25:01.950Z"
   },
   {
    "duration": 7,
    "start_time": "2024-09-28T07:25:01.995Z"
   },
   {
    "duration": 19,
    "start_time": "2024-09-28T07:25:02.004Z"
   },
   {
    "duration": 16,
    "start_time": "2024-09-28T07:25:02.024Z"
   },
   {
    "duration": 54,
    "start_time": "2024-09-28T07:25:02.042Z"
   },
   {
    "duration": 11,
    "start_time": "2024-09-28T07:25:02.099Z"
   },
   {
    "duration": 11,
    "start_time": "2024-09-28T07:25:02.115Z"
   },
   {
    "duration": 15,
    "start_time": "2024-09-28T07:25:02.127Z"
   },
   {
    "duration": 42,
    "start_time": "2024-09-28T07:25:02.144Z"
   },
   {
    "duration": 22,
    "start_time": "2024-09-28T07:25:02.189Z"
   },
   {
    "duration": 33,
    "start_time": "2024-09-28T07:25:02.213Z"
   },
   {
    "duration": 193,
    "start_time": "2024-09-28T07:25:02.248Z"
   },
   {
    "duration": 185,
    "start_time": "2024-09-28T07:25:02.442Z"
   },
   {
    "duration": 8,
    "start_time": "2024-09-28T07:25:02.629Z"
   },
   {
    "duration": 126,
    "start_time": "2024-09-28T07:25:02.638Z"
   },
   {
    "duration": 214,
    "start_time": "2024-09-28T07:25:02.766Z"
   },
   {
    "duration": 11,
    "start_time": "2024-09-28T07:25:02.982Z"
   },
   {
    "duration": 127,
    "start_time": "2024-09-28T07:25:02.994Z"
   },
   {
    "duration": 188,
    "start_time": "2024-09-28T07:25:03.125Z"
   },
   {
    "duration": 9,
    "start_time": "2024-09-28T07:25:03.314Z"
   },
   {
    "duration": 129,
    "start_time": "2024-09-28T07:25:03.325Z"
   },
   {
    "duration": 168,
    "start_time": "2024-09-28T07:25:03.457Z"
   },
   {
    "duration": 8,
    "start_time": "2024-09-28T07:25:03.628Z"
   },
   {
    "duration": 123,
    "start_time": "2024-09-28T07:25:03.637Z"
   },
   {
    "duration": 7,
    "start_time": "2024-09-28T07:25:03.762Z"
   },
   {
    "duration": 16,
    "start_time": "2024-09-28T07:25:03.770Z"
   },
   {
    "duration": 10,
    "start_time": "2024-09-28T07:25:03.788Z"
   },
   {
    "duration": 14,
    "start_time": "2024-09-28T07:25:03.800Z"
   },
   {
    "duration": 6,
    "start_time": "2024-09-28T07:25:03.815Z"
   }
  ],
  "colab": {
   "provenance": []
  },
  "kernelspec": {
   "display_name": "Python 3 (ipykernel)",
   "language": "python",
   "name": "python3"
  },
  "language_info": {
   "codemirror_mode": {
    "name": "ipython",
    "version": 3
   },
   "file_extension": ".py",
   "mimetype": "text/x-python",
   "name": "python",
   "nbconvert_exporter": "python",
   "pygments_lexer": "ipython3",
   "version": "3.12.4"
  },
  "toc": {
   "base_numbering": 1,
   "nav_menu": {},
   "number_sections": true,
   "sideBar": true,
   "skip_h1_title": false,
   "title_cell": "Table of Contents",
   "title_sidebar": "Contents",
   "toc_cell": false,
   "toc_position": {
    "height": "calc(100% - 180px)",
    "left": "10px",
    "top": "150px",
    "width": "255.825px"
   },
   "toc_section_display": true,
   "toc_window_display": true
  }
 },
 "nbformat": 4,
 "nbformat_minor": 4
}
